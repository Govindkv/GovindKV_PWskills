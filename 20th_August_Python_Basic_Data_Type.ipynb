{
 "cells": [
  {
   "cell_type": "code",
   "execution_count": 3,
   "id": "2509bab1-888e-4650-88e9-13e8fb78eff5",
   "metadata": {},
   "outputs": [
    {
     "name": "stdin",
     "output_type": "stream",
     "text": [
      "enter a string pwskills\n"
     ]
    },
    {
     "name": "stdout",
     "output_type": "stream",
     "text": [
      "sllikswp\n"
     ]
    }
   ],
   "source": [
    "'''Assignment 20th august (Python basic data type)\n",
    "Topic:- String based assignment problem'''\n",
    "#1.Write a program to reverse a string.\n",
    "s = input(\"enter a string\")\n",
    "r = s[::-1]\n",
    "print(r)"
   ]
  },
  {
   "cell_type": "code",
   "execution_count": 14,
   "id": "f377c155-8fa1-4cc3-af3b-d71557cf06cd",
   "metadata": {},
   "outputs": [
    {
     "name": "stdin",
     "output_type": "stream",
     "text": [
      "enter a string:- malayalam\n"
     ]
    }
   ],
   "source": [
    "#2.Check if a string is a palindrome.\n",
    "def ispalindrome(s):\n",
    "    if (s == s[::-1]):\n",
    "        return \"yes\"\n",
    "    else:\n",
    "        return \"no\"\n",
    "s = input(\"enter a string:-\")"
   ]
  },
  {
   "cell_type": "code",
   "execution_count": 15,
   "id": "4e775975-3d22-46c9-81cf-c1192a65bf10",
   "metadata": {},
   "outputs": [
    {
     "name": "stdout",
     "output_type": "stream",
     "text": [
      "yes\n"
     ]
    }
   ],
   "source": [
    "print(ispalindrome(s))"
   ]
  },
  {
   "cell_type": "code",
   "execution_count": 17,
   "id": "f5326590-3975-4721-ae57-c2cc80e3a278",
   "metadata": {},
   "outputs": [
    {
     "name": "stdin",
     "output_type": "stream",
     "text": [
      "enter a string:- assignment\n"
     ]
    },
    {
     "name": "stdout",
     "output_type": "stream",
     "text": [
      "ASSIGNMENT\n"
     ]
    }
   ],
   "source": [
    "#3.Convert a string to uppercase.\n",
    "s = input(\"enter a string:-\")\n",
    "s1 = s.upper()\n",
    "print(s1)"
   ]
  },
  {
   "cell_type": "code",
   "execution_count": 1,
   "id": "f5029685-8149-4630-b4c0-88bf8e7c8c03",
   "metadata": {},
   "outputs": [
    {
     "name": "stdin",
     "output_type": "stream",
     "text": [
      "enter a string:- ASSIGNMENT\n"
     ]
    },
    {
     "name": "stdout",
     "output_type": "stream",
     "text": [
      "assignment\n"
     ]
    }
   ],
   "source": [
    "#4.Convert a string to lowercase.\n",
    "s = input('enter a string:-')\n",
    "s1 = s.lower()\n",
    "print(s1)"
   ]
  },
  {
   "cell_type": "code",
   "execution_count": 14,
   "id": "91ff2766-c26a-47d8-99a7-d7141ba1a8d6",
   "metadata": {},
   "outputs": [
    {
     "name": "stdin",
     "output_type": "stream",
     "text": [
      "Enter a string Assignment\n"
     ]
    },
    {
     "name": "stdout",
     "output_type": "stream",
     "text": [
      "Number of vowels:  3\n"
     ]
    }
   ],
   "source": [
    "#5.Count the number of vowels in a string.\n",
    "string = input(\"Enter a string\")\n",
    "vowel_count = 0\n",
    "for char in string:\n",
    "    char_lower = char.lower()\n",
    "    if char_lower in \"aeiou\":\n",
    "        vowel_count += 1\n",
    "print(\"Number of vowels: \", vowel_count)"
   ]
  },
  {
   "cell_type": "code",
   "execution_count": 20,
   "id": "2b952d10-c6fa-4f42-aaf8-a484dfe5f3ee",
   "metadata": {},
   "outputs": [
    {
     "name": "stdin",
     "output_type": "stream",
     "text": [
      "Enter a string Assignment\n"
     ]
    },
    {
     "name": "stdout",
     "output_type": "stream",
     "text": [
      "Number of consonant:  7\n"
     ]
    }
   ],
   "source": [
    "#6.Count the number of consonants in a string.\n",
    "string = input(\"Enter a string\")\n",
    "consonant_count = 0\n",
    "for char in string:\n",
    "    char_lower = char.lower()\n",
    "    if char_lower in \"bcdfghjklmnpqrstvwxyz\":\n",
    "        consonant_count += 1\n",
    "print(\"Number of consonant: \", consonant_count)"
   ]
  },
  {
   "cell_type": "code",
   "execution_count": 33,
   "id": "b84f1787-16bd-4ea2-9a53-87f2f7245d63",
   "metadata": {},
   "outputs": [
    {
     "name": "stdin",
     "output_type": "stream",
     "text": [
      "Enter a string:  Python is a case sensitive language\n"
     ]
    },
    {
     "name": "stdout",
     "output_type": "stream",
     "text": [
      "Modified string without whitespace:  Pythonisacasesensitivelanguage\n"
     ]
    }
   ],
   "source": [
    "#7.Remove all whitespaces from a string.(Way 1)\n",
    "input_string = input(\"Enter a string: \")\n",
    "\n",
    "modified_string = \"\"\n",
    "\n",
    "for char in input_string:\n",
    "    \n",
    "    if char != \" \":\n",
    "        \n",
    "        modified_string += char\n",
    "        \n",
    "print(\"Modified string without whitespace: \", modified_string)"
   ]
  },
  {
   "cell_type": "code",
   "execution_count": 35,
   "id": "95676e9b-6632-40b8-bd73-b85f1da72f75",
   "metadata": {},
   "outputs": [
    {
     "name": "stdin",
     "output_type": "stream",
     "text": [
      "enter a string:  Pwskiils are upskilling in affordable prices\n"
     ]
    },
    {
     "name": "stdout",
     "output_type": "stream",
     "text": [
      "Pwskiilsareupskillinginaffordableprices\n"
     ]
    }
   ],
   "source": [
    "#(Way 2) or in different way:-\n",
    "s = input(\"enter a string: \")\n",
    "str_wout_whitspc = s.replace(\" \", \"\")\n",
    "print(str_wout_whitspc)"
   ]
  },
  {
   "cell_type": "code",
   "execution_count": 3,
   "id": "6ce36681-26a5-4c77-8086-225bea6a5126",
   "metadata": {},
   "outputs": [
    {
     "name": "stdin",
     "output_type": "stream",
     "text": [
      "Enter a string:  String length\n"
     ]
    },
    {
     "name": "stdout",
     "output_type": "stream",
     "text": [
      "Length of string:  13\n"
     ]
    }
   ],
   "source": [
    "#8.Find the length of a string without using the `len()` function.\n",
    "input_string = input(\"Enter a string: \")\n",
    "count_variable = 0\n",
    "for char in input_string:\n",
    "    count_variable += 1\n",
    "print(\"Length of string: \", count_variable)"
   ]
  },
  {
   "cell_type": "code",
   "execution_count": 28,
   "id": "c2eebdd0-a109-4b71-95c1-f0c95700c51c",
   "metadata": {},
   "outputs": [
    {
     "name": "stdin",
     "output_type": "stream",
     "text": [
      "Enter a string:  This was really tough took too much time\n"
     ]
    },
    {
     "name": "stdout",
     "output_type": "stream",
     "text": [
      "No\n"
     ]
    }
   ],
   "source": [
    "#9.Check if a string contains a specific word.\n",
    "s = input(\"Enter a string: \")\n",
    "z = s.find(\"for\")\n",
    "if z == -1:\n",
    "    print(\"No\")\n",
    "else:\n",
    "    print(\"Yes\")"
   ]
  },
  {
   "cell_type": "code",
   "execution_count": 29,
   "id": "ddd63d85-d0de-4ecd-921c-0bb2aff38320",
   "metadata": {},
   "outputs": [
    {
     "name": "stdin",
     "output_type": "stream",
     "text": [
      "Enter a string I and Pwskills are working for my upskilling.\n"
     ]
    },
    {
     "name": "stdout",
     "output_type": "stream",
     "text": [
      "I & Pwskills are working for my upskilling.\n"
     ]
    }
   ],
   "source": [
    "#10.Replace a word in a string with another word.\n",
    "input_str = input(\"Enter a string\")\n",
    "z = input_str.replace(\"and\", \"&\")\n",
    "print(z)"
   ]
  },
  {
   "cell_type": "code",
   "execution_count": 1,
   "id": "0c8c7316-7276-4edf-8439-5206cf291049",
   "metadata": {},
   "outputs": [
    {
     "name": "stdin",
     "output_type": "stream",
     "text": [
      "Enter a string:  Enter a string I and Pwskills are working for my upskilling. I & Pwskills are working for my upskilling.\n",
      "looking for:  Pwskills\n"
     ]
    },
    {
     "name": "stdout",
     "output_type": "stream",
     "text": [
      "Number of occurence of word:  2\n"
     ]
    }
   ],
   "source": [
    "#11.Count the occurence of word in a string.\n",
    "#step 1)Looking in the string:-\n",
    "input_str = input(\"Enter a string: \")\n",
    "#step 2) for which word you are searching:-\n",
    "input_str_count = input_str.count(input(\"looking for: \"))\n",
    "#step 3) how would you like to look the output:-\n",
    "print('Number of occurence of word: ', input_str_count)"
   ]
  },
  {
   "cell_type": "code",
   "execution_count": 13,
   "id": "dac64912-e8d0-4315-9941-838081320e12",
   "metadata": {},
   "outputs": [
    {
     "name": "stdin",
     "output_type": "stream",
     "text": [
      "Enter a string:  Find the first occurence of a word in a string\n",
      "searching for:  first\n"
     ]
    },
    {
     "name": "stdout",
     "output_type": "stream",
     "text": [
      "First occurence at index:-  9\n"
     ]
    }
   ],
   "source": [
    "#12.Find the first occurence of a word in a string.\n",
    "s = input(\"Enter a string: \")\n",
    "first_occur = s.find(input(\"searching for: \"))\n",
    "print(\"First occurence at index:- \", first_occur)"
   ]
  },
  {
   "cell_type": "code",
   "execution_count": 14,
   "id": "aa3c0df4-460a-42a6-9af6-07f35c6506bd",
   "metadata": {},
   "outputs": [
    {
     "name": "stdin",
     "output_type": "stream",
     "text": [
      "Enter a string:  Find the last occurrence of a word in a string\n",
      "searching for:  a\n"
     ]
    },
    {
     "name": "stdout",
     "output_type": "stream",
     "text": [
      "Last occurence at index:-  38\n"
     ]
    }
   ],
   "source": [
    "#13.Find the last occurrence of a word in a string.\n",
    "s = input(\"Enter a string: \")\n",
    "last_occur = s.rindex(input(\"searching for: \"))\n",
    "print(\"Last occurence at index:- \", last_occur)"
   ]
  },
  {
   "cell_type": "code",
   "execution_count": 16,
   "id": "88c7cb49-8718-47c0-a6e9-8d72076efa75",
   "metadata": {},
   "outputs": [
    {
     "name": "stdin",
     "output_type": "stream",
     "text": [
      "Enter a string:- Split a string into a list of words\n"
     ]
    },
    {
     "name": "stdout",
     "output_type": "stream",
     "text": [
      "List of words= ['Split', 'a', 'string', 'into', 'a', 'list', 'of', 'words']\n"
     ]
    }
   ],
   "source": [
    "#14.Split a string into a list of words.\n",
    "str_split = input(\"Enter a string:-\")\n",
    "x = str_split.split()\n",
    "print(\"List of words=\", x)"
   ]
  },
  {
   "cell_type": "code",
   "execution_count": 35,
   "id": "ac4902e6-a09d-4dec-af5f-4d509f1f9df1",
   "metadata": {},
   "outputs": [
    {
     "name": "stdout",
     "output_type": "stream",
     "text": [
      "Split a string into a list of words\n"
     ]
    }
   ],
   "source": [
    "#15.Join a list of words into a string.\n",
    "input_list = ['Split', 'a', 'string', 'into', 'a', 'list', 'of', 'words']\n",
    "\n",
    "#join elements of text with space\n",
    "print(' '.join(input_list))"
   ]
  },
  {
   "cell_type": "code",
   "execution_count": 11,
   "id": "ec2ef20a-3d12-43d4-b7bf-c9eb0b0c0c9c",
   "metadata": {},
   "outputs": [
    {
     "name": "stdin",
     "output_type": "stream",
     "text": [
      "Enter the string:-  String where words are separated by spaces to one where words are separated by underscores.\n"
     ]
    },
    {
     "name": "stdout",
     "output_type": "stream",
     "text": [
      "String with underscores:-  String_where_words_are_separated_by_spaces_to_one_where_words_are_separated_by_underscores.\n"
     ]
    }
   ],
   "source": [
    "#16.Convert a string where words are separated by spaces to one where words are separated by underscores.\n",
    "input_string = input(\"Enter the string:- \")\n",
    "\n",
    "print(\"String with underscores:- \", input_string.replace(' ','_'))"
   ]
  },
  {
   "cell_type": "code",
   "execution_count": 12,
   "id": "b8af2b75-0bb5-4b52-bcb5-4f34dba6fa07",
   "metadata": {},
   "outputs": [
    {
     "name": "stdout",
     "output_type": "stream",
     "text": [
      "String with underscores:-  String_where_words_are_separated_by_spaces_to_one_where_words_are_separated_by_underscores\n"
     ]
    }
   ],
   "source": [
    "#16.way 2\n",
    "input_string = \"String where words are separated by spaces to one where words are separated by underscores\"\n",
    "z = input_string.replace(\" \",\"_\")\n",
    "print(\"String with underscores:- \", z)"
   ]
  },
  {
   "cell_type": "code",
   "execution_count": 15,
   "id": "1d1439a7-f492-41bf-9a0f-7d31bb3584a9",
   "metadata": {},
   "outputs": [
    {
     "name": "stdin",
     "output_type": "stream",
     "text": [
      "Enter a string:-  if a string starts with a specific word or phrase\n",
      "Enter the word:-  if\n"
     ]
    },
    {
     "name": "stdout",
     "output_type": "stream",
     "text": [
      "Yes\n"
     ]
    }
   ],
   "source": [
    "#17.Check if a string starts with a specific word or phrase.(way 1)\n",
    "input_string = input(\"Enter a string:- \")\n",
    "\n",
    "spec_word = input(\"Enter the word:- \")\n",
    "\n",
    "index = input_string.index(spec_word)\n",
    "if index == 0:\n",
    "    print(\"Yes\")\n",
    "else:\n",
    "    print(\"No\")"
   ]
  },
  {
   "cell_type": "code",
   "execution_count": 19,
   "id": "fad1375a-7fe0-45bb-ab75-7441a25cdc84",
   "metadata": {},
   "outputs": [
    {
     "name": "stdin",
     "output_type": "stream",
     "text": [
      "Enter a string:-  if a string starts with a specific word or phrase\n",
      "enter the word:-  if\n"
     ]
    },
    {
     "name": "stdout",
     "output_type": "stream",
     "text": [
      "Word status:-  True\n"
     ]
    }
   ],
   "source": [
    "#Way 2:-\n",
    "input_string = input(\"Enter a string:- \")\n",
    "    \n",
    "spec_word = input(\"Enter the word:- \")\n",
    "\n",
    "word_status = input_string.startswith(spec_word)\n",
    "print(\"Word status:- \",word_status)"
   ]
  },
  {
   "cell_type": "code",
   "execution_count": 21,
   "id": "40de976a-18bf-41dc-8523-f33c20a3cd1f",
   "metadata": {},
   "outputs": [
    {
     "name": "stdin",
     "output_type": "stream",
     "text": [
      "Enter the string:-  if a string starts with a specific word or phrase.\n",
      "Enter the word:-  phrase.\n"
     ]
    },
    {
     "name": "stdout",
     "output_type": "stream",
     "text": [
      "word status:-  True\n"
     ]
    }
   ],
   "source": [
    "#18.Check if a string ends with a specific word or phrase.\n",
    "input_string = input(\"Enter the string:- \")\n",
    "\n",
    "spec_word = input(\"Enter the word:- \")\n",
    "\n",
    "word_status = input_string.endswith(spec_word)\n",
    "print(\"word status:- \", word_status)"
   ]
  },
  {
   "cell_type": "code",
   "execution_count": 22,
   "id": "0a6511cb-0499-43d7-8168-e63b3fb95b09",
   "metadata": {},
   "outputs": [
    {
     "name": "stdin",
     "output_type": "stream",
     "text": [
      "Enter the string:-  Convert a string to title case\n"
     ]
    },
    {
     "name": "stdout",
     "output_type": "stream",
     "text": [
      "Convert A String To Title Case\n"
     ]
    }
   ],
   "source": [
    "#19.Convert a string to title case.\n",
    "input_string = input(\"Enter the string:- \")\n",
    "\n",
    "title_string = input_string.title()\n",
    "print(title_string)"
   ]
  },
  {
   "cell_type": "code",
   "execution_count": 35,
   "id": "915bd788-26ce-46b2-af9c-8701c63d32e1",
   "metadata": {},
   "outputs": [
    {
     "name": "stdin",
     "output_type": "stream",
     "text": [
      "Enter the string:- Find the longest word in a string.\n"
     ]
    },
    {
     "name": "stdout",
     "output_type": "stream",
     "text": [
      "longest\n"
     ]
    }
   ],
   "source": [
    "#20.Find the longest word in a string.\n",
    "input_string = input(\"Enter the string:-\")\n",
    "#split the string into list of words:-\n",
    "word_list = input_string.split()\n",
    "#find the longest word using max() function:-\n",
    "longest_word = max(word_list, key = len)\n",
    "\n",
    "print(longest_word)"
   ]
  },
  {
   "cell_type": "code",
   "execution_count": 36,
   "id": "6c3481fd-5f5d-42c0-ad79-ffbe1d21c862",
   "metadata": {},
   "outputs": [
    {
     "name": "stdout",
     "output_type": "stream",
     "text": [
      "Position:-  9\n"
     ]
    }
   ],
   "source": [
    "#if position is asked:-\n",
    "position = input_string.index(longest_word)\n",
    "print(\"Position:- \", position)"
   ]
  },
  {
   "cell_type": "code",
   "execution_count": 1,
   "id": "a9c2d7c6-d1b8-41a7-8def-a5e989a10b03",
   "metadata": {},
   "outputs": [
    {
     "name": "stdin",
     "output_type": "stream",
     "text": [
      "Enter a string:-  Find the shortest word in a string.\n"
     ]
    },
    {
     "name": "stdout",
     "output_type": "stream",
     "text": [
      "Shortest word:- a\n",
      "Position:-  26\n"
     ]
    }
   ],
   "source": [
    "#21.Find the shortest word in a string.\n",
    "input_string = input(\"Enter a string:- \")\n",
    "#split the string into list of words:-\n",
    "word_list = input_string.split()\n",
    "#find the shortest word using min() funtion:-\n",
    "shortest_word = min(word_list, key = len)\n",
    "#if position is asked:-\n",
    "position = input_string.index(shortest_word)\n",
    "print('Shortest word:-',shortest_word)\n",
    "print(\"Position:- \", position)"
   ]
  },
  {
   "cell_type": "code",
   "execution_count": 3,
   "id": "1a32e9d9-279c-4c9a-bfdc-da16aa74cd72",
   "metadata": {},
   "outputs": [
    {
     "name": "stdin",
     "output_type": "stream",
     "text": [
      "Enter a string:-  Ram and Shyam about goa.\n"
     ]
    },
    {
     "name": "stdout",
     "output_type": "stream",
     "text": [
      "goa. about Shyam and Ram\n"
     ]
    }
   ],
   "source": [
    "#22.Reverse the order of words in a string.\n",
    "\n",
    "#input string\n",
    "input_string = input(\"Enter a string:- \")\n",
    "#reversing words in a given string\n",
    "reverse_str = input_string.split()[::-1]\n",
    "l = []\n",
    "for i in reverse_str:\n",
    "    #append reversed words to l\n",
    "    l.append(i)\n",
    "#print reverse words\n",
    "print(\" \".join(l))"
   ]
  },
  {
   "cell_type": "code",
   "execution_count": 10,
   "id": "80245ca6-9335-40f8-97ba-bf55592af6d0",
   "metadata": {},
   "outputs": [
    {
     "name": "stdin",
     "output_type": "stream",
     "text": [
      "Enter a string:-  23.Check if a string is alphanumeric\n"
     ]
    },
    {
     "name": "stdout",
     "output_type": "stream",
     "text": [
      "False\n"
     ]
    }
   ],
   "source": [
    "#23.Check if a string is alphanumeric.\n",
    "input_str = input(\"Enter a string:- \")\n",
    "result = input_str.isalnum()\n",
    "print(result)"
   ]
  },
  {
   "cell_type": "code",
   "execution_count": 10,
   "id": "df655b87-fd0d-4bee-8d9a-67e0aa2a988e",
   "metadata": {},
   "outputs": [
    {
     "name": "stdin",
     "output_type": "stream",
     "text": [
      "Enter the string:- the string there are 7 men and 5 women.\n"
     ]
    },
    {
     "name": "stdout",
     "output_type": "stream",
     "text": [
      "digit in string:- [7, 5]\n"
     ]
    }
   ],
   "source": [
    "#24.Extract all digits from a string.\n",
    "\n",
    "#initialise the input string:-\n",
    "input_string = input(\"Enter the string:-\")\n",
    "\n",
    "#using isdigit() function:-\n",
    "\n",
    "digits = [int(word) for word in input_string.split() if word.isdigit()]\n",
    "\n",
    "print(\"digit in string:-\", digits)"
   ]
  },
  {
   "cell_type": "code",
   "execution_count": 8,
   "id": "2743a435-97b7-43eb-90fc-b92908d52296",
   "metadata": {},
   "outputs": [
    {
     "name": "stdin",
     "output_type": "stream",
     "text": [
      "Enter a string:- the string there are 7 men and 5 women.\n"
     ]
    },
    {
     "name": "stdout",
     "output_type": "stream",
     "text": [
      "Number count:  2\n"
     ]
    }
   ],
   "source": [
    "#Ways-2(number of digits)\n",
    "input_str = input(\"Enter a string:-\")\n",
    "def count(input_str):\n",
    "    number_count = 0\n",
    "    for i in range(len(input_str)):\n",
    "        if input_str[i].isdigit():\n",
    "            number_count += 1\n",
    "    print(\"Number count: \", number_count)\n",
    "count(input_str)"
   ]
  },
  {
   "cell_type": "code",
   "execution_count": 20,
   "id": "bbc383d2-1e22-4634-bb9e-2d82602e56df",
   "metadata": {},
   "outputs": [
    {
     "name": "stdin",
     "output_type": "stream",
     "text": [
      "Enter a string:-  sv%$%FGDHieuiw124\n"
     ]
    },
    {
     "name": "stdout",
     "output_type": "stream",
     "text": [
      "Alphabets in string:-  svFGDHieuiw\n"
     ]
    }
   ],
   "source": [
    "#25.Extract all alphabets from a string.\n",
    "#Input string:-\n",
    "input_str = input(\"Enter a string:- \")\n",
    "\n",
    "#finding characters\n",
    "result = \"\"\n",
    "for i in input_str:\n",
    "    if i.isalpha():\n",
    "        result = \"\".join([result, i])\n",
    "#results        \n",
    "print(\"Alphabets in string:- \", result)"
   ]
  },
  {
   "cell_type": "code",
   "execution_count": 7,
   "id": "ef2d061a-84c1-4527-a015-a44154b923af",
   "metadata": {},
   "outputs": [
    {
     "name": "stdin",
     "output_type": "stream",
     "text": [
      "Enter a string:- DhjwidiJKDJ&^^%$%&*(*JNJHGdygkdkj\n"
     ]
    },
    {
     "name": "stdout",
     "output_type": "stream",
     "text": [
      "Upper case letter:  10\n"
     ]
    }
   ],
   "source": [
    "#26.Count the number of uppercase letters in a string.\n",
    "input_str = input(\"Enter a string:-\")\n",
    "def count(input_str):\n",
    "    upper_count = 0\n",
    "    for i in range(len(input_str)):\n",
    "        if input_str[i].isupper():\n",
    "            upper_count += 1\n",
    "    print(\"Upper case letter: \", upper_count)\n",
    "count(input_str)"
   ]
  },
  {
   "cell_type": "code",
   "execution_count": 11,
   "id": "cd9428ef-7e15-427e-adaa-26caf4e7460c",
   "metadata": {},
   "outputs": [
    {
     "name": "stdin",
     "output_type": "stream",
     "text": [
      "Enter a string:- DhjwidiJKDJ&^^%$%&*(*JNJHGdygkdkj\n"
     ]
    },
    {
     "name": "stdout",
     "output_type": "stream",
     "text": [
      "lower case letter:  13\n"
     ]
    }
   ],
   "source": [
    "#27.Count the number of lowercase letters in a string.\n",
    "input_str = input(\"Enter a string:-\")\n",
    "\n",
    "def count(input_str):\n",
    "    lower_count = 0\n",
    "    \n",
    "    for i in range(len(input_str)):\n",
    "        if input_str[i].islower():\n",
    "            lower_count += 1\n",
    "              \n",
    "    print(\"lower case letter: \", lower_count)\n",
    "    \n",
    "count(input_str)"
   ]
  },
  {
   "cell_type": "code",
   "execution_count": 3,
   "id": "dcd2fb71-fec1-40c0-b462-deb0a797b2ce",
   "metadata": {},
   "outputs": [
    {
     "name": "stdin",
     "output_type": "stream",
     "text": [
      "Enter a string:-   mynameISGovINd\n"
     ]
    },
    {
     "name": "stdout",
     "output_type": "stream",
     "text": [
      " MYNAMEisgOVinD\n"
     ]
    }
   ],
   "source": [
    "#28.Swap the case of each character in a string.\n",
    "input_string = input(\"Enter a string:- \")\n",
    "\n",
    "swapped_string = input_string.swapcase()\n",
    "\n",
    "print(swapped_string)"
   ]
  },
  {
   "cell_type": "code",
   "execution_count": 11,
   "id": "c8d6416e-e8e3-446f-b948-875e5f1b4369",
   "metadata": {},
   "outputs": [
    {
     "name": "stdin",
     "output_type": "stream",
     "text": [
      "Enter a string:-  Pw skills is a good opportunity.\n",
      "Enter the word:-  opportunity.\n"
     ]
    },
    {
     "name": "stdout",
     "output_type": "stream",
     "text": [
      "Pw skills is a good \n"
     ]
    }
   ],
   "source": [
    "#29.Remove a specific word from a string.\n",
    "input_string = input(\"Enter a string:- \")\n",
    "\n",
    "stripping_word = input(\"Enter the word:- \")\n",
    "\n",
    "stripped_string = input_string.strip(stripping_word)\n",
    "\n",
    "print(stripped_string)"
   ]
  },
  {
   "cell_type": "code",
   "execution_count": 23,
   "id": "25a4fef9-fcc4-4344-913b-ac3587fe9ce8",
   "metadata": {},
   "outputs": [
    {
     "name": "stdout",
     "output_type": "stream",
     "text": [
      "True\n"
     ]
    }
   ],
   "source": [
    "#30.Check if a string is a valid email address.\n",
    "def isvalidEmail(email):\n",
    "    \n",
    "    pattern = \"^\\S+@\\S+\\.\\S+$\"\n",
    "    \n",
    "    object_email = re.search(pattern, email)\n",
    "    \n",
    "    try:\n",
    "        if object_email.string == email:\n",
    "            return True\n",
    "    except:\n",
    "        return False\n",
    "\n",
    "\n",
    "e = isvalidEmail(\"govind26663355@gmail.com\")\n",
    "print(e)"
   ]
  },
  {
   "cell_type": "code",
   "execution_count": 16,
   "id": "df6a6a94-6e45-47f8-858c-c316eeb437cb",
   "metadata": {},
   "outputs": [
    {
     "name": "stdin",
     "output_type": "stream",
     "text": [
      "Enter an email:-  govindkumar@gmail.com\n"
     ]
    },
    {
     "name": "stdout",
     "output_type": "stream",
     "text": [
      "The username is:-  govindkumar\n"
     ]
    }
   ],
   "source": [
    "#31.Extract the username from an email address string.\n",
    "#difining a function:-\n",
    "def extract_username(email):\n",
    "    username = email.split(\"@\")[0]\n",
    "    return username\n",
    "#using it\n",
    "email_address = input(\"Enter an email:- \")\n",
    "username = extract_username(email_address)\n",
    "\n",
    "print(\"The username is:- \", username)"
   ]
  },
  {
   "cell_type": "code",
   "execution_count": 2,
   "id": "7ac2adc7-e2f4-4845-9680-a5f2bc233ff9",
   "metadata": {},
   "outputs": [
    {
     "name": "stdin",
     "output_type": "stream",
     "text": [
      "Email:-  govindkumar@gmail.com\n"
     ]
    },
    {
     "name": "stdout",
     "output_type": "stream",
     "text": [
      "Original string: govindkumar@gmail.com\n",
      "extracted username: gmail.com\n"
     ]
    }
   ],
   "source": [
    "#32.Extract the domain name from an email address string.\n",
    "#initialisng:-\n",
    "input_email = input(\"Email:- \")\n",
    "\n",
    "#printing original string:-\n",
    "print(\"Original string: \" +str(input_email))\n",
    "\n",
    "#slicing\n",
    "result = input_email[input_email.index(\"@\")+1 :]\n",
    "\n",
    "#printing result\n",
    "print(\"extracted username: \" +str(result))"
   ]
  },
  {
   "cell_type": "code",
   "execution_count": 13,
   "id": "dfbf4bdd-860d-4244-92d9-371fcdefe5f0",
   "metadata": {},
   "outputs": [
    {
     "name": "stdin",
     "output_type": "stream",
     "text": [
      "enter text with spaces:-  Replace multiple   spaces     in a string       with a single space.\n"
     ]
    },
    {
     "name": "stdout",
     "output_type": "stream",
     "text": [
      "replaced text:-  Replace multiple spaces in a string with a single space.\n"
     ]
    },
    {
     "data": {
      "text/plain": [
       "'Note:-Removing all spaces'"
      ]
     },
     "execution_count": 13,
     "metadata": {},
     "output_type": "execute_result"
    }
   ],
   "source": [
    "#33.Replace multiple spaces in a string with a single space.\n",
    "#import regular expression\n",
    "\n",
    "#define a function\n",
    "def replace_multiple_spaces(text):\n",
    "    words = text.split()\n",
    "    cleaned_text = ' '.join(words)\n",
    "    return cleaned_text\n",
    "\n",
    "#Application\n",
    "input_text = input(\"enter text with spaces:- \")\n",
    "#redefine the def\n",
    "cleaned_text = replace_multiple_spaces(input_text)\n",
    "print(\"replaced text:- \", cleaned_text)\n",
    "'''Note:-Removing all spaces'''"
   ]
  },
  {
   "cell_type": "code",
   "execution_count": 26,
   "id": "77a4cbc7-dc34-4606-ac7c-6de320f0c811",
   "metadata": {},
   "outputs": [
    {
     "name": "stdout",
     "output_type": "stream",
     "text": [
      "True\n"
     ]
    }
   ],
   "source": [
    "#34.Check if a string is a valid URL.\n",
    "from urllib.parse import urlparse\n",
    "\n",
    "def is_valid_url(url):\n",
    "    try:\n",
    "        result = urlparse(url)\n",
    "        return all([result.scheme, result.netloc])\n",
    "    except ValueError:\n",
    "        return False\n",
    "url1 = \"https://www.google.com/\"\n",
    "print(is_valid_url(url1))"
   ]
  },
  {
   "cell_type": "code",
   "execution_count": 27,
   "id": "7d326ffb-995b-4daf-8f9b-963feb98bf2e",
   "metadata": {},
   "outputs": [
    {
     "name": "stdout",
     "output_type": "stream",
     "text": [
      "the protocol is:-  http\n"
     ]
    }
   ],
   "source": [
    "#35.Extract the protocol (http or https) from a URL string.\n",
    "#initializing\n",
    "from urllib.parse import urlparse\n",
    "#defining\n",
    "def extract_protocol(url):\n",
    "    parsed_url = urlparse(url)\n",
    "    return parsed_url.scheme\n",
    "#trying\n",
    "url = \"http://www.google.com\"\n",
    "\n",
    "protocol = extract_protocol(url)\n",
    "\n",
    "print(\"the protocol is:- \", protocol)"
   ]
  },
  {
   "cell_type": "code",
   "execution_count": 4,
   "id": "16b88de2-f889-497f-a619-aad338fac5c9",
   "metadata": {},
   "outputs": [
    {
     "name": "stdout",
     "output_type": "stream",
     "text": [
      "{'p': 1, 'w': 1, ' ': 1, 's': 2, 'k': 1, 'i': 1, 'l': 2}\n"
     ]
    }
   ],
   "source": [
    "#36.Find the frequency of each character in a string.\n",
    "def count_characters(string):\n",
    "    frequency = {}\n",
    "    for char in string:\n",
    "        if char in frequency:\n",
    "            frequency[char] += 1\n",
    "        else:\n",
    "            frequency[char] = 1\n",
    "    return frequency\n",
    "\n",
    "#try out\n",
    "string = \"pw skills\"\n",
    "character_frequency = count_characters(string)\n",
    "print(character_frequency)"
   ]
  },
  {
   "cell_type": "code",
   "execution_count": 10,
   "id": "9d3956b1-f503-44f0-a1d1-06f0d41f2dc1",
   "metadata": {},
   "outputs": [
    {
     "name": "stdout",
     "output_type": "stream",
     "text": [
      "Hello World\n"
     ]
    }
   ],
   "source": [
    "#37.Remove all punctuation from a string.\n",
    "import re\n",
    "\n",
    "def remove_punctuation(string):\n",
    "    return re.sub(r'[^\\w\\s]', '', string)\n",
    "\n",
    "#try out\n",
    "string = \"Hello, World!\"\n",
    "string_without_punctuation = remove_punctuation(string)\n",
    "\n",
    "print(string_without_punctuation)"
   ]
  },
  {
   "cell_type": "code",
   "execution_count": 14,
   "id": "de38d1a1-c726-4b71-bd47-cc3e4c1d433a",
   "metadata": {},
   "outputs": [
    {
     "name": "stdin",
     "output_type": "stream",
     "text": [
      "Enter a string sdsf134\n"
     ]
    },
    {
     "name": "stdout",
     "output_type": "stream",
     "text": [
      "False\n"
     ]
    }
   ],
   "source": [
    "#38.Check if a string contains only digits.\n",
    "\n",
    "#initialize\n",
    "input_string = input(\"Enter a string\")\n",
    "\n",
    "contains_only_digits = input_string.isdigit()\n",
    "\n",
    "if contains_only_digits:\n",
    "    print(\"True\")\n",
    "else:\n",
    "    print(\"False\")"
   ]
  },
  {
   "cell_type": "code",
   "execution_count": 15,
   "id": "b19ca82f-0f59-4810-bb6d-7bb7a8b7d00b",
   "metadata": {},
   "outputs": [
    {
     "name": "stdout",
     "output_type": "stream",
     "text": [
      "Contains only digits!\n"
     ]
    }
   ],
   "source": [
    "#can also be done as:-\n",
    "def contains_only_digits(string):\n",
    "    return string.isdigit()\n",
    "\n",
    "#Trying out:\n",
    "string = \"12345\"\n",
    "if contains_only_digits(string):\n",
    "    print(\"Contains only digits!\")\n",
    "else:\n",
    "    print(\"Contains characters other than digits.\")"
   ]
  },
  {
   "cell_type": "code",
   "execution_count": 17,
   "id": "c5654dce-1834-42e4-9b09-0c60554527e7",
   "metadata": {},
   "outputs": [
    {
     "name": "stdin",
     "output_type": "stream",
     "text": [
      "Enter a string hfhuhfuhesdjhsj5fgfghhfk\n"
     ]
    },
    {
     "name": "stdout",
     "output_type": "stream",
     "text": [
      "False\n"
     ]
    }
   ],
   "source": [
    "#39.Check if a string contains only alphabets.\n",
    "#initialize\n",
    "input_string = input(\"Enter a string\")\n",
    "\n",
    "contains_only_alphabets = input_string.isalpha()\n",
    "\n",
    "if contains_only_alphabets:\n",
    "    print(\"True\")\n",
    "else:\n",
    "    print(\"False\")"
   ]
  },
  {
   "cell_type": "code",
   "execution_count": 19,
   "id": "3b064cd8-5f1f-491c-bc54-1ea6c6802640",
   "metadata": {},
   "outputs": [
    {
     "name": "stdout",
     "output_type": "stream",
     "text": [
      "Contains only alphabets!\n"
     ]
    }
   ],
   "source": [
    "#can also be done as:-\n",
    "def contains_only_alpha(string):\n",
    "    return string.isalpha()\n",
    "\n",
    "#Trying out:\n",
    "string = \"asdfghjkl\"\n",
    "if contains_only_alpha(string):\n",
    "    print(\"Contains only alphabets!\")\n",
    "else:\n",
    "    print(\"Contains characters other than alphabets.\")"
   ]
  },
  {
   "cell_type": "code",
   "execution_count": 21,
   "id": "7e8aefa3-4650-4faa-9936-afc2dcc89edb",
   "metadata": {},
   "outputs": [
    {
     "name": "stdin",
     "output_type": "stream",
     "text": [
      "Enter a string:-  pwskills\n"
     ]
    },
    {
     "name": "stdout",
     "output_type": "stream",
     "text": [
      "['p', 'w', 's', 'k', 'i', 'l', 'l', 's']\n"
     ]
    }
   ],
   "source": [
    "#40.Convert a string to a list of characters.\n",
    "#initialise\n",
    "input_string = input(\"Enter a string:- \")\n",
    "#Type casting:-\n",
    "string_to_list = list(input_string)\n",
    "\n",
    "print(string_to_list)"
   ]
  },
  {
   "cell_type": "code",
   "execution_count": 23,
   "id": "23d78719-acc9-439f-aea5-14163c5b8c5e",
   "metadata": {},
   "outputs": [
    {
     "name": "stdin",
     "output_type": "stream",
     "text": [
      "s1:- listen\n",
      "s2:- silent\n"
     ]
    },
    {
     "name": "stdout",
     "output_type": "stream",
     "text": [
      "Strings are anagram\n"
     ]
    }
   ],
   "source": [
    "#41.Check if two strings are anagrams.\n",
    "#def\n",
    "s1 = input(\"s1:-\")\n",
    "s2 = input(\"s2:-\")\n",
    "\n",
    "if (sorted(s1) == sorted(s2)):\n",
    "    print(\"Strings are anagram\")\n",
    "else:\n",
    "    print(\"String are not anagram\")\n"
   ]
  },
  {
   "cell_type": "code",
   "execution_count": 42,
   "id": "48b3f335-c486-423d-80fb-45325ae2cb4b",
   "metadata": {},
   "outputs": [
    {
     "name": "stdout",
     "output_type": "stream",
     "text": [
      "Plain txt : HELLO WORLD\n",
      "Shift pattern : 4\n",
      "Cipher: MJQQTsBTWQI\n"
     ]
    }
   ],
   "source": [
    "#42.Encode a string using a Caesar cipher.\n",
    "def encypt_func(txt, s):  \n",
    "    result = \"\"  \n",
    "    \n",
    "#transverse the plain txt  \n",
    "    for i in range(len(txt)):  \n",
    "        char = txt[i]  \n",
    "        #encypt_func uppercase characters in plain txt  \n",
    "  \n",
    "        if (char.isupper()):  \n",
    "            result += chr((ord(char) + s - 64) % 26 + 65)  \n",
    "        #encypt_func lowercase characters in plain txt  \n",
    "        else:  \n",
    "            result += chr((ord(char) + s - 96) % 26 + 97)  \n",
    "    return result  \n",
    "#check the above function\n",
    "txt = \"HELLO WORLD\"  \n",
    "s = 4  \n",
    "  \n",
    "print(\"Plain txt : \" + txt)  \n",
    "print(\"Shift pattern : \" + str(s))  \n",
    "print(\"Cipher: \" + encypt_func(txt, s))"
   ]
  },
  {
   "cell_type": "code",
   "execution_count": 31,
   "id": "b7fa9210-668b-4e1b-b24a-43ad5d600a64",
   "metadata": {},
   "outputs": [
    {
     "name": "stdout",
     "output_type": "stream",
     "text": [
      "Hello, World!\n"
     ]
    }
   ],
   "source": [
    "#43.Decode a Caesar cipher encoded string.\n",
    "def caesar_cipher_decode(string, shift):\n",
    "    decoded_string = \"\"\n",
    "    for char in string:\n",
    "        if char.isalpha():\n",
    "            ascii_offset = ord('a') if char.islower() else ord('A')\n",
    "            shifted_char = chr((ord(char) - ascii_offset - shift) % 26 + ascii_offset)\n",
    "            decoded_string += shifted_char\n",
    "        else:\n",
    "            decoded_string += char\n",
    "    return decoded_string\n",
    "\n",
    "# Example:\n",
    "ciphertext = \"Khoor, Zruog!\"\n",
    "shift = 3\n",
    "plaintext = caesar_cipher_decode(ciphertext, shift)\n",
    "print(plaintext)"
   ]
  },
  {
   "cell_type": "code",
   "execution_count": 37,
   "id": "e535ae59-55fe-40cc-afec-e6b3ed797bfa",
   "metadata": {},
   "outputs": [
    {
     "name": "stdout",
     "output_type": "stream",
     "text": [
      "go\n"
     ]
    }
   ],
   "source": [
    "#44.Find the most frequent word in a string.\n",
    "#initialise:-\n",
    "from collections import Counter\n",
    "#define\n",
    "def most_frequent_word(string):\n",
    "    \n",
    "    words = string.split()\n",
    "    word_counts = Counter(words)\n",
    "    most_common_word = word_counts.most_common(1)[0][0]\n",
    "    return most_common_word\n",
    "\n",
    "#text:\n",
    "text = \"go goa gone. go and do your work\"\n",
    "most_frequent = most_frequent_word(text)\n",
    "print(most_frequent)"
   ]
  },
  {
   "cell_type": "code",
   "execution_count": 3,
   "id": "205aa033-0d47-4f00-9c40-050b6ae71eaa",
   "metadata": {},
   "outputs": [
    {
     "name": "stdout",
     "output_type": "stream",
     "text": [
      "{'Hello', 'how', 'enjoying', 'python?', 'you?', 'are', 'you', 'Are', 'there,'}\n"
     ]
    }
   ],
   "source": [
    "#45.Find all unique words in a string.\n",
    "def find_unique_words(string):\n",
    "    words = string.split()\n",
    "    unique_words = set(words)\n",
    "    return unique_words\n",
    "\n",
    "#Try out:\n",
    "string = \"Hello there, how are you? Are you enjoying python?\"\n",
    "unique_words = find_unique_words(string)\n",
    "print(unique_words)"
   ]
  },
  {
   "cell_type": "code",
   "execution_count": 4,
   "id": "7435311a-db87-493f-951c-5042482f98d8",
   "metadata": {},
   "outputs": [
    {
     "name": "stdin",
     "output_type": "stream",
     "text": [
      "string Find all unique words in a string.\n"
     ]
    },
    {
     "name": "stdout",
     "output_type": "stream",
     "text": [
      "{'unique', 'a', 'in', 'words', 'Find', 'all', 'string.'}\n"
     ]
    }
   ],
   "source": [
    "#way 2\n",
    "s = input(\"string\")\n",
    "words = s.split()\n",
    "unique_words = set(words)\n",
    "print(unique_words)"
   ]
  },
  {
   "cell_type": "code",
   "execution_count": 10,
   "id": "8cf47553-3786-47a6-8a52-86cbf44ea11e",
   "metadata": {},
   "outputs": [
    {
     "name": "stdout",
     "output_type": "stream",
     "text": [
      "Syllable:- 2\n"
     ]
    }
   ],
   "source": [
    "#46.Count the number of syllables in a string.\n",
    "def syllable_count(word):\n",
    "    count = 0\n",
    "    vowels = \"aeiouy\"\n",
    "    if word[0] in vowels:\n",
    "        count += 1\n",
    "    for index in range(1, len(word)):\n",
    "        if word[index] in vowels and word[index - 1] not in vowels:\n",
    "            count += 1\n",
    "            if word.endswith(\"e\"):\n",
    "                count -= 1\n",
    "    if count == 0:\n",
    "        count += 1\n",
    "    return count\n",
    "print(\"Syllable:-\",syllable_count(\"hairy\"))"
   ]
  },
  {
   "cell_type": "code",
   "execution_count": 16,
   "id": "df93a299-f2d2-461c-ae6e-b7e2be1dd0f4",
   "metadata": {},
   "outputs": [
    {
     "name": "stdout",
     "output_type": "stream",
     "text": [
      "Status:- True\n"
     ]
    }
   ],
   "source": [
    "#47.Check if a string contains any special characters.\n",
    "import re\n",
    "\n",
    "def contains_special_characters(string):\n",
    "    pattern = r'[^\\w\\s]'\n",
    "    if re.search(pattern, string):\n",
    "        return True\n",
    "    else:\n",
    "        return False\n",
    "\n",
    "# Example:\n",
    "string = \"Hello! How are you?\"\n",
    "contains_special = contains_special_characters(string)\n",
    "\n",
    "print(\"Status:-\",contains_special)"
   ]
  },
  {
   "cell_type": "code",
   "execution_count": 20,
   "id": "6aec8fe8-e2e2-43d5-b437-744d23ecaac8",
   "metadata": {},
   "outputs": [
    {
     "name": "stdout",
     "output_type": "stream",
     "text": [
      "Result string:-  Remove the word from a string.\n"
     ]
    }
   ],
   "source": [
    "#48.Remove the nth word from a string.\n",
    "def remove_nth_word(string, n):\n",
    "    words = string.split()\n",
    "    if n >= 1 and n <= len(words):\n",
    "        del words[n-1]\n",
    "        return ' '.join(words)\n",
    "    else:\n",
    "        return string\n",
    "\n",
    "# try out:\n",
    "string = \"Remove the nth word from a string.\"\n",
    "n = 3\n",
    "new_string = remove_nth_word(string, n)\n",
    "print(\"Result string:- \", new_string)"
   ]
  },
  {
   "cell_type": "code",
   "execution_count": 22,
   "id": "ff68b62f-2dd4-4845-930c-fbfa7e573329",
   "metadata": {},
   "outputs": [
    {
     "name": "stdout",
     "output_type": "stream",
     "text": [
      "Insert a word at the nth position in a string.\n"
     ]
    }
   ],
   "source": [
    "#49.Insert a word at the nth position in a string.\n",
    "def insert_word(string, word, n):\n",
    "    words = string.split()\n",
    "    if n >= 0 and n <= len(words):\n",
    "        words.insert(n, word)\n",
    "        return ' '.join(words)\n",
    "    else:\n",
    "        return string\n",
    "\n",
    "#eg:-\n",
    "string = \"Insert word at the nth position in a string.\"\n",
    "word = \"a\"\n",
    "n = 1\n",
    "new_string = insert_word(string, word, n)\n",
    "print(new_string)"
   ]
  },
  {
   "cell_type": "code",
   "execution_count": 27,
   "id": "fee4a692-4692-4c22-bfc0-075023b0ffd9",
   "metadata": {},
   "outputs": [
    {
     "name": "stdout",
     "output_type": "stream",
     "text": [
      "[['2', 'pw', 'govind'], ['2', 'skills', 'kumar'], ['3', 'upskills', 'data science']]\n"
     ]
    }
   ],
   "source": [
    "#50.Convert a CSV string to a list of lists.\n",
    "import csv\n",
    "\n",
    "def csv_to_list(csv_string):\n",
    "    rows = csv_string.split('\\n')\n",
    "    csv_list = []\n",
    "    for row in rows:\n",
    "        csv_list.append(row.split(','))\n",
    "    return csv_list\n",
    "\n",
    "# Example:\n",
    "csv_string = \"2,pw,govind\\n2,skills,kumar\\n3,upskills,data science\"\n",
    "csv_list = csv_to_list(csv_string)\n",
    "\n",
    "print(csv_list)"
   ]
  },
  {
   "cell_type": "code",
   "execution_count": null,
   "id": "5e863015-cbd4-49eb-94d0-ad6f51a3c7d9",
   "metadata": {},
   "outputs": [],
   "source": [
    "\"\"\"LIST BASED PRACTICE PROBLEM\"\"\""
   ]
  },
  {
   "cell_type": "code",
   "execution_count": 1,
   "id": "6d64b4ce-ac4a-41eb-a680-f1a94821ecc8",
   "metadata": {},
   "outputs": [
    {
     "name": "stdout",
     "output_type": "stream",
     "text": [
      "[1, 2, 3, 4, 5, 6, 7, 8, 9, 10]\n"
     ]
    }
   ],
   "source": [
    "#1.Create a list with integers from 1 to 10.\n",
    "l = list(range(1,11))\n",
    "print(l)"
   ]
  },
  {
   "cell_type": "code",
   "execution_count": 26,
   "id": "730e0841-cf59-495e-906a-934c38621a13",
   "metadata": {},
   "outputs": [
    {
     "name": "stdout",
     "output_type": "stream",
     "text": [
      "Length of l1:  9\n"
     ]
    }
   ],
   "source": [
    "#2.Find the length of a list without using the `len()` function.\n",
    "l1 = [1, 2, 3, 4, 5, 6, 7, 8, 9]\n",
    "count_variable = 0\n",
    "for char in L:\n",
    "    count_variable += 1\n",
    "print(\"Length of l1: \", count_variable)"
   ]
  },
  {
   "cell_type": "code",
   "execution_count": 40,
   "id": "14f3ab9a-2a39-4be1-ad51-7e3304ea6a5f",
   "metadata": {},
   "outputs": [
    {
     "name": "stdout",
     "output_type": "stream",
     "text": [
      "[1, 2, 3, 4, 5]\n"
     ]
    }
   ],
   "source": [
    "#3.Append an element to the end of a list.\n",
    "l3 = [1,2,3,4]\n",
    "l3.append(5)\n",
    "print(l3)"
   ]
  },
  {
   "cell_type": "code",
   "execution_count": 46,
   "id": "5e467bf3-ee76-469f-aef1-38b73e9ebec8",
   "metadata": {},
   "outputs": [
    {
     "name": "stdout",
     "output_type": "stream",
     "text": [
      "['P', 'Q', 'R', 'S', 'T', 'X', 'Y']\n"
     ]
    }
   ],
   "source": [
    "#4.Insert an element at a specific index in a list.\n",
    "l4 = ['P','Q','S','T','X','Y']\n",
    "list(l4)\n",
    "l4.insert(2,'R')\n",
    "print(l4)"
   ]
  },
  {
   "cell_type": "code",
   "execution_count": 48,
   "id": "1e93dc74-88e3-4c24-9550-32b494d39de7",
   "metadata": {},
   "outputs": [
    {
     "name": "stdout",
     "output_type": "stream",
     "text": [
      "['mango', 'banana', 'lichi', 'papaya', 'berry']\n"
     ]
    }
   ],
   "source": [
    "#5.Remove an element from a list by its value.\n",
    "l5 = ['apple','mango','banana','lichi','papaya','berry']\n",
    "l5.remove(\"apple\")\n",
    "print(l5)"
   ]
  },
  {
   "cell_type": "code",
   "execution_count": 2,
   "id": "47db93ba-eaaa-46ea-be6e-21ba726a3ab7",
   "metadata": {},
   "outputs": [
    {
     "data": {
      "text/plain": [
       "2"
      ]
     },
     "execution_count": 2,
     "metadata": {},
     "output_type": "execute_result"
    }
   ],
   "source": [
    "#6.Remove an element from a list by its index.\n",
    "l6 = [5,2,7,2,9,7,5,0]\n",
    "l6.pop(3)"
   ]
  },
  {
   "cell_type": "code",
   "execution_count": 16,
   "id": "a8d0888f-482c-49b5-9721-c85164dbdb4b",
   "metadata": {},
   "outputs": [
    {
     "name": "stdout",
     "output_type": "stream",
     "text": [
      "Exist\n"
     ]
    }
   ],
   "source": [
    "#7.Check if an element exists in a list.\n",
    "l7 = [5,2,7,2,9,7,5,0]\n",
    "\n",
    "#check for 9\n",
    "if 5 in l7 :\n",
    "    print(\"Exist\")\n",
    "else:\n",
    "    print(\"Doesn't exist\")"
   ]
  },
  {
   "cell_type": "code",
   "execution_count": 22,
   "id": "4e2b7da6-16e1-4dea-8ba4-6e04682506f3",
   "metadata": {},
   "outputs": [
    {
     "name": "stdin",
     "output_type": "stream",
     "text": [
      "element:- 13\n"
     ]
    },
    {
     "name": "stdout",
     "output_type": "stream",
     "text": [
      "first occurence index:- 1\n"
     ]
    }
   ],
   "source": [
    "#8.Find the index of the first occurrence of an element in a list.\n",
    "l8 = [10, 13, 53, 23, 10, 54, 13, 53]\n",
    "first_occur = l8.index(int(input(\"element:-\")))\n",
    "print('first occurence index:-', first_occur)"
   ]
  },
  {
   "cell_type": "code",
   "execution_count": 23,
   "id": "f68ff371-db23-41ed-9911-3b3d03b0da39",
   "metadata": {},
   "outputs": [
    {
     "name": "stdin",
     "output_type": "stream",
     "text": [
      "element:- 10\n"
     ]
    },
    {
     "name": "stdout",
     "output_type": "stream",
     "text": [
      "count of occurence:- 3\n"
     ]
    }
   ],
   "source": [
    "#9.Count the occurrences of an element in a list.\n",
    "l9 = [10, 13, 53, 23, 10, 54, 13, 53, 10]\n",
    "total_count = l9.count(int(input(\"element:-\")))\n",
    "print('count of occurence:-', total_count)"
   ]
  },
  {
   "cell_type": "code",
   "execution_count": 25,
   "id": "4b1efaa6-c333-4ae6-be3a-cc171fb6c7a5",
   "metadata": {},
   "outputs": [
    {
     "name": "stdout",
     "output_type": "stream",
     "text": [
      "[11, 53, 13, 54, 10, 23, 53, 13, 10]\n"
     ]
    }
   ],
   "source": [
    "#10.Reverse the order of elements in a list.\n",
    "l10 = [10, 13, 53, 23, 10, 54, 13, 53, 11]\n",
    "l10.reverse()\n",
    "print(l10)"
   ]
  },
  {
   "cell_type": "code",
   "execution_count": 34,
   "id": "4599f841-626a-40c8-a9f0-c91aee4092f2",
   "metadata": {},
   "outputs": [
    {
     "name": "stdout",
     "output_type": "stream",
     "text": [
      "Ascending order:- [10, 10, 11, 13, 13, 23, 52, 53, 54]\n",
      "Descending order:- [54, 53, 52, 23, 13, 13, 11, 10, 10]\n"
     ]
    }
   ],
   "source": [
    "#11 & 12.Sort a list in ascending and descending order.\n",
    "l11 = [10, 13, 53, 23, 10, 54, 13, 52, 11]\n",
    "l11.sort()\n",
    "print(\"Ascending order:-\",l11)\n",
    "Des_list = l11[::-1]\n",
    "print(\"Descending order:-\",Des_list)"
   ]
  },
  {
   "cell_type": "code",
   "execution_count": 35,
   "id": "4166917f-83e9-4d47-95e7-af2115b72c20",
   "metadata": {},
   "outputs": [
    {
     "name": "stdout",
     "output_type": "stream",
     "text": [
      "[2, 4, 6, 8, 10, 12, 14, 16, 18, 20]\n"
     ]
    }
   ],
   "source": [
    "#13.Create a list of even numbers from 1 to 20.\n",
    "l13 = list(range(2,22,2))\n",
    "print(l13)"
   ]
  },
  {
   "cell_type": "code",
   "execution_count": 36,
   "id": "9ee3b452-d1cd-4c0a-9f34-7630150512b2",
   "metadata": {},
   "outputs": [
    {
     "name": "stdout",
     "output_type": "stream",
     "text": [
      "[1, 3, 5, 7, 9, 11, 13, 15, 17, 19]\n"
     ]
    }
   ],
   "source": [
    "#14. Create a list of odd numbers from 1 to 20.\n",
    "l14 = list(range(1,20,2))\n",
    "print(l14)  "
   ]
  },
  {
   "cell_type": "code",
   "execution_count": 38,
   "id": "a008e10b-11e2-4094-8f77-140770886d54",
   "metadata": {},
   "outputs": [
    {
     "name": "stdout",
     "output_type": "stream",
     "text": [
      "Sum of elements:- 243\n"
     ]
    }
   ],
   "source": [
    "#15.Find the sum of all elements in a list.\n",
    "l15 = [10, 13, 53, 23, 10, 54, 13, 52, 15]\n",
    "sum_l15 = sum(l15)\n",
    "print(\"Sum of elements:-\", sum_l15)"
   ]
  },
  {
   "cell_type": "code",
   "execution_count": 1,
   "id": "7b22ef9d-d947-4c03-8f30-fefb49577069",
   "metadata": {},
   "outputs": [
    {
     "name": "stdout",
     "output_type": "stream",
     "text": [
      "Maximum:- 54\n",
      "Minimum:- 10\n"
     ]
    }
   ],
   "source": [
    "#16 & 17. Find the maximum and mininmum value in a list.\n",
    "l16 = [10, 13, 53, 23, 10, 54, 13, 52, 16]\n",
    "max_value = max(l16)\n",
    "min_value = min(l16)\n",
    "print(\"Maximum:-\",max_value)\n",
    "print(\"Minimum:-\",min_value)"
   ]
  },
  {
   "cell_type": "code",
   "execution_count": 19,
   "id": "ad7251a1-387d-4eab-979e-90be2c84060a",
   "metadata": {},
   "outputs": [
    {
     "name": "stdout",
     "output_type": "stream",
     "text": [
      "The list of squares is: [1, 4, 9, 16, 25, 36, 49, 64, 81, 100]\n"
     ]
    }
   ],
   "source": [
    "#18.Create a list of squares of numbers from 1 to 10.\n",
    "squares = []\n",
    "for num in range(1, 11):\n",
    "    squares.append(num ** 2)\n",
    "\n",
    "print(\"The list of squares is:\", squares)"
   ]
  },
  {
   "cell_type": "code",
   "execution_count": 21,
   "id": "f4e87bd0-aa64-4599-be39-89f96bddba75",
   "metadata": {},
   "outputs": [
    {
     "name": "stdout",
     "output_type": "stream",
     "text": [
      "Here is a list of random numbers: [20, 64, 20, 47, 46, 27, 31, 60, 67, 49]\n"
     ]
    }
   ],
   "source": [
    "#19. Create a list of random numbers.\n",
    "import random\n",
    "\n",
    "random_numbers = []\n",
    "for _ in range(10):\n",
    "    random_numbers.append(random.randint(1, 100))\n",
    "\n",
    "print(\"Here is a list of random numbers:\", random_numbers)"
   ]
  },
  {
   "cell_type": "code",
   "execution_count": 23,
   "id": "5fadda78-a6be-4120-8dc0-db00dc909604",
   "metadata": {},
   "outputs": [
    {
     "name": "stdout",
     "output_type": "stream",
     "text": [
      "[10, 13, 53, 54, 23]\n"
     ]
    }
   ],
   "source": [
    "#20. Remove duplicates from a list.\n",
    "l16 = [10, 13, 53, 23, 10, 54, 13, 53, 10]\n",
    "no_dup = list(set(l16))\n",
    "print(no_dup)"
   ]
  },
  {
   "cell_type": "code",
   "execution_count": 10,
   "id": "e47878cf-398e-4be7-b50f-47e7b5d08b64",
   "metadata": {},
   "outputs": [
    {
     "name": "stdout",
     "output_type": "stream",
     "text": [
      "The common elements are: [4, 5]\n"
     ]
    }
   ],
   "source": [
    "#21.Find the common elements between two lists.\n",
    "l20 = [1, 2, 3, 4, 5]\n",
    "l21 = [4, 5, 6, 7, 8]\n",
    "\n",
    "common_elements = set(l20).intersection(l21)\n",
    "\n",
    "print(\"The common elements are:\", list(common_elements))"
   ]
  },
  {
   "cell_type": "code",
   "execution_count": 12,
   "id": "5408a56a-7057-4a12-9ed0-dbecb6d460ac",
   "metadata": {},
   "outputs": [
    {
     "name": "stdout",
     "output_type": "stream",
     "text": [
      "The difference:- [1, 2, 3]\n"
     ]
    }
   ],
   "source": [
    "#22. Find the difference between two lists.\n",
    "l21 = [1, 2, 3, 4, 5, 6]\n",
    "l22 = [4, 5, 6, 7, 8, 9]\n",
    "\n",
    "difference = set(l21)-set(l22)\n",
    "print(\"The difference:-\",list(difference))"
   ]
  },
  {
   "cell_type": "code",
   "execution_count": 15,
   "id": "ad811f86-f91b-4229-84a2-ea122b227bc2",
   "metadata": {},
   "outputs": [
    {
     "name": "stdout",
     "output_type": "stream",
     "text": [
      "The merged lists:- [1, 2, 3, 4, 5, 6, 7]\n"
     ]
    }
   ],
   "source": [
    "#23.Merge two lists.\n",
    "l22 = [1, 2, 3, 4]\n",
    "l23 = [4, 5, 6, 7]\n",
    "\n",
    "Union = set(l21).union(l23)\n",
    "print(\"The merged lists:-\",list(Union))"
   ]
  },
  {
   "cell_type": "code",
   "execution_count": 31,
   "id": "7fbc6103-8574-4aba-a89f-04b6f8ccd6fa",
   "metadata": {},
   "outputs": [
    {
     "name": "stdout",
     "output_type": "stream",
     "text": [
      "[6, 8, 10, 12, 14, 16, 18]\n"
     ]
    }
   ],
   "source": [
    "#24. Multiply all elements in a list by 2.\n",
    "double = []\n",
    "l24 = [3,4,5,6,7,8,9]\n",
    "for i in l24:\n",
    "    double.append(i*2)\n",
    "print(double)"
   ]
  },
  {
   "cell_type": "code",
   "execution_count": 1,
   "id": "181404bd-451b-409b-9c99-d2a427f8f486",
   "metadata": {},
   "outputs": [
    {
     "name": "stdout",
     "output_type": "stream",
     "text": [
      "1\n",
      "3\n",
      "5\n",
      "7\n",
      "9\n"
     ]
    }
   ],
   "source": [
    "#25. Filter out all even numbers from a list.\n",
    "\n",
    "l25 = [1,2,3,4,5,6,7,8,9,10]\n",
    "for e in l25:\n",
    "    if e%2 == 0:\n",
    "        continue\n",
    "    print(e)"
   ]
  },
  {
   "cell_type": "code",
   "execution_count": 3,
   "id": "0efd40c4-aebd-46a7-b619-4f1fb69e5c5f",
   "metadata": {},
   "outputs": [
    {
     "name": "stdout",
     "output_type": "stream",
     "text": [
      "[1, 2, 3, 4, 5]\n"
     ]
    }
   ],
   "source": [
    "#26.Convert a list of strings to a list of integers.\n",
    "string_list = ['1','2','3','4','5']\n",
    "integer_list = []\n",
    "for string in string_list:\n",
    "    integer_list.append(int(string))\n",
    "print(integer_list)"
   ]
  },
  {
   "cell_type": "code",
   "execution_count": 5,
   "id": "82d23176-45ff-4fd5-9916-7082f6faa36b",
   "metadata": {},
   "outputs": [
    {
     "name": "stdout",
     "output_type": "stream",
     "text": [
      "string_list:- ['1', '2', '3', '4', '5']\n"
     ]
    }
   ],
   "source": [
    "#27.Convert a list of integers to a list of strings.\n",
    "int_list=[1, 2, 3, 4, 5]\n",
    "str_list = []\n",
    "for integer in int_list:\n",
    "    str_list.append(str(integer))\n",
    "print('string_list:-',str_list)"
   ]
  },
  {
   "cell_type": "code",
   "execution_count": 16,
   "id": "8e662895-25c2-4b58-9e9c-26878d5938fc",
   "metadata": {},
   "outputs": [
    {
     "name": "stdout",
     "output_type": "stream",
     "text": [
      "[1, 2, 3, 4, 5, 6, 7]\n"
     ]
    }
   ],
   "source": [
    "#28.Flatten a nested list.\n",
    "#list comprehension:\n",
    "my_list = [[1], [2, 3], [4, 5, 6, 7]]\n",
    "\n",
    "flat_list = [x for sublist in my_list for x in sublist]\n",
    "print(flat_list)"
   ]
  },
  {
   "cell_type": "code",
   "execution_count": 18,
   "id": "dd0631f2-fe18-43e3-94f2-e074f9a799e4",
   "metadata": {},
   "outputs": [
    {
     "name": "stdout",
     "output_type": "stream",
     "text": [
      "[1, 2, 3, 4, 5, 6, 7]\n"
     ]
    }
   ],
   "source": [
    "#Conditional method:-\n",
    "my_list = [[1], [2, 3], [4, 5, 6, 7]]\n",
    "\n",
    "flat_list = []\n",
    "for sublist in my_list:\n",
    "    for num in sublist:\n",
    "        flat_list.append(num)\n",
    "\n",
    "print(flat_list)"
   ]
  },
  {
   "cell_type": "code",
   "execution_count": 19,
   "id": "d24d24f5-fda2-44a4-a193-114101d20c72",
   "metadata": {},
   "outputs": [
    {
     "name": "stdout",
     "output_type": "stream",
     "text": [
      "[0, 1, 1, 2, 3, 5, 8, 13, 21, 34]\n"
     ]
    }
   ],
   "source": [
    "#29.Create a list of the first 10 Fibonacci numbers.\n",
    "fib_list = [0, 1]  # Start with the first two numbers\n",
    "\n",
    "while len(fib_list) < 10:  # Generate the next 8 numbers\n",
    "    next_number = fib_list[-1] + fib_list[-2]\n",
    "    fib_list.append(next_number)\n",
    "\n",
    "print(fib_list)"
   ]
  },
  {
   "cell_type": "code",
   "execution_count": 21,
   "id": "e70d9aaf-1ad3-4f17-a816-d6f5335b5311",
   "metadata": {},
   "outputs": [
    {
     "name": "stdout",
     "output_type": "stream",
     "text": [
      "True\n"
     ]
    }
   ],
   "source": [
    "#30.Check if a list is sorted.\n",
    "def is_sorted(lst):\n",
    "    for i in range(len(lst) - 1):\n",
    "        if lst[i] > lst[i + 1]:\n",
    "            return False\n",
    "    return True\n",
    "#Example\n",
    "my_list = [1, 2, 3, 4, 5]\n",
    "print(is_sorted(my_list))"
   ]
  },
  {
   "cell_type": "code",
   "execution_count": 39,
   "id": "b4ad80d5-2d75-4582-94c1-4cf04696ce6f",
   "metadata": {},
   "outputs": [
    {
     "name": "stdout",
     "output_type": "stream",
     "text": [
      "[5, 1, 2, 3, 4]\n"
     ]
    }
   ],
   "source": [
    "#31.Rotate a list to the left by `n` positions.\n",
    "my_list = [1, 2, 3, 4, 5]\n",
    "def rotate_left(lst, n):\n",
    "    return lst[n:] + lst[:n]\n",
    "\n",
    "rotated_list = rotate_left(my_list, 4)\n",
    "print(rotated_list)"
   ]
  },
  {
   "cell_type": "code",
   "execution_count": 40,
   "id": "539e3893-81f5-4dc1-a3d9-6139fc76f7fb",
   "metadata": {},
   "outputs": [
    {
     "name": "stdout",
     "output_type": "stream",
     "text": [
      "[2, 3, 4, 5, 1]\n"
     ]
    }
   ],
   "source": [
    "#32.Rotate a list to the right by `n` positions.\n",
    "my_list = [1, 2, 3, 4, 5]\n",
    "def rotate_right(lst, n):\n",
    "    return lst[-n:] + lst[:-n]\n",
    "\n",
    "rotated_list = rotate_right(my_list, 4)\n",
    "print(rotated_list)"
   ]
  },
  {
   "cell_type": "code",
   "execution_count": 44,
   "id": "eb6bb8b5-ee62-4b2f-9bd7-d53e49b89e1d",
   "metadata": {},
   "outputs": [
    {
     "name": "stdout",
     "output_type": "stream",
     "text": [
      "[2, 3, 5, 7, 11, 13, 17, 19, 23, 29, 31, 37, 41, 43, 47]\n"
     ]
    }
   ],
   "source": [
    "#33.Create a list of prime numbers up to 50.\n",
    "def is_prime(num):\n",
    "    if num < 2:\n",
    "        return False\n",
    "    for i in range(2, int(num ** 0.5) + 1):\n",
    "        if num % i == 0:\n",
    "            return False\n",
    "    return True\n",
    "\n",
    "prime_numbers = [num for num in range(2, 51) if is_prime(num)]\n",
    "print(prime_numbers)"
   ]
  },
  {
   "cell_type": "code",
   "execution_count": 45,
   "id": "17fea053-970b-42f3-a9e2-810f168fa67b",
   "metadata": {},
   "outputs": [
    {
     "name": "stdout",
     "output_type": "stream",
     "text": [
      "[[1, 2, 3], [4, 5, 6], [7, 8, 9], [10]]\n"
     ]
    }
   ],
   "source": [
    "#34.Split a list into chunks of size `n`.\n",
    "my_list = [1, 2, 3, 4, 5, 6, 7, 8, 9, 10]\n",
    "def split_list(lst, n):\n",
    "    return [lst[i:i+n] for i in range(0, len(lst), n)]\n",
    "\n",
    "chunked_list = split_list(my_list, 3)\n",
    "print(chunked_list)"
   ]
  },
  {
   "cell_type": "code",
   "execution_count": 54,
   "id": "5938beb8-545c-4a03-887b-e97eab2ac99a",
   "metadata": {},
   "outputs": [
    {
     "name": "stdout",
     "output_type": "stream",
     "text": [
      "Second largest:- 75\n"
     ]
    }
   ],
   "source": [
    "#35.Find the second largest number in a list.\n",
    "l35 = [51, 22, 43, 4, 75, 6, 27, 8, 89, 10]\n",
    "l35.sort()\n",
    "print('Second largest:-',l35[-2])"
   ]
  },
  {
   "cell_type": "code",
   "execution_count": 1,
   "id": "78134a06-d8b8-4f73-a575-0c4f92588bcb",
   "metadata": {},
   "outputs": [
    {
     "name": "stdout",
     "output_type": "stream",
     "text": [
      "[4, 9, 16, 25, 36, 49, 64]\n"
     ]
    }
   ],
   "source": [
    "#36.Replace every element in a list with its square.\n",
    "l36 = [2,3,4,5,6,7,8]\n",
    "sq_lst = [x**2 for x in l36]\n",
    "print(sq_lst)"
   ]
  },
  {
   "cell_type": "code",
   "execution_count": 9,
   "id": "51d900f5-65b6-4184-9b38-bc3df354cff6",
   "metadata": {},
   "outputs": [
    {
     "name": "stdout",
     "output_type": "stream",
     "text": [
      "{'apple': 0, 'banana': 1, 'orange': 2}\n"
     ]
    }
   ],
   "source": [
    "#37.Convert a list to a dictionary where list elements become keys and their indices become values.\n",
    "l37 = ['apple', 'banana', 'orange']\n",
    "def list_to_dict(lst):\n",
    "    return {element: index for index, element in enumerate(lst)}\n",
    "\n",
    "dict_result = list_to_dict(l37)\n",
    "print(dict_result)"
   ]
  },
  {
   "cell_type": "code",
   "execution_count": 15,
   "id": "68da4483-6934-46b1-9fc4-658a875aee99",
   "metadata": {},
   "outputs": [
    {
     "name": "stdout",
     "output_type": "stream",
     "text": [
      "Shuffled:- [2, 3, 1, 4, 5]\n"
     ]
    }
   ],
   "source": [
    "#38.Shuffle the elements of a list randomly.\n",
    "l38 = [1, 2, 3, 4, 5]\n",
    "import random\n",
    "random.shuffle(l38)\n",
    "print(\"Shuffled:-\",l38)"
   ]
  },
  {
   "cell_type": "code",
   "execution_count": 17,
   "id": "19e70ea9-bcf0-48d1-9c1a-dfc15d9de81c",
   "metadata": {},
   "outputs": [
    {
     "name": "stdout",
     "output_type": "stream",
     "text": [
      "[1, 2, 6, 24, 120, 720, 5040, 40320, 362880, 3628800]\n"
     ]
    }
   ],
   "source": [
    "#39.Create a list of the first 10 factorial numbers.\n",
    "factorial_list = []\n",
    "for i in range(1, 11):\n",
    "    factorial = 1\n",
    "    for j in range(1, i + 1):\n",
    "        factorial *= j\n",
    "    factorial_list.append(factorial)\n",
    "\n",
    "print(factorial_list)"
   ]
  },
  {
   "cell_type": "code",
   "execution_count": 45,
   "id": "acaf5f03-a97e-4644-8205-4f15182d3557",
   "metadata": {},
   "outputs": [
    {
     "name": "stdout",
     "output_type": "stream",
     "text": [
      "True\n"
     ]
    }
   ],
   "source": [
    "#40.Check if two lists have at least one element in common.\n",
    "def have_common_element(list1, list2):\n",
    "    set1 = set(list1)\n",
    "    set2 = set(list2)\n",
    "    return len(set1.intersection(set2)) > 0\n",
    "\n",
    "list1 = [1, 2, 3, 4, 5]\n",
    "list2 = [4, 5, 6, 7, 8]\n",
    "result = have_common_element(list1, list2)\n",
    "print(result) "
   ]
  },
  {
   "cell_type": "code",
   "execution_count": 5,
   "id": "74117fc2-f275-4f64-a14e-4657796ad749",
   "metadata": {},
   "outputs": [
    {
     "name": "stdout",
     "output_type": "stream",
     "text": [
      "clear list:- []\n"
     ]
    }
   ],
   "source": [
    "#41.Remove all elements from a list.\n",
    "l41 = [1,2,3,4,5,6,7,8]\n",
    "l41.clear()\n",
    "print(\"clear list:-\",l41)"
   ]
  },
  {
   "cell_type": "code",
   "execution_count": 6,
   "id": "60614099-0f0d-451d-ab52-69b8f5b89e84",
   "metadata": {},
   "outputs": [
    {
     "name": "stdout",
     "output_type": "stream",
     "text": [
      "[0, 5, 6, 0, 23, 10, 0]\n"
     ]
    }
   ],
   "source": [
    "#42.Replace negative numbers in a list with 0.\n",
    "l42 = [-2,5,6,-8,23,10,-24]\n",
    "l42 = [0 if i<0 else i for i in l42]\n",
    "print(l42)"
   ]
  },
  {
   "cell_type": "code",
   "execution_count": 8,
   "id": "0862ed0f-9225-422b-aed8-576c21a9c4a3",
   "metadata": {},
   "outputs": [
    {
     "data": {
      "text/plain": [
       "[0, 5, 6, 0, 23, 10, 0]"
      ]
     },
     "execution_count": 8,
     "metadata": {},
     "output_type": "execute_result"
    }
   ],
   "source": [
    "#or\n",
    "l42 = [(i > 0) * i for i in l42]\n",
    "l42"
   ]
  },
  {
   "cell_type": "code",
   "execution_count": 18,
   "id": "a7733d90-5c8b-4af5-9c27-e9f9bfdf1905",
   "metadata": {},
   "outputs": [
    {
     "name": "stdout",
     "output_type": "stream",
     "text": [
      "['I', 'am', 'learning', 'Python!']\n"
     ]
    },
    {
     "data": {
      "text/plain": [
       "list"
      ]
     },
     "execution_count": 18,
     "metadata": {},
     "output_type": "execute_result"
    }
   ],
   "source": [
    "#43.Convert a string into a list of words.\n",
    "string = \"I am learning Python!\"\n",
    "\n",
    "string_to_list = string.split()\n",
    "\n",
    "print(string_to_list)\n",
    "type(string_to_list)"
   ]
  },
  {
   "cell_type": "code",
   "execution_count": 21,
   "id": "f4301575-d1e7-4b38-8ba8-a9f5247eddb4",
   "metadata": {},
   "outputs": [
    {
     "name": "stdout",
     "output_type": "stream",
     "text": [
      "I am learning Python!\n"
     ]
    }
   ],
   "source": [
    "#44.Convert a list of words into a string.\n",
    "l44 = ['I', 'am', 'learning', 'Python!']\n",
    "my_string = ' '.join(l44)\n",
    "print(my_string)"
   ]
  },
  {
   "cell_type": "code",
   "execution_count": 30,
   "id": "438abee2-3e22-49df-beb7-229e37ead2f7",
   "metadata": {},
   "outputs": [
    {
     "name": "stdout",
     "output_type": "stream",
     "text": [
      "listed 2's power [2, 4, 8, 16, 32]\n"
     ]
    }
   ],
   "source": [
    "#45. Create a list of the first `n` powers of 2.\n",
    "l45 = [1,2,3,4,5]\n",
    "l45 = [2**x for x in l45 if 0<x<10]\n",
    "print(\"listed 2's power\",l45)"
   ]
  },
  {
   "cell_type": "code",
   "execution_count": 35,
   "id": "8af79484-a146-429b-809d-9ca35d4ba780",
   "metadata": {},
   "outputs": [
    {
     "name": "stdout",
     "output_type": "stream",
     "text": [
      "learning\n"
     ]
    }
   ],
   "source": [
    "#46.Find the longest string in a list of strings.\n",
    "l46 = ['I', 'am', 'learning', 'Python!']\n",
    "longest_word = max(l44, key=len)\n",
    "print(longest_word)"
   ]
  },
  {
   "cell_type": "code",
   "execution_count": 36,
   "id": "9d73c5eb-9456-4766-8b69-a400adab0f47",
   "metadata": {},
   "outputs": [
    {
     "name": "stdout",
     "output_type": "stream",
     "text": [
      "I\n"
     ]
    }
   ],
   "source": [
    "#47. Find the shortest string in a list of strings.\n",
    "l47 = ['I', 'am', 'learning', 'Python!']\n",
    "shortest_word = min(l44, key=len)\n",
    "print(shortest_word)"
   ]
  },
  {
   "cell_type": "code",
   "execution_count": 37,
   "id": "ff615c50-4700-449f-b096-90de1fe6c5f8",
   "metadata": {},
   "outputs": [
    {
     "name": "stdout",
     "output_type": "stream",
     "text": [
      "[1, 3, 6, 10, 15, 21, 28, 36, 45, 55]\n"
     ]
    }
   ],
   "source": [
    "#48. Create a list of the first `n` triangular numbers.\n",
    "n = 10  \n",
    "# Replace 10 with the desired value of n\n",
    "triangular_numbers = []\n",
    "sum = 0\n",
    "for i in range(1, n+1):\n",
    "    sum += i\n",
    "    triangular_numbers.append(sum)\n",
    "print(triangular_numbers) "
   ]
  },
  {
   "cell_type": "code",
   "execution_count": 3,
   "id": "c8a3e13a-191d-40ec-b6fb-7d3d2d5fe7e8",
   "metadata": {},
   "outputs": [
    {
     "name": "stdout",
     "output_type": "stream",
     "text": [
      "Yes, list is subset of other.\n"
     ]
    }
   ],
   "source": [
    "#49.Check if a list contains another list as a subsequence.\n",
    "# initializing list\n",
    "l49 = [9, 4, 5, 8, 10]\n",
    "sub_l49 = [10, 5]\n",
    " \n",
    "# using issubset() to\n",
    "count = 0\n",
    "if(set(sub_l49).issubset(set(l49))):\n",
    "    count = 1\n",
    "    \n",
    "# printing result\n",
    "if (count):\n",
    "    print(\"Yes, list is subset of other.\")\n",
    "else:\n",
    "    print(\"No, list is not subset of other.\")"
   ]
  },
  {
   "cell_type": "code",
   "execution_count": 8,
   "id": "e45c65e4-f488-49b4-98ac-05de45897217",
   "metadata": {},
   "outputs": [
    {
     "name": "stdin",
     "output_type": "stream",
     "text": [
      "input a:- 2\n",
      "input b:- 4\n"
     ]
    },
    {
     "name": "stdout",
     "output_type": "stream",
     "text": [
      "[1, 2, 5, 4, 3]\n"
     ]
    }
   ],
   "source": [
    "#50.Swap two elements in a list by their indices.\n",
    "l50 = [1, 2, 3, 4, 5]\n",
    "def swap_elements(l50, a, b):\n",
    "    l50[a],l50[b] = l50[b],l50[a]\n",
    "    return l50\n",
    "a = int(input(\"input a:-\"))\n",
    "b = int(input(\"input b:-\"))\n",
    "\n",
    "print(swap_elements(l50, a, b))"
   ]
  },
  {
   "cell_type": "code",
   "execution_count": 9,
   "id": "31632644-26d2-4c7d-bf28-57cfe36f1053",
   "metadata": {},
   "outputs": [],
   "source": [
    "#Question based on lis done..."
   ]
  },
  {
   "cell_type": "code",
   "execution_count": 1,
   "id": "3a6194a6-30b9-450e-af0f-efbe06ab4eb2",
   "metadata": {},
   "outputs": [
    {
     "data": {
      "text/plain": [
       "'Questions based on tuple'"
      ]
     },
     "execution_count": 1,
     "metadata": {},
     "output_type": "execute_result"
    }
   ],
   "source": [
    "'''Questions based on tuple'''"
   ]
  },
  {
   "cell_type": "code",
   "execution_count": 4,
   "id": "a77469be-213f-4a42-bc13-70cd045e5235",
   "metadata": {},
   "outputs": [
    {
     "name": "stdout",
     "output_type": "stream",
     "text": [
      "tupple:- (1, 2, 3, 4, 5)\n"
     ]
    },
    {
     "data": {
      "text/plain": [
       "tuple"
      ]
     },
     "execution_count": 4,
     "metadata": {},
     "output_type": "execute_result"
    }
   ],
   "source": [
    "#1.Create a tuple with integers from 1 to 5.\n",
    "t = tuple(range(1,6))\n",
    "print(\"tupple:-\",t)\n",
    "type(t)"
   ]
  },
  {
   "cell_type": "code",
   "execution_count": 8,
   "id": "cee33de9-52b3-46bf-94d5-931294b05d06",
   "metadata": {},
   "outputs": [
    {
     "name": "stdout",
     "output_type": "stream",
     "text": [
      "third element or index 2:- 3\n"
     ]
    }
   ],
   "source": [
    "#2.Access the third element of a tuple.\n",
    "t2 = (1,2,3,4,5,6)\n",
    "a = t[2]\n",
    "print(\"third element or index 2:-\",a)"
   ]
  },
  {
   "cell_type": "code",
   "execution_count": 11,
   "id": "5b9007e6-6e1d-43cc-9812-3f4adca17c49",
   "metadata": {},
   "outputs": [
    {
     "name": "stdout",
     "output_type": "stream",
     "text": [
      "Length of tuple:- 7\n"
     ]
    }
   ],
   "source": [
    "#3.Find the length of a tuple without using the `len()` function.\n",
    "t3 = (2,3,4,5,6,7,8)\n",
    "count = 0\n",
    "for char in t3:\n",
    "    count += 1\n",
    "print(\"Length of tuple:-\",count)"
   ]
  },
  {
   "cell_type": "code",
   "execution_count": 20,
   "id": "2c40da28-d782-4d49-b662-4c1fdde21df0",
   "metadata": {},
   "outputs": [
    {
     "name": "stdin",
     "output_type": "stream",
     "text": [
      "Enter the element:- 3\n"
     ]
    },
    {
     "name": "stdout",
     "output_type": "stream",
     "text": [
      "No of time:- 2\n"
     ]
    }
   ],
   "source": [
    "#4.Count the occurrences of an element in a tuple.\n",
    "t4 = (1,2,3,3,4,5,5,7,8)\n",
    "element_occurence = t4.count(int(input(\"Enter the element:-\")))\n",
    "print(\"No of time:-\",element_occurence)"
   ]
  },
  {
   "cell_type": "code",
   "execution_count": 25,
   "id": "749d21c1-e57a-4a2d-af37-6eca6e08c380",
   "metadata": {},
   "outputs": [
    {
     "name": "stdin",
     "output_type": "stream",
     "text": [
      "enter element 6\n"
     ]
    },
    {
     "name": "stdout",
     "output_type": "stream",
     "text": [
      "first occurent at index:- 1\n"
     ]
    }
   ],
   "source": [
    "#5.Find the index of the first occurrence of an element in a tuple.\n",
    "t5 = (4,6,5,6,7,5,8,9,6,10)\n",
    "element_index = t5.index(int(input(\"enter element\")))\n",
    "print(\"first occurent at index:-\",element_index)"
   ]
  },
  {
   "cell_type": "code",
   "execution_count": 6,
   "id": "45b4214f-4b95-4143-85ae-30dcb67a0e95",
   "metadata": {},
   "outputs": [
    {
     "name": "stdin",
     "output_type": "stream",
     "text": [
      "enter the no.:- 67\n"
     ]
    },
    {
     "name": "stdout",
     "output_type": "stream",
     "text": [
      "do not exist\n"
     ]
    }
   ],
   "source": [
    "#6.Check if an element exists in a tuple.\n",
    "t = (9,8,7,6,5,4,4)\n",
    "i = int(input(\"enter the no.:-\"))\n",
    "if i in t:\n",
    "    print(\"exist\")\n",
    "else:\n",
    "    print(\"do not exist\")         "
   ]
  },
  {
   "cell_type": "code",
   "execution_count": 11,
   "id": "2edc6b91-3df5-4834-9338-107926a0aafd",
   "metadata": {},
   "outputs": [
    {
     "name": "stdout",
     "output_type": "stream",
     "text": [
      "<class 'tuple'>\n",
      "<class 'list'>\n"
     ]
    },
    {
     "data": {
      "text/plain": [
       "[4, 5, 78, 92, 45, 6]"
      ]
     },
     "execution_count": 11,
     "metadata": {},
     "output_type": "execute_result"
    }
   ],
   "source": [
    "#7.Convert a tuple to a list.\n",
    "t = (4,5,78,92,45,6)\n",
    "l = list(t)\n",
    "print(type(t))\n",
    "print(type(l))\n",
    "l     "
   ]
  },
  {
   "cell_type": "code",
   "execution_count": 12,
   "id": "4f2cb4bb-9edf-41e7-a035-77a772dbd721",
   "metadata": {},
   "outputs": [
    {
     "data": {
      "text/plain": [
       "(4, 5, 78, 92, 45, 6)"
      ]
     },
     "execution_count": 12,
     "metadata": {},
     "output_type": "execute_result"
    }
   ],
   "source": [
    "#8.Convert a list to a tuple.\n",
    "l = [4, 5, 78, 92, 45, 6]\n",
    "tuple(l)"
   ]
  },
  {
   "cell_type": "code",
   "execution_count": 13,
   "id": "63d2872a-416d-425d-97d9-cdf9e20f95f1",
   "metadata": {},
   "outputs": [
    {
     "name": "stdout",
     "output_type": "stream",
     "text": [
      "2 3 4\n"
     ]
    }
   ],
   "source": [
    "#9.Unpack the elements of a tuple into variables.\n",
    "t = (2,3,4)\n",
    "a,b,c = t\n",
    "print(a,b,c)"
   ]
  },
  {
   "cell_type": "code",
   "execution_count": 14,
   "id": "8925d5e1-b014-47ba-9853-a079b2b16b3c",
   "metadata": {},
   "outputs": [
    {
     "data": {
      "text/plain": [
       "(2, 4, 6, 8, 10)"
      ]
     },
     "execution_count": 14,
     "metadata": {},
     "output_type": "execute_result"
    }
   ],
   "source": [
    "#10.Create a tuple of even numbers from 1 to 10.\n",
    "t10 =tuple(range(2,11,2))\n",
    "t10"
   ]
  },
  {
   "cell_type": "code",
   "execution_count": 16,
   "id": "33ddf12b-2e9d-4f25-9e62-4da89f1e4c41",
   "metadata": {},
   "outputs": [
    {
     "data": {
      "text/plain": [
       "(1, 3, 5, 7, 9)"
      ]
     },
     "execution_count": 16,
     "metadata": {},
     "output_type": "execute_result"
    }
   ],
   "source": [
    "#11.Create a tuple of odd numbers from 1 to 10.\n",
    "t11 = tuple(range(1,10,2))\n",
    "t11"
   ]
  },
  {
   "cell_type": "code",
   "execution_count": 17,
   "id": "41b69926-f645-4bbb-9859-314218a5b4d5",
   "metadata": {},
   "outputs": [
    {
     "name": "stdout",
     "output_type": "stream",
     "text": [
      "(1, 2, 3, 2, 3, 4, 5)\n"
     ]
    }
   ],
   "source": [
    "#12.Concatenate two tuples.\n",
    "tup_1 = (1,2,3)\n",
    "tup_2 = (2,3,4,5)\n",
    "c = tup_1+tup_2\n",
    "print(c)"
   ]
  },
  {
   "cell_type": "code",
   "execution_count": 18,
   "id": "5b1c449e-50cb-4dc5-a6ce-bcbc6447aa82",
   "metadata": {},
   "outputs": [
    {
     "name": "stdout",
     "output_type": "stream",
     "text": [
      "(1, 2, 3, 4, 1, 2, 3, 4, 1, 2, 3, 4)\n"
     ]
    }
   ],
   "source": [
    "#13.Repeat a tuple three times.\n",
    "t = (1,2,3,4)\n",
    "res_tuple = t*3\n",
    "print(res_tuple)"
   ]
  },
  {
   "cell_type": "code",
   "execution_count": 19,
   "id": "99dc66a7-0298-4f8d-9ee2-8592b9fe8484",
   "metadata": {},
   "outputs": [
    {
     "name": "stdout",
     "output_type": "stream",
     "text": [
      "tuple is empty\n"
     ]
    }
   ],
   "source": [
    "#14.Check if a tuple is empty.\n",
    "tup_14 = ()\n",
    "if len(tup_14) == 0:\n",
    "    print(\"tuple is empty\")\n",
    "else:\n",
    "    print(\"tuple is not empty\")"
   ]
  },
  {
   "cell_type": "code",
   "execution_count": 23,
   "id": "88fd1446-63d4-4b0d-b856-9beea49de76a",
   "metadata": {},
   "outputs": [
    {
     "name": "stdout",
     "output_type": "stream",
     "text": [
      "Nested tuple:  ((3, 4), (5, 6))\n"
     ]
    }
   ],
   "source": [
    "#15.Create a nested tuple.\n",
    "test_tup1 = (3, 4)\n",
    "test_tup2 = (5, 6)\n",
    " \n",
    "res = ((test_tup1, ) + (test_tup2, ))\n",
    "\n",
    "print(\"Nested tuple: \", str(res))"
   ]
  },
  {
   "cell_type": "code",
   "execution_count": 4,
   "id": "d4e1f7e9-1d86-4786-b92f-b7d81d76b9b0",
   "metadata": {},
   "outputs": [
    {
     "name": "stdout",
     "output_type": "stream",
     "text": [
      "1\n"
     ]
    }
   ],
   "source": [
    "#16.Access the first element of a nested tuple.\n",
    "nested_tup = ((1, 2), (3, 4), (5, 6))\n",
    "first_element = nested_tup[0][0]\n",
    "print(first_element)"
   ]
  },
  {
   "cell_type": "code",
   "execution_count": 6,
   "id": "0ab93581-28a6-411c-a9f2-9bcaf1e53a9f",
   "metadata": {},
   "outputs": [
    {
     "name": "stdout",
     "output_type": "stream",
     "text": [
      "(0,)\n"
     ]
    }
   ],
   "source": [
    "#17.Create a tuple with a single element.\n",
    "my_tup = tuple(range(0,1))\n",
    "print(my_tup)"
   ]
  },
  {
   "cell_type": "code",
   "execution_count": 8,
   "id": "8239f60f-f069-4893-858d-708608c402a2",
   "metadata": {},
   "outputs": [
    {
     "name": "stdout",
     "output_type": "stream",
     "text": [
      "Equal\n"
     ]
    }
   ],
   "source": [
    "#18.Compare two tuples.\n",
    "tup_18 = tuple(range(1,21,2))\n",
    "t_18 = tuple(range(1,20,2))\n",
    "if tup_18 == t_18:\n",
    "    print(\"Equal\")\n",
    "else:\n",
    "    print(\"Not equal\")"
   ]
  },
  {
   "cell_type": "code",
   "execution_count": 10,
   "id": "75ae3bfc-4c54-44a8-8185-512328c57484",
   "metadata": {},
   "outputs": [],
   "source": [
    "#19.Delete a tuple.\n",
    "tup_19 = (2,3,4,5,6,7,8)\n",
    "del(tup_19)"
   ]
  },
  {
   "cell_type": "code",
   "execution_count": 11,
   "id": "592e3e8b-c56f-420f-889b-6ad754ee3e22",
   "metadata": {},
   "outputs": [
    {
     "ename": "NameError",
     "evalue": "name 'tup_19' is not defined",
     "output_type": "error",
     "traceback": [
      "\u001b[0;31m---------------------------------------------------------------------------\u001b[0m",
      "\u001b[0;31mNameError\u001b[0m                                 Traceback (most recent call last)",
      "Cell \u001b[0;32mIn[11], line 1\u001b[0m\n\u001b[0;32m----> 1\u001b[0m \u001b[38;5;28mprint\u001b[39m(\u001b[43mtup_19\u001b[49m)\n",
      "\u001b[0;31mNameError\u001b[0m: name 'tup_19' is not defined"
     ]
    }
   ],
   "source": [
    "print(tup_19)"
   ]
  },
  {
   "cell_type": "code",
   "execution_count": 13,
   "id": "c8d0e600-1a23-4c31-81d8-24e91d3dce7c",
   "metadata": {},
   "outputs": [
    {
     "name": "stdout",
     "output_type": "stream",
     "text": [
      "(13, 14, 15, 16)\n"
     ]
    }
   ],
   "source": [
    "#20.Slice a tuple.\n",
    "tup_20 = (12,13,14,15,16,17,18)\n",
    "sliced_tup = tup_20[1:5]\n",
    "print(sliced_tup)"
   ]
  },
  {
   "cell_type": "code",
   "execution_count": 16,
   "id": "d88a7f65-3c41-4503-ace3-7e74571ac1f5",
   "metadata": {},
   "outputs": [
    {
     "name": "stdout",
     "output_type": "stream",
     "text": [
      "184\n"
     ]
    }
   ],
   "source": [
    "#21.Find the maximum value in a tuple.\n",
    "tup_20 = (12,134,184,150,16,17,18)\n",
    "max_value = max(tup_20)\n",
    "print(max_value)"
   ]
  },
  {
   "cell_type": "code",
   "execution_count": 17,
   "id": "0f231085-c4f1-4f0a-86cd-9c2a5e1d065c",
   "metadata": {},
   "outputs": [
    {
     "name": "stdout",
     "output_type": "stream",
     "text": [
      "12\n"
     ]
    }
   ],
   "source": [
    "#22.Find the minimum value in a tuple.\n",
    "tup_20 = (12,134,184,150,16,17,18)\n",
    "min_value = min(tup_20)\n",
    "print(min_value)"
   ]
  },
  {
   "cell_type": "code",
   "execution_count": 21,
   "id": "d2f4018e-4f0a-4fab-bf26-1b620984465b",
   "metadata": {},
   "outputs": [
    {
     "name": "stdout",
     "output_type": "stream",
     "text": [
      "('I', ' ', 'l', 'o', 'v', 'e', ' ', 't', 'h', 'e', ' ', 'P', 'y', 't', 'h', 'o', 'n')\n"
     ]
    }
   ],
   "source": [
    "#23.Convert a string to a tuple of characters.\n",
    "string = \"I love the Python\"\n",
    "tup_of_char = tuple(string)\n",
    "print(tup_of_char)"
   ]
  },
  {
   "cell_type": "code",
   "execution_count": 24,
   "id": "daaaf426-ceeb-47be-bb50-8326f4c3cf92",
   "metadata": {},
   "outputs": [
    {
     "name": "stdout",
     "output_type": "stream",
     "text": [
      "I love the Python\n"
     ]
    }
   ],
   "source": [
    "#24.Convert a tuple of characters to a string.\n",
    "tuple_24 = ('I', ' ', 'l', 'o', 'v', 'e', ' ', 't', 'h', 'e', ' ', 'P', 'y', 't', 'h', 'o', 'n')\n",
    "string_of_char = ''.join(tuple_24)\n",
    "print(string_of_char)"
   ]
  },
  {
   "cell_type": "code",
   "execution_count": 5,
   "id": "8d4c1aef-baf4-43a3-888d-6e1d8809e338",
   "metadata": {},
   "outputs": [
    {
     "name": "stdout",
     "output_type": "stream",
     "text": [
      "<class 'int'>\n",
      "<class 'str'>\n",
      "<class 'float'>\n",
      "<class 'list'>\n"
     ]
    },
    {
     "data": {
      "text/plain": [
       "tuple"
      ]
     },
     "execution_count": 5,
     "metadata": {},
     "output_type": "execute_result"
    }
   ],
   "source": [
    "#25.Create a tuple from multiple data types.\n",
    "my_tup = (1, \"two\", 3.0, [4, 5])\n",
    "print(type(my_tup[0]))\n",
    "print(type(my_tup[1]))\n",
    "print(type(my_tup[2]))\n",
    "print(type(my_tup[3]))\n",
    "type(my_tup)"
   ]
  },
  {
   "cell_type": "code",
   "execution_count": 2,
   "id": "78780432-911f-4804-be3c-78cfbbb3820c",
   "metadata": {},
   "outputs": [
    {
     "name": "stdout",
     "output_type": "stream",
     "text": [
      "Tuples are identical\n"
     ]
    }
   ],
   "source": [
    "#26.Check if two tuples are identical.\n",
    "t26 = (3,4,5,6,7,8)\n",
    "tup_26 = (3,4,5,6,7,8)\n",
    "if t26 == tup_26:\n",
    "    print(\"Tuples are identical\")\n",
    "else:\n",
    "    print(\"Tuples are not identical\")"
   ]
  },
  {
   "cell_type": "code",
   "execution_count": 9,
   "id": "64130e40-c4fe-49a0-8b57-da7c1ee4115a",
   "metadata": {},
   "outputs": [
    {
     "data": {
      "text/plain": [
       "(2, 3, 3, 4, 4, 4, 5, 6, 6, 7, 7)"
      ]
     },
     "execution_count": 9,
     "metadata": {},
     "output_type": "execute_result"
    }
   ],
   "source": [
    "#27.Sort the elements of a tuple.\n",
    "t27 = (2,3,4,5,6,4,3,6,7,7,4)\n",
    "tuple(sorted(t27))"
   ]
  },
  {
   "cell_type": "code",
   "execution_count": 24,
   "id": "ed9033a7-bc36-44dd-92ad-9f71dd7501af",
   "metadata": {},
   "outputs": [
    {
     "name": "stdout",
     "output_type": "stream",
     "text": [
      "('2', '3', '4', '5', '6', '4', '3', '6', '7', '7', '4')\n"
     ]
    }
   ],
   "source": [
    "#28.Convert a tuple of integers to a tuple of strings.\n",
    "t28 = (2,3,4,5,6,4,3,6,7,7,4)\n",
    "tuple_of_str = tuple(str(x) for x in t28) \n",
    "print(tuple_of_str)"
   ]
  },
  {
   "cell_type": "code",
   "execution_count": 26,
   "id": "e16da5da-1cd6-4668-8973-13b049c96f93",
   "metadata": {},
   "outputs": [
    {
     "name": "stdout",
     "output_type": "stream",
     "text": [
      "(3, 4, 5, 6, 7, 7, 4)\n"
     ]
    }
   ],
   "source": [
    "#29.Convert a tuple of strings to a tuple of integers.\n",
    "t29 = ('3', '4', '5', '6', '7', '7', '4')\n",
    "tup_of_int = tuple(int(x) for x in t29)\n",
    "print(tup_of_int)"
   ]
  },
  {
   "cell_type": "code",
   "execution_count": 28,
   "id": "4d6e27e1-6001-4c98-89da-7b48deaf880f",
   "metadata": {},
   "outputs": [
    {
     "name": "stdout",
     "output_type": "stream",
     "text": [
      "(1, 2, 3, 1, 2, 3, 4)\n"
     ]
    }
   ],
   "source": [
    "#30.Merge two tuples.\n",
    "t_30 = (1,2,3)\n",
    "t30 = (1,2,3,4)\n",
    "merged_tuple = t_30+t30\n",
    "print(merged_tuple)"
   ]
  },
  {
   "cell_type": "code",
   "execution_count": 48,
   "id": "a8dee045-6e07-4042-9a30-f396375f2fd0",
   "metadata": {},
   "outputs": [
    {
     "name": "stdout",
     "output_type": "stream",
     "text": [
      "(1, 2, 3, 4, 5, 6, 7, 8)\n"
     ]
    }
   ],
   "source": [
    "#31.Flatten a nested tuple.\n",
    "t_31 = ((1,2,3),(4,5,6),(7,8))\n",
    "flattened = tuple(x for sublist in t_31 for x in sublist) \n",
    "print(flattened)"
   ]
  },
  {
   "cell_type": "code",
   "execution_count": 1,
   "id": "2875b1cb-4ae9-462e-8177-9a65e68bc2b6",
   "metadata": {},
   "outputs": [
    {
     "name": "stdin",
     "output_type": "stream",
     "text": [
      "Enter the value of n:  5\n"
     ]
    },
    {
     "name": "stdout",
     "output_type": "stream",
     "text": [
      "(2, 3, 5, 7, 11)\n"
     ]
    }
   ],
   "source": [
    "#32.Create a tuple of the first 5 prime numbers.\n",
    "def is_prime(num):\n",
    "    if num < 2:\n",
    "        return False\n",
    "    for i in range(2, int(num**0.5) + 1):\n",
    "        if num % i == 0:\n",
    "            return False\n",
    "    return True\n",
    "\n",
    "n = int(input(\"Enter the value of n: \"))\n",
    "prime_numbers = ()\n",
    "count = 0\n",
    "num = 2\n",
    "\n",
    "while count < n:\n",
    "    if is_prime(num):\n",
    "        prime_numbers += (num,)\n",
    "        count += 1\n",
    "    num += 1\n",
    "\n",
    "print(prime_numbers)"
   ]
  },
  {
   "cell_type": "code",
   "execution_count": 10,
   "id": "421ee828-e651-4fc7-9438-10bb897ac9f4",
   "metadata": {},
   "outputs": [
    {
     "name": "stdout",
     "output_type": "stream",
     "text": [
      "tuple is palindrome\n"
     ]
    }
   ],
   "source": [
    "#33.Check if a tuple is a palindrome.\n",
    "def is_palindrom(t):\n",
    "        if t == t[::-1]:\n",
    "            print(\"tuple is palindrome\")\n",
    "        else:\n",
    "            print(\"tuple is not palindrome\")\n",
    "\n",
    "t = (1,2,3,2,1)\n",
    "is_palindrom(t)"
   ]
  },
  {
   "cell_type": "code",
   "execution_count": 14,
   "id": "284281c9-3b44-49c4-b451-22c80b5d3ce7",
   "metadata": {},
   "outputs": [
    {
     "data": {
      "text/plain": [
       "(1, 4, 9, 16, 25)"
      ]
     },
     "execution_count": 14,
     "metadata": {},
     "output_type": "execute_result"
    }
   ],
   "source": [
    "#34.Create a tuple of squares of numbers from 1 to 5.\n",
    "t = range(1,6)\n",
    "squared_tuple = (x**2 for x in t)\n",
    "tuple(squared_tuple)"
   ]
  },
  {
   "cell_type": "code",
   "execution_count": 19,
   "id": "7cc848f7-bf0e-4256-a67d-3deda3e8aed5",
   "metadata": {},
   "outputs": [
    {
     "name": "stdout",
     "output_type": "stream",
     "text": [
      "(12, 14, 16, 18, 20, 22, 24, 26, 28, 30)\n"
     ]
    }
   ],
   "source": [
    "#35.Filter out all even numbers from a tuple.\n",
    "t35 = range(11,31)\n",
    "even_list = []\n",
    "for i in t:\n",
    "    if i%2 == 0:\n",
    "        even_list.append(i)\n",
    "    else:\n",
    "        continue\n",
    "req_tup = tuple(even_list)\n",
    "print(req_tup)"
   ]
  },
  {
   "cell_type": "code",
   "execution_count": 35,
   "id": "dbc8c790-d35d-45c6-b842-6283869e1ddc",
   "metadata": {},
   "outputs": [
    {
     "name": "stdout",
     "output_type": "stream",
     "text": [
      "(4, 6, 8, 10, 12, 14)\n"
     ]
    }
   ],
   "source": [
    "#36.Multiply all elements in a tuple by 2.\n",
    "t36 = (2,3,4,5,6,7)\n",
    "res_tuple = tuple(x*2 for x in t36)\n",
    "print(res_tuple)"
   ]
  },
  {
   "cell_type": "code",
   "execution_count": 44,
   "id": "bed161e3-da39-467c-b735-f573f97a2d0a",
   "metadata": {},
   "outputs": [
    {
     "data": {
      "text/plain": [
       "(51, 80, 47, 89, 15, 18, 50, 27, 77, 92)"
      ]
     },
     "execution_count": 44,
     "metadata": {},
     "output_type": "execute_result"
    }
   ],
   "source": [
    "#37.Create a tuple of random numbers.\n",
    "import random\n",
    "\n",
    "random_list = []\n",
    "for i in range(10):\n",
    "    \n",
    "    random_list.append(random.randint(1,100))\n",
    "tuple(random_list)"
   ]
  },
  {
   "cell_type": "code",
   "execution_count": 51,
   "id": "0dcdce0b-cb92-4516-8742-3ff9abcb864c",
   "metadata": {},
   "outputs": [
    {
     "name": "stdout",
     "output_type": "stream",
     "text": [
      "Tuple is sorted\n"
     ]
    }
   ],
   "source": [
    "#38.Check if a tuple is sorted.\n",
    "t = (3, 4, 6, 7, 8, 9)\n",
    "b = sorted(t)\n",
    "if tuple(t)==tuple(b):\n",
    "    print(\"Tuple is sorted\")\n",
    "else:\n",
    "    print(\"Tuple is not sorted\")"
   ]
  },
  {
   "cell_type": "code",
   "execution_count": 55,
   "id": "90781137-6593-4f20-be40-869048ab107d",
   "metadata": {},
   "outputs": [
    {
     "name": "stdout",
     "output_type": "stream",
     "text": [
      "(5, 6, 7, 8, 2, 3, 4)\n"
     ]
    }
   ],
   "source": [
    "#39.Rotate a tuple to the left by `n` positions.\n",
    "t39 = (2,3,4,5,6,7,8)\n",
    "def rotate_left(tpl, n):\n",
    "    return t39[n:] + t39[:n]\n",
    "rotated_tup = rotate_left(t39,3)\n",
    "print(rotated_tup)"
   ]
  },
  {
   "cell_type": "code",
   "execution_count": 58,
   "id": "59022ae6-6a3e-490d-83c0-b4565985db06",
   "metadata": {},
   "outputs": [
    {
     "name": "stdout",
     "output_type": "stream",
     "text": [
      "(6, 7, 8, 2, 3, 4, 5)\n"
     ]
    }
   ],
   "source": [
    "#40.Rotate a tuple to the right by `n` positions.\n",
    "t40 = (2,3,4,5,6,7,8)\n",
    "def rotate_right(tpl, n):\n",
    "    return t40[-n:] + t40[:-n]\n",
    "rotated_tuple = rotate_right(t40,3)\n",
    "print(rotated_tuple)"
   ]
  },
  {
   "cell_type": "code",
   "execution_count": 53,
   "id": "876b64a2-d917-4cb2-8253-659a1089a782",
   "metadata": {},
   "outputs": [],
   "source": [
    "#41.Create a tuple of the first 5 Fibonacci numbers.\n",
    "#nth fibonacci number:-\n",
    "def fibonacci(n):\n",
    "    if n<=1:\n",
    "        return n\n",
    "    else:\n",
    "        return fibonacci(n-1)+fibonacci(n+2)"
   ]
  },
  {
   "cell_type": "code",
   "execution_count": 60,
   "id": "bf9124ec-f896-48f1-8272-a5240f313613",
   "metadata": {},
   "outputs": [
    {
     "name": "stdout",
     "output_type": "stream",
     "text": [
      "(0, 1, 1, 2, 3)\n"
     ]
    }
   ],
   "source": [
    "#Reuired tuple:-\n",
    "fibonacci_tuple = (0,1)\n",
    "for i in range(3):\n",
    "    next_number = fibonacci_tuple[-1]+fibonacci_tuple[-2]\n",
    "    fibonacci_tuple += (next_number,)\n",
    "print(fibonacci_tuple)"
   ]
  },
  {
   "cell_type": "code",
   "execution_count": 2,
   "id": "2450baf4-1326-49c7-b376-444839f7e7b3",
   "metadata": {},
   "outputs": [
    {
     "name": "stdin",
     "output_type": "stream",
     "text": [
      "enter the elements 12345\n"
     ]
    },
    {
     "name": "stdout",
     "output_type": "stream",
     "text": [
      "('1', '2', '3', '4', '5')\n"
     ]
    }
   ],
   "source": [
    "#42.Create a tuple from user input.\n",
    "input_elements = tuple(input(\"enter the elements\"))\n",
    "print(input_elements)"
   ]
  },
  {
   "cell_type": "code",
   "execution_count": 16,
   "id": "3742da82-4474-4a1e-a662-ed810a7c64d7",
   "metadata": {},
   "outputs": [
    {
     "name": "stdout",
     "output_type": "stream",
     "text": [
      "(3, 4, 6, 5, 7, 8)\n"
     ]
    }
   ],
   "source": [
    "#43.Swap two elements in a tuple.\n",
    "t43 = (3,4,5,6,7,8)\n",
    "tuplist = list(t43)\n",
    "tuplist[2],tuplist[3] = tuplist[3],tuplist[2]\n",
    "swapped_tup = tuple(tuplist)\n",
    "print(swapped_tup)"
   ]
  },
  {
   "cell_type": "code",
   "execution_count": 18,
   "id": "341570e9-dd2c-407d-8f59-c1f204458641",
   "metadata": {},
   "outputs": [
    {
     "name": "stdout",
     "output_type": "stream",
     "text": [
      "(8, 7, 6, 5, 4, 3)\n"
     ]
    }
   ],
   "source": [
    "#44.Reverse the elements of a tuple.\n",
    "t44 = (3,4,5,6,7,8)\n",
    "rev_tup = t44[::-1]\n",
    "print(rev_tup)"
   ]
  },
  {
   "cell_type": "code",
   "execution_count": 24,
   "id": "acab22fb-8483-4c6e-8c7f-970b20944c23",
   "metadata": {},
   "outputs": [
    {
     "data": {
      "text/plain": [
       "32"
      ]
     },
     "execution_count": 24,
     "metadata": {},
     "output_type": "execute_result"
    }
   ],
   "source": [
    "#45.Create a tuple of the first `n` powers of 2.\n",
    "#finding nth power:\n",
    "def twos_power(n):\n",
    "    if n == 0:\n",
    "        return 1\n",
    "    elif n>=1:\n",
    "        return 2**n\n",
    "    else:\n",
    "        return \"n is not natural\"\n",
    "twos_power(5)"
   ]
  },
  {
   "cell_type": "code",
   "execution_count": 34,
   "id": "4ac1165c-949b-4d11-b1bb-2a089fe520da",
   "metadata": {},
   "outputs": [
    {
     "name": "stdin",
     "output_type": "stream",
     "text": [
      "Enter the value of n= 7\n"
     ]
    },
    {
     "name": "stdout",
     "output_type": "stream",
     "text": [
      "Required tuple:- (1, 2, 4, 8, 16, 32, 64, 128)\n"
     ]
    }
   ],
   "source": [
    "#tuple til \"n\" powers of 2 \n",
    "n = int(input(\"Enter the value of n=\"))\n",
    "twos_powers = tuple(pow(2,i) for i in range(n+1))\n",
    "print(\"Required tuple:-\",tuple(twos_powers))"
   ]
  },
  {
   "cell_type": "code",
   "execution_count": 40,
   "id": "8090a935-7bd7-454e-9a29-e10f5a60f4ab",
   "metadata": {},
   "outputs": [
    {
     "name": "stdout",
     "output_type": "stream",
     "text": [
      "Language\n"
     ]
    }
   ],
   "source": [
    "#46.Find the longest string in a tuple of strings.\n",
    "string = \"I love Python Language\"\n",
    "tuple_string = string.split()\n",
    "longest_string = max(tuple_string, key=len)\n",
    "print(longest_string)"
   ]
  },
  {
   "cell_type": "code",
   "execution_count": 42,
   "id": "eab5350c-f209-4e62-a6ac-e8d64f8bc60a",
   "metadata": {},
   "outputs": [
    {
     "name": "stdin",
     "output_type": "stream",
     "text": [
      "Enter the string:- Find the shortest string in a tuple of strings.\n"
     ]
    },
    {
     "name": "stdout",
     "output_type": "stream",
     "text": [
      "Shortest_string:- a\n"
     ]
    }
   ],
   "source": [
    "#47.Find the shortest string in a tuple of strings.\n",
    "input_string = input(\"Enter the string:-\")\n",
    "tuple_string = input_string.split()\n",
    "shortest_string = min(tuple_string, key = len)\n",
    "print(\"Shortest_string:-\",shortest_string)"
   ]
  },
  {
   "cell_type": "code",
   "execution_count": 74,
   "id": "bd9721ae-285b-445f-aeec-a5cb0f54133b",
   "metadata": {},
   "outputs": [
    {
     "name": "stdin",
     "output_type": "stream",
     "text": [
      "Enter the n:- 7\n"
     ]
    },
    {
     "data": {
      "text/plain": [
       "(1, 3, 6, 10, 15, 21, 28)"
      ]
     },
     "execution_count": 74,
     "metadata": {},
     "output_type": "execute_result"
    }
   ],
   "source": [
    "#48. Create a tuple of the first `n` triangular numbers.\n",
    "tri_list = []\n",
    "n = int(input(\"Enter the n:-\"))\n",
    "sum = 0\n",
    "for i in range(1, n+1):\n",
    "    sum += i\n",
    "    tri_list.append(sum)\n",
    "tuple(tri_list)"
   ]
  },
  {
   "cell_type": "code",
   "execution_count": 7,
   "id": "1ed23ff8-6965-46cb-b279-e6366c4edfdd",
   "metadata": {},
   "outputs": [
    {
     "name": "stdout",
     "output_type": "stream",
     "text": [
      "Yes, it is subsequent\n"
     ]
    }
   ],
   "source": [
    "#49.Check if a tuple contains another tuple as a subsequence.\n",
    "tup_49 = (2, 3, 4, 5, 6, 7)\n",
    "t_49 = (3,4,5)\n",
    "\n",
    "inter_tup = set(tup_49).intersection(t_49)\n",
    "if inter_tup == set(t_49):   \n",
    "    print(\"Yes, it is subsequent\")\n",
    "else:\n",
    "    print(\"No, it is not subsequent\")"
   ]
  },
  {
   "cell_type": "code",
   "execution_count": 10,
   "id": "223d92bc-6c7c-4314-a541-b33fc6510dfd",
   "metadata": {},
   "outputs": [
    {
     "name": "stdin",
     "output_type": "stream",
     "text": [
      "Enter the value of n:- 8\n"
     ]
    },
    {
     "name": "stdout",
     "output_type": "stream",
     "text": [
      "(1, 0, 1, 0, 1, 0, 1, 0)\n"
     ]
    }
   ],
   "source": [
    "#50.Create a tuple of alternating 1s and 0s of length `n`.\n",
    "n = int(input(\"Enter the value of n:-\"))\n",
    "alternating_tuple = ()\n",
    "\n",
    "for i in range(n):\n",
    "    if i % 2 == 0:\n",
    "        alternating_tuple += (1,)\n",
    "    else:\n",
    "        alternating_tuple += (0,)\n",
    "\n",
    "print(alternating_tuple)"
   ]
  },
  {
   "cell_type": "code",
   "execution_count": 11,
   "id": "0b65e400-8993-4d01-81f1-c98022b154ad",
   "metadata": {},
   "outputs": [],
   "source": [
    "#Tuple based problems done"
   ]
  },
  {
   "cell_type": "code",
   "execution_count": 2,
   "id": "78835247-7d43-4854-a159-51bddd36b844",
   "metadata": {},
   "outputs": [
    {
     "data": {
      "text/plain": [
       "{1, 2, 3, 4, 5}"
      ]
     },
     "execution_count": 2,
     "metadata": {},
     "output_type": "execute_result"
    }
   ],
   "source": [
    "'''\n",
    "Problems based on set.\n",
    "'''\n",
    "#1.Create a set with integers from 1 to 5.\n",
    "s1 = []\n",
    "for i in range(1,6):\n",
    "    s1.append(i)\n",
    "set(s1)"
   ]
  },
  {
   "cell_type": "code",
   "execution_count": 4,
   "id": "55a25d40-c30b-41f2-a151-d9ffa8f13a14",
   "metadata": {},
   "outputs": [
    {
     "name": "stdout",
     "output_type": "stream",
     "text": [
      "{2, 3, 4, 5, 6, 7, 8}\n"
     ]
    }
   ],
   "source": [
    "#2.Add an element to a set.\n",
    "s2 = {2,3,4,5,6,7}\n",
    "s2.add(8)\n",
    "print(s2)"
   ]
  },
  {
   "cell_type": "code",
   "execution_count": 7,
   "id": "ce679f81-30da-4b4c-9c61-addaf8620fed",
   "metadata": {},
   "outputs": [
    {
     "name": "stdout",
     "output_type": "stream",
     "text": [
      "{5, 7, 8, 9, 10}\n"
     ]
    }
   ],
   "source": [
    "#3.Remove an element from a set.\n",
    "s3 = {5,6,7,8,9,10}\n",
    "s3.remove(6)\n",
    "print(s3)"
   ]
  },
  {
   "cell_type": "code",
   "execution_count": 10,
   "id": "656c82ae-9d31-45c0-818b-600c58ec3417",
   "metadata": {},
   "outputs": [
    {
     "name": "stdin",
     "output_type": "stream",
     "text": [
      "Enter an element to chek:- 81\n"
     ]
    },
    {
     "name": "stdout",
     "output_type": "stream",
     "text": [
      "Doesn't exist\n"
     ]
    }
   ],
   "source": [
    "#4.Check if an element exists in a set.\n",
    "set_4 = set(range(60,81))\n",
    "n = int(input(\"Enter an element to chek:-\"))\n",
    "if n in set_4:\n",
    "    print(\"Exist\")\n",
    "else:\n",
    "    print(\"Doesn't exist\")"
   ]
  },
  {
   "cell_type": "code",
   "execution_count": 15,
   "id": "c06bd670-54c2-42d8-ab47-7493bc60e38d",
   "metadata": {},
   "outputs": [
    {
     "name": "stdout",
     "output_type": "stream",
     "text": [
      "length of set_5:- 89\n"
     ]
    }
   ],
   "source": [
    "#5.Find the length of a set without using the `len()` function.\n",
    "set_5 = set(range(11,100))\n",
    "count = 0\n",
    "for i in set_5:\n",
    "    count += 1\n",
    "print(\"length of set_5:-\",count)"
   ]
  },
  {
   "cell_type": "code",
   "execution_count": 6,
   "id": "622a6832-0761-4550-8dea-b166f0d0ec13",
   "metadata": {},
   "outputs": [
    {
     "name": "stdout",
     "output_type": "stream",
     "text": [
      "{10, 11, 12, 13, 14, 15, 16, 17, 18, 19}\n",
      "cleared_set:- set()\n"
     ]
    }
   ],
   "source": [
    "#6.Clear all elements from a set.\n",
    "set_6 = set(range(10,20))\n",
    "print(set_6)\n",
    "\n",
    "set_6.clear()\n",
    "print(\"cleared_set:-\",set_6)"
   ]
  },
  {
   "cell_type": "code",
   "execution_count": 19,
   "id": "689bc432-c92a-4d6b-9df3-5c1c09a23070",
   "metadata": {},
   "outputs": [
    {
     "name": "stdout",
     "output_type": "stream",
     "text": [
      "set of even:- {0, 2, 4, 6, 8, 10}\n"
     ]
    }
   ],
   "source": [
    "#7.Create a set of even numbers from 1 to 10.\n",
    "set_7 = set(range(0,11))\n",
    "set_list = []\n",
    "for i in set_7:\n",
    "    if i%2 == 0:\n",
    "        set_list.append(i)\n",
    "    else:\n",
    "        pass\n",
    "print(\"set of even:-\",set(set_list))        "
   ]
  },
  {
   "cell_type": "code",
   "execution_count": 20,
   "id": "435bff7c-aa61-479b-b434-599b03bd28cd",
   "metadata": {},
   "outputs": [
    {
     "name": "stdout",
     "output_type": "stream",
     "text": [
      "set of odd:- {1, 3, 5, 7, 9}\n"
     ]
    }
   ],
   "source": [
    "#8.Create a set of odd numbers from 1 to 10.\n",
    "set_8 = set(range(0,10))\n",
    "set_list = []\n",
    "for i in set_7:\n",
    "    if i%2 != 0:\n",
    "        set_list.append(i)\n",
    "    else:\n",
    "        pass\n",
    "print(\"set of odd:-\",set(set_list))"
   ]
  },
  {
   "cell_type": "code",
   "execution_count": 25,
   "id": "c08c15f8-98da-499a-86e2-a3f4c3d5b7dc",
   "metadata": {},
   "outputs": [
    {
     "name": "stdout",
     "output_type": "stream",
     "text": [
      "united set:- {0, 1, 2, 3, 4, 5, 6, 7, 8, 9, 10}\n"
     ]
    }
   ],
   "source": [
    "#9.Find the union of two sets.\n",
    "s9 = set(range(5)) #{0,1,2,3,4}\n",
    "\n",
    "set_9 = set(range(5,11)) #{5,6,7,8,9,10}\n",
    "\n",
    "set_union = s9.union(set_9)\n",
    "\n",
    "print(\"united set:-\",set_union)"
   ]
  },
  {
   "cell_type": "code",
   "execution_count": 26,
   "id": "84f30245-518b-4ac3-8ec8-7545a321256a",
   "metadata": {},
   "outputs": [
    {
     "name": "stdout",
     "output_type": "stream",
     "text": [
      "Intersection:- {0, 6}\n"
     ]
    }
   ],
   "source": [
    "#10.Find the intersection of two sets.\n",
    "s10 = set(range(0,12,3))\n",
    "set10 = set(range(0,12,2))\n",
    "common_elements = s10.intersection(set10)\n",
    "print(\"Intersection:-\",common_elements)"
   ]
  },
  {
   "cell_type": "code",
   "execution_count": 28,
   "id": "ff49e61f-608a-4c3c-95f2-a28f7cb32a4e",
   "metadata": {},
   "outputs": [
    {
     "name": "stdout",
     "output_type": "stream",
     "text": [
      "Difference:- {5, 6, 7, 8, 9, 10}\n"
     ]
    }
   ],
   "source": [
    "#11.Find the difference between two sets.\n",
    "s11 = set(range(1,11))\n",
    "set11 = set(range(5))\n",
    "set_diff = s11-set11\n",
    "print(\"Difference:-\", set_diff)"
   ]
  },
  {
   "cell_type": "code",
   "execution_count": 31,
   "id": "0bdb7219-c918-46fb-be3a-169b0c531362",
   "metadata": {},
   "outputs": [
    {
     "name": "stdout",
     "output_type": "stream",
     "text": [
      "Yes, it is subset of given set\n"
     ]
    }
   ],
   "source": [
    "#12.Check if a set is a subset of another set.\n",
    "s12 = {1,2,3,4,5,6,7,8,9,10}\n",
    "s_12 = {2,4,5,6,9}\n",
    "if s_12.issubset(s12):\n",
    "    print(\"Yes, it is subset of given set\")\n",
    "else:\n",
    "    print(\"No, it is not a subset of given set\")"
   ]
  },
  {
   "cell_type": "code",
   "execution_count": 34,
   "id": "af9a04b3-f9c5-4154-a731-08d8e17a693d",
   "metadata": {},
   "outputs": [
    {
     "name": "stdout",
     "output_type": "stream",
     "text": [
      "Yes, it is superset of given set\n"
     ]
    }
   ],
   "source": [
    "#13.Check if a set is a superset of another set.\n",
    "s13 = set(range(100))\n",
    "s_13 = set(range(20))\n",
    "if s13.issuperset(s_13):\n",
    "    print(\"Yes, it is superset of given set\")\n",
    "else:\n",
    "    print(\"No, it is not a superset of given set\")"
   ]
  },
  {
   "cell_type": "code",
   "execution_count": 36,
   "id": "81400d3e-33ee-4bce-af78-9895ffd8a9a8",
   "metadata": {},
   "outputs": [
    {
     "name": "stdout",
     "output_type": "stream",
     "text": [
      "Required set {0, 1, 2, 3, 4, 5, 6, 7, 8, 9, 10, 11, 12, 13, 14, 15, 16, 17, 18, 19}\n"
     ]
    }
   ],
   "source": [
    "#14.Create a set from a list.\n",
    "list14 = list(range(20))\n",
    "list_to_set = set(list14)\n",
    "print('Required set:-',list_to_set)"
   ]
  },
  {
   "cell_type": "code",
   "execution_count": 37,
   "id": "f8a1d396-5ef4-4618-b3cc-23b5ed123293",
   "metadata": {},
   "outputs": [
    {
     "name": "stdout",
     "output_type": "stream",
     "text": [
      "required list:- [0, 1, 2, 3, 4, 5, 6, 7, 8, 9, 10, 11, 12]\n"
     ]
    }
   ],
   "source": [
    "#15.Convert a set to a list.\n",
    "s15 = {0, 1, 2, 3, 4, 5, 6, 7, 8, 9, 10, 11, 12}\n",
    "set_to_list = list(s15)\n",
    "print(\"required list:-\",set_to_list)"
   ]
  },
  {
   "cell_type": "code",
   "execution_count": 12,
   "id": "5a98b16c-8388-42ee-89b8-0eb7280c165f",
   "metadata": {},
   "outputs": [
    {
     "name": "stdout",
     "output_type": "stream",
     "text": [
      "{0, 1, 2, 3, 4, 5, 6, 7, 9, 10}\n"
     ]
    }
   ],
   "source": [
    "#16.Remove a random element from a set.\n",
    "s16 = {0, 1, 2, 3, 4, 5, 6, 7, 8, 9, 10}\n",
    "s16.remove(8)\n",
    "print(s16)"
   ]
  },
  {
   "cell_type": "code",
   "execution_count": 13,
   "id": "e8942034-c516-4a3b-a7e9-ae4bab3a94cb",
   "metadata": {},
   "outputs": [
    {
     "data": {
      "text/plain": [
       "0"
      ]
     },
     "execution_count": 13,
     "metadata": {},
     "output_type": "execute_result"
    }
   ],
   "source": [
    "#17.Pop an element from a set.\n",
    "s17 = {0, 1, 2, 3, 4, 5,}\n",
    "s17.pop()"
   ]
  },
  {
   "cell_type": "code",
   "execution_count": 17,
   "id": "ac8cf9a5-766b-4544-8e01-396cc751bfa1",
   "metadata": {},
   "outputs": [
    {
     "name": "stdout",
     "output_type": "stream",
     "text": [
      "common elements:- {5, 6}\n"
     ]
    }
   ],
   "source": [
    "#18.Check if two sets have no elements in common.\n",
    "s18 = {1,2,3,4,5,6}\n",
    "s_18 = {5,6,7,8,9}\n",
    "common_ele = s18.intersection(s_18)\n",
    "if len(common_ele)==0:\n",
    "    print(\"No elements in common\")\n",
    "else:\n",
    "    print(\"common elements:-\",common_ele)"
   ]
  },
  {
   "cell_type": "code",
   "execution_count": 19,
   "id": "bb572af4-5100-4a57-9223-9f7c2bdab757",
   "metadata": {},
   "outputs": [
    {
     "name": "stdout",
     "output_type": "stream",
     "text": [
      "{1, 2, 3, 4, 7, 8, 9, 10}\n"
     ]
    }
   ],
   "source": [
    "#19.Find the symmetric difference between two sets.\n",
    "s19 = {1,2,3,4,5,6}\n",
    "s_19 = {5,6,7,8,9,10}\n",
    "symmetric_diff = s19^s_19\n",
    "print(symmetric_diff)"
   ]
  },
  {
   "cell_type": "code",
   "execution_count": 24,
   "id": "05f62a54-f910-4a26-b07f-6213f3a5f5d2",
   "metadata": {},
   "outputs": [
    {
     "name": "stdout",
     "output_type": "stream",
     "text": [
      "Updated set 19:- {1, 2, 3, 4, 5, 6, 7, 8, 9, 10}\n"
     ]
    }
   ],
   "source": [
    "#20.Update a set with elements from another set.\n",
    "s19 = {1,2,3,4,5}\n",
    "s_19 = {5,6,7,8,9,10}\n",
    "s19.update(s_19)\n",
    "print(\"Updated set 19:-\",s19)"
   ]
  },
  {
   "cell_type": "code",
   "execution_count": 8,
   "id": "84c67c7d-1ed7-42be-b98d-9a40c2f6b130",
   "metadata": {},
   "outputs": [
    {
     "name": "stdin",
     "output_type": "stream",
     "text": [
      "Enter the number of required prime numbers:- 5\n"
     ]
    },
    {
     "name": "stdout",
     "output_type": "stream",
     "text": [
      "Required set:- {2, 3, 5, 7, 11}\n"
     ]
    }
   ],
   "source": [
    "#21.Create a set of the first 5 prime numbers.\n",
    "def prime_numbers(n):\n",
    "    if n<2:\n",
    "        return False\n",
    "    for i in range(2, int(n**0.5)+1):\n",
    "        if n%i==0:\n",
    "            return False\n",
    "    return True\n",
    "N = input(\"Enter the number of required prime numbers:-\")\n",
    "prime_set = set()\n",
    "count = 0\n",
    "n = 2\n",
    "\n",
    "while count<int(N):\n",
    "    if prime_numbers(n):\n",
    "        prime_set.add(n)\n",
    "        count += 1\n",
    "    n += 1\n",
    "print(\"Required set:-\",prime_set)"
   ]
  },
  {
   "cell_type": "code",
   "execution_count": 9,
   "id": "64067bb2-734c-4725-8ee4-468e1950cffd",
   "metadata": {},
   "outputs": [
    {
     "name": "stdout",
     "output_type": "stream",
     "text": [
      "Identical\n"
     ]
    }
   ],
   "source": [
    "#22.Check if two sets are identical.\n",
    "set_22 = {4,5,6,7,8}\n",
    "set22 = {5,6,4,8,7}\n",
    "if set_22 == set22:\n",
    "    print(\"Identical\")\n",
    "else:\n",
    "    print(\"Not identical\")"
   ]
  },
  {
   "cell_type": "code",
   "execution_count": 11,
   "id": "89f2ad87-0570-4eca-9764-05fb22d07b12",
   "metadata": {},
   "outputs": [
    {
     "name": "stdout",
     "output_type": "stream",
     "text": [
      "frozenset({1, 2})\n"
     ]
    }
   ],
   "source": [
    "#23.Create a frozen set.\n",
    "a = ([1,2])\n",
    "my_frozen_set = frozenset(a)\n",
    "print(my_frozen_set)"
   ]
  },
  {
   "cell_type": "code",
   "execution_count": 6,
   "id": "4980ef8c-35b6-42f8-9515-f956f9a79592",
   "metadata": {},
   "outputs": [
    {
     "name": "stdout",
     "output_type": "stream",
     "text": [
      "joint by:- {5}\n"
     ]
    }
   ],
   "source": [
    "#24.Check if a set is disjoint with another set.\n",
    "s24 = {2,3,4,5}\n",
    "s_24 = {5,6,7,8,9}\n",
    "common = s24.intersection(s_24)\n",
    "if len(common) == 0:\n",
    "    print(\"Sets are disjoint\")\n",
    "else:\n",
    "    print(\"joint by:-\",common)"
   ]
  },
  {
   "cell_type": "code",
   "execution_count": 10,
   "id": "1e176098-e2bf-4af0-bfc8-6dc107efb759",
   "metadata": {},
   "outputs": [
    {
     "name": "stdout",
     "output_type": "stream",
     "text": [
      "{1, 4, 9, 16, 25}\n"
     ]
    }
   ],
   "source": [
    "#25.Create a set of squares of numbers from 1 to 5.\n",
    "s = set(range(1,6))\n",
    "squared = {x**2 for x in s}\n",
    "print(squared)"
   ]
  },
  {
   "cell_type": "code",
   "execution_count": 29,
   "id": "e27125ba-021f-4e0e-927c-b1c6bed22624",
   "metadata": {},
   "outputs": [
    {
     "name": "stdout",
     "output_type": "stream",
     "text": [
      "Required set:- {2, 4, 6, 8, 10, 12, 14, 16, 18}\n"
     ]
    }
   ],
   "source": [
    "#26.Filter out all even numbers from a set.\n",
    "set_26 = set(range(1,20))\n",
    "even_set = set()\n",
    "for i in set_26:\n",
    "    if i%2 == 0:\n",
    "        even_set.add(i)\n",
    "print(\"Required set:-\",even_set)"
   ]
  },
  {
   "cell_type": "code",
   "execution_count": 34,
   "id": "9372ff47-841c-42f9-90d3-c4fb0f76f402",
   "metadata": {},
   "outputs": [
    {
     "data": {
      "text/plain": [
       "{18, 20, 22, 24, 26, 28, 30}"
      ]
     },
     "execution_count": 34,
     "metadata": {},
     "output_type": "execute_result"
    }
   ],
   "source": [
    "#27.Multiply all elements in a set by 2.\n",
    "set_27 = {9, 10, 11, 12, 13, 14, 15}\n",
    "required_set = {a*2 for a in set_27}\n",
    "required_set"
   ]
  },
  {
   "cell_type": "code",
   "execution_count": 3,
   "id": "394d9554-d96c-483c-8e10-08695bd49e12",
   "metadata": {},
   "outputs": [
    {
     "name": "stdout",
     "output_type": "stream",
     "text": [
      "{33, 37, 39, 71, 10, 75, 13, 82, 54}\n"
     ]
    }
   ],
   "source": [
    "#28.Create a set of random numbers.\n",
    "import random\n",
    "\n",
    "random_set = set()\n",
    "for i in range(10):\n",
    "    random_set.add(random.randint(1,100))\n",
    "print(random_set)"
   ]
  },
  {
   "cell_type": "code",
   "execution_count": 4,
   "id": "26404c73-6cf6-4970-b41d-ea6ffaccb272",
   "metadata": {},
   "outputs": [
    {
     "name": "stdout",
     "output_type": "stream",
     "text": [
      "Empty\n"
     ]
    }
   ],
   "source": [
    "#29.Check if a set is empty.\n",
    "set_29 = set()\n",
    "\n",
    "if len(set_29) ==0:\n",
    "    print(\"Empty\")\n",
    "else:\n",
    "    print(len(set_29))"
   ]
  },
  {
   "cell_type": "code",
   "execution_count": 14,
   "id": "dc73b3d0-0a82-4807-a9e6-bdecc9ed8975",
   "metadata": {},
   "outputs": [
    {
     "data": {
      "text/plain": [
       "frozenset({frozenset({1, 2}), frozenset({1, 2, 3})})"
      ]
     },
     "execution_count": 14,
     "metadata": {},
     "output_type": "execute_result"
    }
   ],
   "source": [
    "#30.Create a nested set (hint: use frozenset).\n",
    "nested_set =(frozenset([1,2,3]), frozenset([1,2]))\n",
    "frozenset(nested_set)"
   ]
  },
  {
   "cell_type": "code",
   "execution_count": 3,
   "id": "8e587c80-efa0-45c6-b14b-36551aeaa15f",
   "metadata": {},
   "outputs": [
    {
     "name": "stdout",
     "output_type": "stream",
     "text": [
      "nested set:- {1, 2, 3, frozenset({5, 6, 7}), frozenset({1, 2, 3})}\n"
     ]
    }
   ],
   "source": [
    "set1 = {1,2,3}\n",
    "set1.add(frozenset([1,2,3]))\n",
    "set1.add(frozenset([5,6,7]))\n",
    "print(\"nested set:-\",set1)"
   ]
  },
  {
   "cell_type": "code",
   "execution_count": 6,
   "id": "fda40255-b720-4113-a6b7-e21c131d40c1",
   "metadata": {},
   "outputs": [
    {
     "data": {
      "text/plain": [
       "{1, 2, 3, 5, 6}"
      ]
     },
     "execution_count": 6,
     "metadata": {},
     "output_type": "execute_result"
    }
   ],
   "source": [
    "#31.Remove an element from a set using the discard method.\n",
    "set_31 = {1,2,3,4,5,6}\n",
    "set_31.discard(4)\n",
    "set_31"
   ]
  },
  {
   "cell_type": "code",
   "execution_count": 13,
   "id": "f1d49263-0a89-47b4-bd15-7fe810e1103a",
   "metadata": {},
   "outputs": [
    {
     "name": "stdout",
     "output_type": "stream",
     "text": [
      "Subset\n"
     ]
    }
   ],
   "source": [
    "#32.Compare two sets.\n",
    "s32 = {4,5,6,7,8}\n",
    "s_32 = {4,5,6,7}\n",
    "if s32 == s_32:\n",
    "    print(\"equal\")\n",
    "elif s_32.intersection(s32) or s32.intersection(s_32):\n",
    "    print(\"Subset\")\n",
    "elif len(s32)>=len(s_32) or len(s_32)>=len(s32):\n",
    "    print(\"Unequal\")\n",
    "else:\n",
    "    print(\"Equivalen but not equal\")"
   ]
  },
  {
   "cell_type": "code",
   "execution_count": 14,
   "id": "a531a257-de27-4541-96cd-d97b6799ceb2",
   "metadata": {},
   "outputs": [
    {
     "name": "stdin",
     "output_type": "stream",
     "text": [
      "Enter a string:- i love python\n"
     ]
    },
    {
     "data": {
      "text/plain": [
       "{'i', 'love', 'python'}"
      ]
     },
     "execution_count": 14,
     "metadata": {},
     "output_type": "execute_result"
    }
   ],
   "source": [
    "#33.Create a set from a string.\n",
    "input_string = input(\"Enter a string:-\")\n",
    "set(input_string.split())"
   ]
  },
  {
   "cell_type": "code",
   "execution_count": 18,
   "id": "3d446bcf-5709-427a-8c48-c3f9e6d3495f",
   "metadata": {},
   "outputs": [
    {
     "name": "stdout",
     "output_type": "stream",
     "text": [
      "set of integer:- {1, 2, 3, 4, 5, 6, 7, 8}\n"
     ]
    }
   ],
   "source": [
    "#34.Convert a set of strings to a set of integers.\n",
    "set_of_string = {'7', '8', '4', '3', '5', '1', '6', '2'}\n",
    "set_of_integer = {int(x) for x in set_of_string}\n",
    "print(\"set of integer:-\",set_of_integer)"
   ]
  },
  {
   "cell_type": "code",
   "execution_count": 29,
   "id": "446237b0-5a82-4223-8ac5-5d98de352a52",
   "metadata": {},
   "outputs": [
    {
     "data": {
      "text/plain": [
       "{'1', '2', '3', '4', '5', '6', '7', '8'}"
      ]
     },
     "execution_count": 29,
     "metadata": {},
     "output_type": "execute_result"
    }
   ],
   "source": [
    "#35.Convert a set of integers to a set of strings.\n",
    "set_of_integer = {1, 2, 3, 4, 5, 6, 7, 8}\n",
    "set_of_string = {str(x) for x in set_of_integer}\n",
    "set_of_string"
   ]
  },
  {
   "cell_type": "code",
   "execution_count": 31,
   "id": "eabd64d7-5ddf-431e-9471-0d8f663f715c",
   "metadata": {},
   "outputs": [
    {
     "name": "stdout",
     "output_type": "stream",
     "text": [
      "{5, 6, 7, 8, 9}\n"
     ]
    }
   ],
   "source": [
    "#36.Create a set from a tuple.\n",
    "tuple_36 = (5,6,7,8,9)\n",
    "tuple_to_set = set(tuple_36)\n",
    "print(tuple_to_set)"
   ]
  },
  {
   "cell_type": "code",
   "execution_count": 33,
   "id": "a2c3a670-8362-4004-afd2-56252b7625b6",
   "metadata": {},
   "outputs": [
    {
     "name": "stdout",
     "output_type": "stream",
     "text": [
      "(5, 6, 7, 8, 9)\n"
     ]
    }
   ],
   "source": [
    "#37.Convert a set to a tuple.\n",
    "set_37 = {9,8,7,6,5}\n",
    "set_to_tuple = tuple(set_37)\n",
    "print(set_to_tuple)"
   ]
  },
  {
   "cell_type": "code",
   "execution_count": 37,
   "id": "e1ac3998-5cd5-41b5-a8b5-432aed0ba628",
   "metadata": {},
   "outputs": [
    {
     "name": "stdout",
     "output_type": "stream",
     "text": [
      "Maximum value:- 98\n",
      "Minumum_value:- 4\n"
     ]
    }
   ],
   "source": [
    "#38.Find the maximum value in a set.\n",
    "#39.Find the minimum value in a set.\n",
    "s38 = {4,23,67,24,98,79}\n",
    "max_val = max(s38)\n",
    "min_val = min(s38)\n",
    "print(\"Maximum value:-\",max_val)\n",
    "print(\"Minumum_value:-\",min_val)"
   ]
  },
  {
   "cell_type": "code",
   "execution_count": 40,
   "id": "bce70b62-442f-4122-bfa0-dcfb2a47f6bd",
   "metadata": {},
   "outputs": [
    {
     "name": "stdin",
     "output_type": "stream",
     "text": [
      "Enter the data:- python\n"
     ]
    },
    {
     "name": "stdout",
     "output_type": "stream",
     "text": [
      "{'n', 'o', 'h', 't', 'p', 'y'}\n"
     ]
    }
   ],
   "source": [
    "#40.Create a set from user input.\n",
    "input_data = input(\"Enter the data:-\")\n",
    "print(set(input_data))"
   ]
  },
  {
   "cell_type": "code",
   "execution_count": 6,
   "id": "4190022d-842c-4216-a1c6-0dab6026e8d7",
   "metadata": {},
   "outputs": [
    {
     "name": "stdout",
     "output_type": "stream",
     "text": [
      "Empty\n"
     ]
    }
   ],
   "source": [
    "#41.Check if the intersection of two sets is empty.\n",
    "s41 = set(range(2,10,2))\n",
    "s_41 = set(range(1,10,2))\n",
    "common_element = s41.intersection(s_41)\n",
    "if len(common_element)==0:\n",
    "    print(\"Empty\")\n",
    "else:\n",
    "    print(\"Intersection\", common_element)"
   ]
  },
  {
   "cell_type": "code",
   "execution_count": 51,
   "id": "73a733bb-c7db-455a-9880-393a7ac95c41",
   "metadata": {},
   "outputs": [
    {
     "name": "stdout",
     "output_type": "stream",
     "text": [
      "Actual numbers (0, 1, 1, 2, 3)\n",
      "set form:- {0, 1, 2, 3}\n"
     ]
    }
   ],
   "source": [
    "#42.Create a set of the first 5 Fibonacci numbers.\n",
    "fibonacci_set = (0,1)\n",
    "for i in range(3):\n",
    "    next_number = fibonacci_set[-1]+fibonacci_set[-2]\n",
    "    fibonacci_set += (next_number,)\n",
    "print(\"Actual numbers:-\",fibonacci_set)\n",
    "print(\"set form:-\",set(fibonacci_set))"
   ]
  },
  {
   "cell_type": "code",
   "execution_count": 52,
   "id": "049d5fd2-4383-4a64-a3ab-4a4d7e571c86",
   "metadata": {},
   "outputs": [
    {
     "name": "stdout",
     "output_type": "stream",
     "text": [
      "{1, 2, 3, 4, 5, 67, 78}\n"
     ]
    }
   ],
   "source": [
    "#43.Remove duplicates from a list using sets.\n",
    "list43 = [1,2,3,4,4,5,67,78,78,3,4]\n",
    "duplicate_rem = set(list43)\n",
    "print(duplicate_rem)"
   ]
  },
  {
   "cell_type": "code",
   "execution_count": 33,
   "id": "344f7f76-29f7-40ba-8627-cd93592eaa8d",
   "metadata": {},
   "outputs": [
    {
     "name": "stdout",
     "output_type": "stream",
     "text": [
      "Same\n"
     ]
    }
   ],
   "source": [
    "#44.Check if two sets have the same elements, regardless of their count.\n",
    "s44 = {1,2,3,4,5}\n",
    "s_44 = {5,5,4,3,2,2,1}\n",
    "if s44 == s_44:\n",
    "    print(\"Same\")\n",
    "else:\n",
    "    print(\"Different\")"
   ]
  },
  {
   "cell_type": "code",
   "execution_count": 4,
   "id": "b4a7c486-4c25-4fb8-a682-b5dbb812a377",
   "metadata": {},
   "outputs": [
    {
     "name": "stdout",
     "output_type": "stream",
     "text": [
      "[1, 2, 4, 8, 16, 32]\n"
     ]
    }
   ],
   "source": [
    "#45.Create a set of the first `n` powers of 2.\n",
    "twos_power = set(pow(2,n) for n in range(0,6))\n",
    "print(sorted(twos_power))"
   ]
  },
  {
   "cell_type": "code",
   "execution_count": 6,
   "id": "d5a83416-2ab4-4ec5-b4a7-bb163acebbec",
   "metadata": {},
   "outputs": [
    {
     "name": "stdout",
     "output_type": "stream",
     "text": [
      "common element:- {3, 4}\n"
     ]
    }
   ],
   "source": [
    "#46.Find the common elements between a set and a list.\n",
    "set_45 = {3,4,5,6,7,8}\n",
    "list_45 = [1,2,3,4]\n",
    "com_element = set(list_45).intersection(set_45)\n",
    "print(\"common element:-\",com_element)"
   ]
  },
  {
   "cell_type": "code",
   "execution_count": 9,
   "id": "4a1b9e47-93a3-42e8-bafd-c107bcad9a01",
   "metadata": {},
   "outputs": [
    {
     "name": "stdin",
     "output_type": "stream",
     "text": [
      "Enter the required number:- 5\n"
     ]
    },
    {
     "name": "stdout",
     "output_type": "stream",
     "text": [
      "{1, 3, 6, 10, 15}\n"
     ]
    }
   ],
   "source": [
    "#47.Create a set of the first `n` triangular numbers.\n",
    "tri_set = set()\n",
    "n = int(input(\"Enter the required number:-\"))\n",
    "sum = 0\n",
    "for i in range(1,n+1):\n",
    "    sum += i\n",
    "    tri_set.add(sum) \n",
    "print(tri_set)"
   ]
  },
  {
   "cell_type": "code",
   "execution_count": 11,
   "id": "0b455c98-4153-46c8-ab39-7982d15d29d3",
   "metadata": {},
   "outputs": [
    {
     "name": "stdin",
     "output_type": "stream",
     "text": [
      "lower limit:- 2\n",
      "Uper limit:- 90\n"
     ]
    },
    {
     "name": "stdout",
     "output_type": "stream",
     "text": [
      "True\n"
     ]
    }
   ],
   "source": [
    "#48.Check if a set contains another set as a subset.\n",
    "Universal_set = set(range(1,100))\n",
    "l = int(input(\"lower limit:-\"))\n",
    "u = int(input(\"Uper limit:-\"))\n",
    "check_subset = set(range(l,u))\n",
    "if check_subset.issubset(Universal_set):\n",
    "    print(\"True\")\n",
    "else:\n",
    "    print(\"False\")"
   ]
  },
  {
   "cell_type": "code",
   "execution_count": 30,
   "id": "c2cbc352-614a-4cbc-a7ed-e438b5c0ac94",
   "metadata": {},
   "outputs": [
    {
     "name": "stdin",
     "output_type": "stream",
     "text": [
      "enter the value of n:- 6\n"
     ]
    },
    {
     "name": "stdout",
     "output_type": "stream",
     "text": [
      "Alternating tuple:- (1, 0, 1, 0, 1, 0)\n",
      "Alternating set:- {0, 1}\n"
     ]
    }
   ],
   "source": [
    "#49.Create a set of alternating 1s and 0s of length `n`.\n",
    "n = int(input(\"enter the value of n:-\"))\n",
    "alternating_set = ()\n",
    "\n",
    "for i in range(n):\n",
    "    if i%2 == 0:\n",
    "        alternating_set +=  (1,)\n",
    "    else:\n",
    "        alternating_set += (0,)\n",
    "print(\"Alternating tuple:-\", alternating_set)\n",
    "print(\"Alternating set:-\", set(alternating_set))"
   ]
  },
  {
   "cell_type": "code",
   "execution_count": 38,
   "id": "33dbbb71-4f4e-4cd6-8890-241839dbbb19",
   "metadata": {},
   "outputs": [
    {
     "name": "stdout",
     "output_type": "stream",
     "text": [
      "Merged set:- {2, 3, 4, 5, 6, 7, 8, 9, 10, 20, 21, 22, 30, 31, 32, 33, 34, 35, 36, 37, 38, 39}\n"
     ]
    }
   ],
   "source": [
    "#50.Merge multiple sets into one.\n",
    "s50 = {2,3,4,5,6,7}\n",
    "s_50 = {7,8,9,10}\n",
    "set_50 = {20,21,22}\n",
    "Universal_set = set(range(30,40))\n",
    "merged_set = Universal_set.union(s50,s_50,set_50)\n",
    "print(\"Merged set:-\", merged_set)"
   ]
  },
  {
   "cell_type": "code",
   "execution_count": null,
   "id": "a016219c-088f-464b-a9de-f347c0d9a45a",
   "metadata": {},
   "outputs": [],
   "source": []
  }
 ],
 "metadata": {
  "kernelspec": {
   "display_name": "Python 3 (ipykernel)",
   "language": "python",
   "name": "python3"
  },
  "language_info": {
   "codemirror_mode": {
    "name": "ipython",
    "version": 3
   },
   "file_extension": ".py",
   "mimetype": "text/x-python",
   "name": "python",
   "nbconvert_exporter": "python",
   "pygments_lexer": "ipython3",
   "version": "3.10.8"
  }
 },
 "nbformat": 4,
 "nbformat_minor": 5
}
