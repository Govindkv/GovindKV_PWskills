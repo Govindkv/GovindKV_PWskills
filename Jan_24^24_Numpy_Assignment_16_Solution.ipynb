{
 "cells": [
  {
   "cell_type": "code",
   "execution_count": 1,
   "id": "7fd0058a-2af5-44c6-9d8a-182f61210954",
   "metadata": {},
   "outputs": [
    {
     "data": {
      "text/plain": [
       "'Jan_24^24_Numpy_Assignment_16_Solution'"
      ]
     },
     "execution_count": 1,
     "metadata": {},
     "output_type": "execute_result"
    }
   ],
   "source": [
    "'''Jan_24^24_Numpy_Assignment_16_Solution'''"
   ]
  },
  {
   "cell_type": "code",
   "execution_count": 2,
   "id": "993d2a9a-ec92-4500-95cd-27d00beba9b3",
   "metadata": {},
   "outputs": [
    {
     "data": {
      "text/plain": [
       "'A Python library is a collection of pre-written code and functions that extend the capabilities of Python. \\nIt provides ready-to-use tools and functionalities for specific tasks, making it easier and more efficient to develop\\nsoftware applications.\\n\\nWe use Python libraries for several reasons. Firstly, libraries save us time and effort by providing pre-built solutions\\nfor common tasks. Instead of writing code from scratch, we can simply import and use the functions and classes from the\\nlibrary. This speeds up development and allows us to focus on solving the specific problem at hand.\\n\\nAdditionally, Python libraries offer a wide range of specialized functionalities, such as data manipulation, scientific\\ncomputing, web development, machine learning, and more. By utilizing these libraries, we can leverage the expertise and \\nefforts of the Python community, benefiting from their tested and optimized code.\\n\\nOverall, Python libraries enhance the capabilities of Python, allowing us to build powerful and feature-rich applications\\nwith less effort. They promote code reusability, collaboration, and enable us to tackle complex tasks more easily.\\n'"
      ]
     },
     "execution_count": 2,
     "metadata": {},
     "output_type": "execute_result"
    }
   ],
   "source": [
    "#1.What is a Python library? Why do we use Python libraries?\n",
    "'''A Python library is a collection of pre-written code and functions that extend the capabilities of Python. \n",
    "It provides ready-to-use tools and functionalities for specific tasks, making it easier and more efficient to develop\n",
    "software applications.\n",
    "\n",
    "We use Python libraries for several reasons. Firstly, libraries save us time and effort by providing pre-built solutions\n",
    "for common tasks. Instead of writing code from scratch, we can simply import and use the functions and classes from the\n",
    "library. This speeds up development and allows us to focus on solving the specific problem at hand.\n",
    "\n",
    "Additionally, Python libraries offer a wide range of specialized functionalities, such as data manipulation, scientific\n",
    "computing, web development, machine learning, and more. By utilizing these libraries, we can leverage the expertise and \n",
    "efforts of the Python community, benefiting from their tested and optimized code.\n",
    "\n",
    "Overall, Python libraries enhance the capabilities of Python, allowing us to build powerful and feature-rich applications\n",
    "with less effort. They promote code reusability, collaboration, and enable us to tackle complex tasks more easily.\n",
    "'''"
   ]
  },
  {
   "cell_type": "code",
   "execution_count": 3,
   "id": "aad4a069-b1b3-47e6-863a-0253d4efa2c3",
   "metadata": {},
   "outputs": [
    {
     "data": {
      "text/plain": [
       "'A NumPy array is a data structure provided by the NumPy library in Python. It is similar to a list, but with some key\\ndifferences. \\nHere are a few differences between a NumPy array and a list:\\n\\n1. **Memory Efficiency**: NumPy arrays are more memory efficient compared to lists. They store data in a contiguous block\\nof memory, which allows for faster access and manipulation of elements.\\n\\n2. **Homogeneous Data Type**: NumPy arrays require all elements to have the same data type (e.g., all integers, all \\nfloats). This allows for more efficient storage and computation. In contrast, lists can contain elements of different \\ndata types.\\n\\n3. **Vectorized Operations**: NumPy arrays support vectorized operations, which means you can perform operations on\\nentire arrays at once, rather than iterating through each element. This makes computations faster and more concise.\\n\\n4. **Functionality and Performance**: NumPy provides a wide range of mathematical and scientific functions that can be \\napplied directly to arrays. These functions are optimized for performance and can be faster than using equivalent\\noperations on lists.\\n\\nHowever, lists also have their advantages. Lists are more flexible and can contain elements of different data types.\\nThey can be easily modified, appended, or extended. Lists are also more suitable for small-scale, general-purpose tasks.\\n\\nIn summary, NumPy arrays are specialized data structures that offer better performance and efficiency for numerical\\ncomputations, while lists are more versatile\\nand suitable for general-purpose tasks.\\n'"
      ]
     },
     "execution_count": 3,
     "metadata": {},
     "output_type": "execute_result"
    }
   ],
   "source": [
    "#2. What is the difference between Numpy array and List?\n",
    "'''A NumPy array is a data structure provided by the NumPy library in Python. It is similar to a list, but with some key\n",
    "differences. \n",
    "Here are a few differences between a NumPy array and a list:\n",
    "\n",
    "1. **Memory Efficiency**: NumPy arrays are more memory efficient compared to lists. They store data in a contiguous block\n",
    "of memory, which allows for faster access and manipulation of elements.\n",
    "\n",
    "2. **Homogeneous Data Type**: NumPy arrays require all elements to have the same data type (e.g., all integers, all \n",
    "floats). This allows for more efficient storage and computation. In contrast, lists can contain elements of different \n",
    "data types.\n",
    "\n",
    "3. **Vectorized Operations**: NumPy arrays support vectorized operations, which means you can perform operations on\n",
    "entire arrays at once, rather than iterating through each element. This makes computations faster and more concise.\n",
    "\n",
    "4. **Functionality and Performance**: NumPy provides a wide range of mathematical and scientific functions that can be \n",
    "applied directly to arrays. These functions are optimized for performance and can be faster than using equivalent\n",
    "operations on lists.\n",
    "\n",
    "However, lists also have their advantages. Lists are more flexible and can contain elements of different data types.\n",
    "They can be easily modified, appended, or extended. Lists are also more suitable for small-scale, general-purpose tasks.\n",
    "\n",
    "In summary, NumPy arrays are specialized data structures that offer better performance and efficiency for numerical\n",
    "computations, while lists are more versatile\n",
    "and suitable for general-purpose tasks.\n",
    "'''"
   ]
  },
  {
   "cell_type": "code",
   "execution_count": 18,
   "id": "297b324d-0c95-42fd-b4ba-09e8b318d8f3",
   "metadata": {},
   "outputs": [],
   "source": [
    "import numpy as np"
   ]
  },
  {
   "cell_type": "code",
   "execution_count": 19,
   "id": "9b0bbde7-e7ec-4a86-8d29-b28e0ed487c4",
   "metadata": {},
   "outputs": [
    {
     "name": "stdout",
     "output_type": "stream",
     "text": [
      "Array: [[ 1  2  3  4]\n",
      " [ 5  6  7  8]\n",
      " [ 9 10 11 12]]\n",
      "Shape of Array: (3, 4)\n",
      "Size of Array: 12\n",
      "Arrays is of dimension: 2\n"
     ]
    }
   ],
   "source": [
    "'''3. Find the shape, size and dimension of the following array?\n",
    "[[1, 2, 3, 4]\n",
    "[5, 6, 7, 8],\n",
    "[9, 10, 11, 12]]\n",
    "'''\n",
    "import numpy as np\n",
    "arr=[[1, 2, 3, 4],\n",
    "     [5, 6, 7, 8],\n",
    "     [9, 10, 11, 12]]\n",
    "array=np.array(arr)\n",
    "print(\"Array:\",array)\n",
    "print(\"Shape of Array:\",array.shape)\n",
    "print(\"Size of Array:\",array.size)\n",
    "print(\"Arrays is of dimension:\",array.ndim)"
   ]
  },
  {
   "cell_type": "code",
   "execution_count": 20,
   "id": "7b8aa0aa-b057-420a-bab0-87651ae1ce01",
   "metadata": {},
   "outputs": [
    {
     "name": "stdout",
     "output_type": "stream",
     "text": [
      "First Row: [1 2 3 4]\n"
     ]
    }
   ],
   "source": [
    "'''4. Write python code to access the first row of the following array?\n",
    "[[1, 2, 3, 4]\n",
    "[5, 6, 7, 8],\n",
    "[9, 10, 11, 12]]\n",
    "'''\n",
    "import numpy as np\n",
    "array=np.asarray([[1, 2, 3, 4],\n",
    "                  [5, 6, 7, 8],\n",
    "                  [9, 10, 11, 12]])\n",
    "#Accessing the first row:\n",
    "first_row=array[0]\n",
    "print(\"First Row:\",first_row)"
   ]
  },
  {
   "cell_type": "code",
   "execution_count": 21,
   "id": "f3e81bf9-ec38-4b41-af64-afebd0b9bacd",
   "metadata": {},
   "outputs": [
    {
     "name": "stdout",
     "output_type": "stream",
     "text": [
      "Element in 3rd row and 4th column: 12\n"
     ]
    }
   ],
   "source": [
    "'''5. How do you access the element at the third row and fourth column from the given numpy array?\n",
    "[[1, 2, 3, 4]\n",
    "[5, 6, 7, 8],\n",
    "[9, 10, 11, 12]]'''\n",
    "import numpy as np\n",
    "array=np.asanyarray([[1, 2, 3, 4],\n",
    "                     [5, 6, 7, 8],\n",
    "                     [9, 10, 11, 12]])\n",
    "#Element from 3rd row and 4th column:\n",
    "E_34 = array[2][3]\n",
    "print(\"Element in 3rd row and 4th column:\",E_34)"
   ]
  },
  {
   "cell_type": "code",
   "execution_count": 22,
   "id": "31c98a03-b453-4945-8446-2d3dd89f8ec0",
   "metadata": {},
   "outputs": [
    {
     "name": "stdout",
     "output_type": "stream",
     "text": [
      "Odd Indexed Element: [[5 6 7 8]]\n"
     ]
    }
   ],
   "source": [
    "'''6. Write code to extract all odd-indexed elements from the given numpy array?\n",
    "[[1, 2, 3, 4]\n",
    "[5, 6, 7, 8],\n",
    "[9, 10, 11, 12]]\n",
    "'''\n",
    "import numpy as np\n",
    "array=np.asanyarray([[1, 2, 3, 4],\n",
    "                     [5, 6, 7, 8],\n",
    "                     [9, 10, 11, 12]])\n",
    "Odd_Indexed=array[1::2]\n",
    "print(\"Odd Indexed Element:\",Odd_Indexed)"
   ]
  },
  {
   "cell_type": "code",
   "execution_count": null,
   "id": "5e535cd0-6453-42ae-829e-32dfb0c37f4f",
   "metadata": {},
   "outputs": [],
   "source": []
  },
  {
   "cell_type": "code",
   "execution_count": 23,
   "id": "de817df2-edeb-48dc-8191-20a41cce427b",
   "metadata": {},
   "outputs": [
    {
     "data": {
      "text/plain": [
       "array([[0.83410639, 0.57462005, 0.7780523 ],\n",
       "       [0.55954028, 0.27460394, 0.81220168],\n",
       "       [0.15845144, 0.12478162, 0.26400989]])"
      ]
     },
     "execution_count": 23,
     "metadata": {},
     "output_type": "execute_result"
    }
   ],
   "source": [
    "'''7. How can you generate a random 3x3 matrix with values between 0 and 1?'''\n",
    "import numpy as np\n",
    "mat_3x3=np.random.rand(3,3)\n",
    "mat_3x3"
   ]
  },
  {
   "cell_type": "code",
   "execution_count": 10,
   "id": "640f8fcc-f91a-47ae-8bb8-bbadb1d7af39",
   "metadata": {},
   "outputs": [
    {
     "data": {
      "text/plain": [
       "'\\nThe main difference between `np.random.rand()` and `np.random.randn()` lies in the distribution of the generated random\\nnumbers.\\n\\n- `np.random.rand()` generates random numbers from a uniform distribution between 0 and 1. This means that each number \\nin the generated array has an equal chance of being any value between 0 and 1.\\n\\n- On the other hand, `np.random.randn()` generates random numbers from a standard normal distribution (also known as a \\nGaussian or bell curve distribution) with a mean of 0 and a standard deviation of 1. This means that the generated \\nnumbers are more likely to be closer to 0, and less likely to be further away from 0.\\n\\nIn summary, `np.random.rand()` generates random numbers from a uniform distribution, while `np.random.randn()` generates\\nrandom numbers from a standard normal distribution. \\n'"
      ]
     },
     "execution_count": 10,
     "metadata": {},
     "output_type": "execute_result"
    }
   ],
   "source": [
    "#8.Describe the difference between np.random.rand and np.random.randn?\n",
    "'''\n",
    "The main difference between `np.random.rand()` and `np.random.randn()` lies in the distribution of the generated random\n",
    "numbers.\n",
    "\n",
    "- `np.random.rand()` generates random numbers from a uniform distribution between 0 and 1. This means that each number \n",
    "in the generated array has an equal chance of being any value between 0 and 1.\n",
    "\n",
    "- On the other hand, `np.random.randn()` generates random numbers from a standard normal distribution (also known as a \n",
    "Gaussian or bell curve distribution) with a mean of 0 and a standard deviation of 1. This means that the generated \n",
    "numbers are more likely to be closer to 0, and less likely to be further away from 0.\n",
    "\n",
    "In summary, `np.random.rand()` generates random numbers from a uniform distribution, while `np.random.randn()` generates\n",
    "random numbers from a standard normal distribution. \n",
    "'''"
   ]
  },
  {
   "cell_type": "code",
   "execution_count": 24,
   "id": "eb62e5ab-da7f-44c4-abab-ee6d8883fc7b",
   "metadata": {},
   "outputs": [
    {
     "name": "stdout",
     "output_type": "stream",
     "text": [
      "Given arr has dimensions: 2\n",
      "Array with Increased Dimensions: [[[ 1  2  3  4]\n",
      "  [ 5  6  7  8]\n",
      "  [ 9 10 11 12]]]\n",
      "Given arr now has dimensions: 3\n"
     ]
    }
   ],
   "source": [
    "'''9. Write code to increase the dimension of the following array?\n",
    "[[1, 2, 3, 4]\n",
    "[5, 6, 7, 8],\n",
    "[9, 10, 11, 12]]\n",
    "'''\n",
    "import numpy as np\n",
    "arr = np.array([[1, 2, 3, 4],\n",
    "               [5, 6, 7, 8],\n",
    "               [9, 10, 11, 12]])\n",
    "#Check the dimensions:\n",
    "print(\"Given arr has dimensions:\",arr.ndim)\n",
    "#Expanding the dimensions:\n",
    "Expanded_arr=np.expand_dims(arr,axis=0)\n",
    "print(\"Array with Increased Dimensions:\",Expanded_arr)\n",
    "print(\"Given arr now has dimensions:\",Expanded_arr.ndim)"
   ]
  },
  {
   "cell_type": "code",
   "execution_count": 25,
   "id": "8f689718-29ce-4713-a12b-feb056d4d42f",
   "metadata": {},
   "outputs": [
    {
     "name": "stdout",
     "output_type": "stream",
     "text": [
      "Original array: [[ 1  2  3  4]\n",
      " [ 5  6  7  8]\n",
      " [ 9 10 11 12]]\n",
      "Transposed_Array: [[ 1  5  9]\n",
      " [ 2  6 10]\n",
      " [ 3  7 11]\n",
      " [ 4  8 12]]\n"
     ]
    }
   ],
   "source": [
    "'''10. How to transpose the following array in NumPy?\n",
    "[[1, 2, 3, 4]\n",
    "[5, 6, 7, 8],\n",
    "[9, 10, 11, 12]]\n",
    "'''\n",
    "import numpy as np\n",
    "arr=np.array([[1, 2, 3, 4],\n",
    "              [5, 6, 7, 8],\n",
    "              [9, 10, 11, 12]])\n",
    "print(\"Original array:\",arr)\n",
    "print(\"Transposed_Array:\",arr.T)"
   ]
  },
  {
   "cell_type": "code",
   "execution_count": 59,
   "id": "a2e670f7-229e-4ca0-8df8-a72a965f3e83",
   "metadata": {},
   "outputs": [
    {
     "name": "stdout",
     "output_type": "stream",
     "text": [
      "1.Index Wise Multiplication:\n",
      "[[  1   4   9  16]\n",
      " [ 25  36  49  64]\n",
      " [ 81 100 121 144]]\n",
      "2.Since, Matrix Multiplication is not possible as Column(matrix_A)!=Row(matrix_B) matmul: Input operand 1 has a mismatch in its core dimension 0, with gufunc signature (n?,k),(k,m?)->(n?,m?) (size 3 is different from 4)\n",
      "Multiply by Re-shaping matrix_B:\n",
      "[[ 70  80  90]\n",
      " [158 184 210]\n",
      " [246 288 330]]\n",
      "3.Addition Of Matrices:\n",
      "[[ 2  4  6  8]\n",
      " [10 12 14 16]\n",
      " [18 20 22 24]]\n",
      "4.Subtraction Of Matrices:\n",
      "[[0 0 0 0]\n",
      " [0 0 0 0]\n",
      " [0 0 0 0]]\n",
      "5.Division Of Matrices:\n",
      "[[1. 1. 1. 1.]\n",
      " [1. 1. 1. 1.]\n",
      " [1. 1. 1. 1.]]\n"
     ]
    }
   ],
   "source": [
    "'''11. Consider the following matrix:\n",
    "Matrix A = [[1, 2, 3, 4] [5, 6, 7, 8],[9, 10, 11, 12]]\n",
    "Matrix B = [[1, 2, 3, 4] [5, 6, 7, 8],[9, 10, 11, 12]]\n",
    "Perform the following operation using Python1\n",
    "1. Index wise multiplication\n",
    "2. Matix multiplication\n",
    "3. Add both the matices\n",
    "4. Subtact matix B from matix A\n",
    "5. Divide Matix B by A\n",
    "'''\n",
    "import numpy as np\n",
    "matrix_A = np.array([[1, 2, 3, 4],[5, 6, 7, 8],[9, 10, 11, 12]])\n",
    "matrix_B = np.array([[1, 2, 3, 4],[5, 6, 7, 8],[9, 10, 11, 12]])\n",
    "\n",
    "#1. Index wise multiplication:\n",
    "Index_Wise_Multiplication=matrix_A*matrix_B\n",
    "print(\"1.Index Wise Multiplication:\")\n",
    "print(Index_Wise_Multiplication)\n",
    "\n",
    "#2. Matix multiplication:\n",
    "try:\n",
    "    Matix_multiplication=matrix_A@matrix_B\n",
    "except ValueError as V:\n",
    "    print(\"2.Since, Matrix Multiplication is not possible as Column(matrix_A)!=Row(matrix_B)\",V)\n",
    "#Let's do some arrangements:\n",
    "mat_B=matrix_B.reshape(4,3)\n",
    "Matix_multiplication=matrix_A@mat_B\n",
    "print(\"Multiply by Re-shaping matrix_B:\")\n",
    "print(Matix_multiplication)\n",
    "\n",
    "#3. Add both the matices\n",
    "Addition_Of_Matrices=matrix_A+matrix_B\n",
    "print(\"3.Addition Of Matrices:\")\n",
    "print(Addition_Of_Matrices)\n",
    "\n",
    "#4.Subtact matix B from matrix A\n",
    "Subtraction_Of_Matrices=matrix_A-matrix_B\n",
    "print(\"4.Subtraction Of Matrices:\")\n",
    "print(Subtraction_Of_Matrices)\n",
    "\n",
    "#5. Diide Matix B by Matrix A\n",
    "Division_Of_Matrices=matrix_B/matrix_A\n",
    "print(\"5.Division Of Matrices:\")\n",
    "print(Division_Of_Matrices)"
   ]
  },
  {
   "cell_type": "code",
   "execution_count": 61,
   "id": "ff31efbd-7d3a-47e8-8e29-07b007d85fa7",
   "metadata": {},
   "outputs": [
    {
     "name": "stdout",
     "output_type": "stream",
     "text": [
      "Original array: [1 2 3 4]\n",
      "Swapped byte order array: [16777216 33554432 50331648 67108864]\n"
     ]
    }
   ],
   "source": [
    "#12. Which function in Numpy can be used to swap the byte order of an array?\n",
    "\n",
    "'''To swap the byte order of an array in NumPy, you can use the `byteswap()` function.'''\n",
    "\n",
    "import numpy as np\n",
    "\n",
    "arr = np.array([1, 2, 3, 4], dtype=np.int32)\n",
    "print(\"Original array:\", arr)\n",
    "\n",
    "swapped_arr = arr.byteswap()\n",
    "print(\"Swapped byte order array:\", swapped_arr)\n"
   ]
  },
  {
   "cell_type": "code",
   "execution_count": 90,
   "id": "0ef92c52-f0ee-4f2b-8d12-a739608dde9a",
   "metadata": {},
   "outputs": [
    {
     "name": "stdout",
     "output_type": "stream",
     "text": [
      "Original matrix:\n",
      "[[2 2]\n",
      " [5 9]]\n",
      "Inverse of matrix:\n",
      "[[ 1.125 -0.25 ]\n",
      " [-0.625  0.25 ]]\n",
      "Multiplication of both: [[1. 0.]\n",
      " [0. 1.]]\n"
     ]
    }
   ],
   "source": [
    "#13. What is the significance of the np.linalg.inv function?\n",
    "'''It stands for \"NumPy linear algebra inverse\" and it's used to find the inverse of a square matrix. The inverse of a matrix\n",
    "has some interesting properties, like when you multiply a matrix by its inverse, you get the identity matrix. It's like\n",
    "finding the \"opposite\" of a matrix, kind of like division in regular arithmetic. This function comes in handy when solving \n",
    "systems of linear equations or performing transformations in linear algebra.'''\n",
    "import numpy as np\n",
    "matrix=np.array([[2,2],[5,9]])\n",
    "inverse_of_matrix=np.linalg.inv(matrix)\n",
    "print(\"Original matrix:\")\n",
    "print(matrix)\n",
    "print(\"Inverse of matrix:\")\n",
    "print(inverse_of_matrix)\n",
    "print(\"Multiplication of both:\",inverse_of_matrix@matrix)"
   ]
  },
  {
   "cell_type": "code",
   "execution_count": 103,
   "id": "f2357a38-ced9-4bcd-93dc-9d2c6ff1e8fc",
   "metadata": {},
   "outputs": [
    {
     "name": "stdout",
     "output_type": "stream",
     "text": [
      "Array: [[ 1  2  3  4]\n",
      " [ 5  6  7  8]\n",
      " [ 9 10 11 12]] with Dimension: 2\n",
      "Array after reshaping: [[[ 1]\n",
      "  [ 2]\n",
      "  [ 3]]\n",
      "\n",
      " [[ 4]\n",
      "  [ 5]\n",
      "  [ 6]]\n",
      "\n",
      " [[ 7]\n",
      "  [ 8]\n",
      "  [ 9]]\n",
      "\n",
      " [[10]\n",
      "  [11]\n",
      "  [12]]] with Dimension: 3\n"
     ]
    }
   ],
   "source": [
    "#14. What does the np.reshape function do, and how is it used?\n",
    "''' It allows you to change the shape or dimensions of an array without changing its data. It's like rearranging the elements\n",
    "of an array to fit a different shape.\n",
    "\n",
    "For example, let's say you have a 1D array with 12 elements, and you want to reshape it into a 3x4 matrix. You can use \n",
    "`np.reshape()` to achieve that. It's like rearranging the elements in a different way, but keeping all the original values\n",
    "intact.\n",
    "\n",
    "You can also use `np.reshape()` to flatten a multi-dimensional array into a 1D array. It's like squishing all the elements\n",
    "into a single row.\n",
    "'''\n",
    "#Example\n",
    "import numpy as np\n",
    "arr=np.array([[1, 2, 3, 4],\n",
    "              [5, 6, 7, 8],\n",
    "              [9, 10, 11, 12]])\n",
    "print(\"Array:\",arr,\"with Dimension:\",arr.ndim)\n",
    "\n",
    "print(\"Array after reshaping:\",np.reshape(arr,(4,3,1)),\"with Dimension:\",np.reshape(arr,(4,3,1)).ndim)"
   ]
  },
  {
   "cell_type": "code",
   "execution_count": 104,
   "id": "582d3f3f-49a8-4f3c-8145-62656beb9710",
   "metadata": {},
   "outputs": [
    {
     "data": {
      "text/plain": [
       "array([[ 6,  7,  8,  9],\n",
       "       [10, 11, 12, 13],\n",
       "       [14, 15, 16, 17]])"
      ]
     },
     "execution_count": 104,
     "metadata": {},
     "output_type": "execute_result"
    }
   ],
   "source": [
    "#15. What is broadcasting in Numpy?\n",
    "'''\n",
    "It allows you to perform operations on arrays with different shapes, without explicitly having to match their shapes. It's\n",
    "like NumPy automatically adjusts the dimensions of the arrays to make the operation work.\n",
    "\n",
    "For example, let's say you have a 1D array and you want to add a scalar value to each element. With broadcasting, you can \n",
    "simply write the addition operation, and NumPy will automatically apply it to each element of the array.\n",
    "\n",
    "Broadcasting can also be used to perform operations between arrays with different shapes. NumPy will automatically adjust the\n",
    "dimensions of the arrays to make the operation work, as long as the dimensions are compatible.\n",
    "'''\n",
    "#For Example:\n",
    "import numpy as np\n",
    "arr=np.array([[1, 2, 3, 4],\n",
    "              [5, 6, 7, 8],\n",
    "              [9, 10, 11, 12]])\n",
    "#Broadcasting, add 5 to each element in the arr\n",
    "arr+5"
   ]
  },
  {
   "cell_type": "code",
   "execution_count": null,
   "id": "e76638d4-706c-44d4-925f-c491210cbf40",
   "metadata": {},
   "outputs": [],
   "source": []
  }
 ],
 "metadata": {
  "kernelspec": {
   "display_name": "Python 3 (ipykernel)",
   "language": "python",
   "name": "python3"
  },
  "language_info": {
   "codemirror_mode": {
    "name": "ipython",
    "version": 3
   },
   "file_extension": ".py",
   "mimetype": "text/x-python",
   "name": "python",
   "nbconvert_exporter": "python",
   "pygments_lexer": "ipython3",
   "version": "3.10.8"
  }
 },
 "nbformat": 4,
 "nbformat_minor": 5
}
