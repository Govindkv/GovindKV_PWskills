{
 "cells": [
  {
   "cell_type": "code",
   "execution_count": 1,
   "id": "32f43f49-e8a7-4c1c-ac0b-b14b1b3f5dcc",
   "metadata": {},
   "outputs": [
    {
     "data": {
      "text/plain": [
       "'\\nAssignment:-3\\nProblem based on For loop\\n'"
      ]
     },
     "execution_count": 1,
     "metadata": {},
     "output_type": "execute_result"
    }
   ],
   "source": [
    "'''\n",
    "Assignment:-3\n",
    "Problem based on For loop\n",
    "'''"
   ]
  },
  {
   "cell_type": "code",
   "execution_count": 13,
   "id": "467be153-1ee5-4179-b7a7-ce66da152472",
   "metadata": {},
   "outputs": [
    {
     "name": "stdout",
     "output_type": "stream",
     "text": [
      "1\n",
      "2\n",
      "3\n",
      "4\n",
      "5\n",
      "6\n",
      "7\n",
      "8\n",
      "9\n",
      "10\n"
     ]
    }
   ],
   "source": [
    "#1.Write a Python program to print the numbers from 1 to 10 using a `for` loop.\n",
    "for i in range(1,11):\n",
    "    print(i)"
   ]
  },
  {
   "cell_type": "code",
   "execution_count": 21,
   "id": "17c5b1c1-571f-4b3a-96d0-be93e2b761b7",
   "metadata": {},
   "outputs": [
    {
     "name": "stdout",
     "output_type": "stream",
     "text": [
      "sum of numbers in list:- 45\n"
     ]
    }
   ],
   "source": [
    "#2.Create a program that calculates the sum of all numbers in a list using a `for` loop.\n",
    "l1 = [1,2,3,4,5,6,7,8,9]\n",
    "sum = 0\n",
    "for i in l1:\n",
    "        sum += int(i)\n",
    "print(\"sum of numbers in list:-\",sum)"
   ]
  },
  {
   "cell_type": "code",
   "execution_count": 29,
   "id": "63d67475-957a-4335-ad92-5c2d2638e1ab",
   "metadata": {},
   "outputs": [
    {
     "name": "stdin",
     "output_type": "stream",
     "text": [
      "Enter a string:- for\n"
     ]
    },
    {
     "name": "stdout",
     "output_type": "stream",
     "text": [
      "r\n",
      "o\n",
      "f\n"
     ]
    }
   ],
   "source": [
    "#3.Write a program to print the characters of a string in reverse order using a `for` loop.\n",
    "input_string = input(\"Enter a string:-\")\n",
    "for i in input_string[::-1]:\n",
    "    print(i)"
   ]
  },
  {
   "cell_type": "code",
   "execution_count": 48,
   "id": "ede1da03-f667-4696-8fb0-ae4fa2d0cf3f",
   "metadata": {},
   "outputs": [
    {
     "name": "stdin",
     "output_type": "stream",
     "text": [
      "n =  5\n"
     ]
    },
    {
     "name": "stdout",
     "output_type": "stream",
     "text": [
      "factoral of given number:- 120\n"
     ]
    }
   ],
   "source": [
    "#4. Develop a program that finds the factorial of a given number using a `for` loop.\n",
    "def fact(n):\n",
    "    a = 1\n",
    "    for i in range(1,n+1):\n",
    "        a = a*i\n",
    "    return a\n",
    "print(\"factoral of given number:-\",fact(int(input(\"n = \"))))"
   ]
  },
  {
   "cell_type": "code",
   "execution_count": 55,
   "id": "458b3991-fc86-4e86-b766-01f0b4a04131",
   "metadata": {},
   "outputs": [
    {
     "name": "stdin",
     "output_type": "stream",
     "text": [
      "Enter a number:- 4\n"
     ]
    },
    {
     "name": "stdout",
     "output_type": "stream",
     "text": [
      "4\n",
      "8\n",
      "12\n",
      "16\n",
      "20\n",
      "24\n",
      "28\n",
      "32\n",
      "36\n",
      "40\n"
     ]
    }
   ],
   "source": [
    "#5. Create a program to print the multiplication table of a given number using a `for` loop.\n",
    "n = int(input(\"Enter a number:-\"))\n",
    "for i in range(1,11):\n",
    "    i = i*n\n",
    "    print(i)"
   ]
  },
  {
   "cell_type": "code",
   "execution_count": 4,
   "id": "d223e460-dc32-4933-ac4e-479610fcc1cb",
   "metadata": {},
   "outputs": [
    {
     "name": "stdout",
     "output_type": "stream",
     "text": [
      "Even numbers:- 16\n",
      "Odd numbers:- 15\n"
     ]
    }
   ],
   "source": [
    "#6. Write a program that counts the number of even and odd numbers in a list using a `for` loop.\n",
    "l6 = list(range(31))\n",
    "l_even = []\n",
    "l_odd = []\n",
    "for i in l6:\n",
    "    if i%2 == 0:\n",
    "        l_even.append(i)\n",
    "    else:\n",
    "        l_odd.append(i)\n",
    "print(\"Even numbers:-\", len(l_even))\n",
    "print(\"Odd numbers:-\",len(l_odd))"
   ]
  },
  {
   "cell_type": "code",
   "execution_count": 9,
   "id": "d979a219-1d69-41a4-9b48-d543b5cb0989",
   "metadata": {},
   "outputs": [
    {
     "name": "stdout",
     "output_type": "stream",
     "text": [
      "[0, 1, 4, 9, 16, 25]\n"
     ]
    }
   ],
   "source": [
    "#7. Develop a program that prints the squares of numbers from 1 to 5 using a `for` loop.\n",
    "squared_num = [i**2 for i in range(6)]\n",
    "print(squared_num)"
   ]
  },
  {
   "cell_type": "code",
   "execution_count": 18,
   "id": "5959ade2-a88b-49ca-9558-dc70dc179363",
   "metadata": {},
   "outputs": [
    {
     "name": "stdin",
     "output_type": "stream",
     "text": [
      "Enter the string:- pwskills\n"
     ]
    },
    {
     "name": "stdout",
     "output_type": "stream",
     "text": [
      "length of string:- 8\n"
     ]
    }
   ],
   "source": [
    "#8. Create a program to find the length of a string without using the `len()` function.\n",
    "input_string = input(\"Enter the string:-\")\n",
    "count = 0\n",
    "for char_count in input_string:\n",
    "    count += 1\n",
    "print(\"length of string:-\", count)"
   ]
  },
  {
   "cell_type": "code",
   "execution_count": 20,
   "id": "ec048eb8-a4d1-455c-a442-718b02d4e38a",
   "metadata": {},
   "outputs": [
    {
     "name": "stdout",
     "output_type": "stream",
     "text": [
      "Average:- 4.5\n"
     ]
    }
   ],
   "source": [
    "#9. Write a program that calculates the average of a list of numbers using a `for` loop.\n",
    "list9 = list(range(10))\n",
    "sum = 0\n",
    "for i in list9:\n",
    "    sum += i\n",
    "average_of_list = sum/len(list9)\n",
    "print(\"Average:-\", average_of_list)"
   ]
  },
  {
   "cell_type": "code",
   "execution_count": 39,
   "id": "ade9f6e4-cec2-4f3f-804a-62046a4954c1",
   "metadata": {},
   "outputs": [
    {
     "name": "stdin",
     "output_type": "stream",
     "text": [
      "Required value of n:- 5\n"
     ]
    },
    {
     "name": "stdout",
     "output_type": "stream",
     "text": [
      "[0, 1, 1, 2, 3]\n"
     ]
    }
   ],
   "source": [
    "#10. Develop a program that prints the first `n` Fibonacci numbers using a `for` loop.\n",
    "n = int(input(\"Required value of n:-\"))\n",
    "def fib(n):\n",
    "    fib_list = [0, 1]\n",
    "    \n",
    "    for i in range(2,n):\n",
    "        \n",
    "        fib_numbers = fib_list[i-1]+fib_list[i-2]\n",
    "        fib_list.append(fib_numbers)\n",
    "    return fib_list\n",
    "fibonacci_numbers = fib(n)\n",
    "print(fibonacci_numbers)"
   ]
  },
  {
   "cell_type": "code",
   "execution_count": 23,
   "id": "e2307e93-c69d-4c13-a6e0-9f70172b726e",
   "metadata": {},
   "outputs": [
    {
     "name": "stdout",
     "output_type": "stream",
     "text": [
      "Status for duplicates:- [5, 7, 4, 2, 9]\n"
     ]
    }
   ],
   "source": [
    "#11.Write a program to check if a given list contains any duplicates using a `for` loop.\n",
    "input_list = [1,2,5,4,5,6,7,8,9,7,4,2,7,9]\n",
    "Element_once = []\n",
    "Duplicates = []\n",
    "for char in input_list:\n",
    "    if char not in Element_once:\n",
    "        Element_once.append(char)\n",
    "    elif char not in Duplicates:\n",
    "        Duplicates.append(char)\n",
    "#Checking\n",
    "if len(Duplicates) == 0:\n",
    "    print(\"Status for duplicates\", len(Duplicates))\n",
    "else:\n",
    "    print(\"Status for duplicates:-\", Duplicates)"
   ]
  },
  {
   "cell_type": "code",
   "execution_count": 41,
   "id": "d0a87028-8a5b-406f-a62a-5826fb586aac",
   "metadata": {},
   "outputs": [
    {
     "name": "stdin",
     "output_type": "stream",
     "text": [
      "Enter the n:- 20\n"
     ]
    },
    {
     "name": "stdout",
     "output_type": "stream",
     "text": [
      "2\n",
      "3\n",
      "5\n",
      "7\n",
      "11\n",
      "13\n",
      "17\n",
      "19\n"
     ]
    }
   ],
   "source": [
    "#12.Create a program that prints the prime numbers in a given range using a `for` loop.\n",
    "def check_primes(n):\n",
    "    if n < 2:\n",
    "        return False\n",
    "    for i in range(2, int(n**0.5)+1):\n",
    "        if n % i == 0:\n",
    "            return False\n",
    "    return True\n",
    "#Checking Primes\n",
    "l = []\n",
    "n = int(input(\"Enter the n:-\"))\n",
    "def check_primes_in(n):\n",
    "    for i in range(n+1):\n",
    "        if check_primes(i):\n",
    "            print(i)\n",
    "check_primes_in(n)"
   ]
  },
  {
   "cell_type": "code",
   "execution_count": 46,
   "id": "2b3bf65a-a080-4b87-958b-19a846522432",
   "metadata": {},
   "outputs": [
    {
     "name": "stdin",
     "output_type": "stream",
     "text": [
      "Enter the string:- I love python\n"
     ]
    },
    {
     "name": "stdout",
     "output_type": "stream",
     "text": [
      "vowels counts 4\n"
     ]
    }
   ],
   "source": [
    "#13.Develop a program that counts the number of vowels in a string using a `for` loop.\n",
    "input_string = input(\"Enter the string:-\")\n",
    "def count_vowel(string):\n",
    "    vowels = ['a','e','i','o','u']\n",
    "    count = 0\n",
    "    for char in input_string:\n",
    "        if char.lower() in vowels:\n",
    "            count +=1\n",
    "    return count\n",
    "num_vowels = count_vowel(input_string)\n",
    "print(\"vowels counts:-\",num_vowels)"
   ]
  },
  {
   "cell_type": "code",
   "execution_count": 2,
   "id": "942bf19c-86fd-4a7f-8899-385c500ed290",
   "metadata": {},
   "outputs": [
    {
     "name": "stdout",
     "output_type": "stream",
     "text": [
      "Maximum element:- 204\n"
     ]
    }
   ],
   "source": [
    "#14.Write a program to find the maximum element in a 2D list using a nested `for` loop.\n",
    "nested_2D_list = [[1,204],[3,14,51],[6,76,8,9]]\n",
    "flat_list = []\n",
    "for sublist in nested_2D_list:\n",
    "    for x in sublist:\n",
    "        flat_list.append(x)\n",
    "print(\"Maximum element:-\",max(flat_list))"
   ]
  },
  {
   "cell_type": "code",
   "execution_count": 44,
   "id": "9e457b2b-95b7-4b6e-9b6c-597ccf354ba4",
   "metadata": {},
   "outputs": [
    {
     "name": "stdout",
     "output_type": "stream",
     "text": [
      "List after removing occurence of element 8 : [1, 2, 3, 4, 5, 6, 7, 6, 7]\n"
     ]
    }
   ],
   "source": [
    "#15.Create a program that removes all occurrences of a specific element from a list using a `for` loop.\n",
    "list15 = [1,2,3,4,5,6,7,8,6,7,8]\n",
    "def remove_element(l, element):\n",
    "    for i in l:\n",
    "        if i == element:\n",
    "            l.remove(i)\n",
    "            \n",
    "element_to_remove = 8\n",
    "remove_element(list15, element_to_remove)\n",
    "print(\"List after removing occurence of element\", element_to_remove, \":\", list15)"
   ]
  },
  {
   "cell_type": "code",
   "execution_count": 41,
   "id": "bac4d253-3e94-4f61-80f2-e8d247d9dc5a",
   "metadata": {},
   "outputs": [
    {
     "name": "stdout",
     "output_type": "stream",
     "text": [
      "1\t2\t3\t4\t5\t\n",
      "2\t4\t6\t8\t10\t\n",
      "3\t6\t9\t12\t15\t\n",
      "4\t8\t12\t16\t20\t\n",
      "5\t10\t15\t20\t25\t\n",
      "6\t12\t18\t24\t30\t\n",
      "7\t14\t21\t28\t35\t\n",
      "8\t16\t24\t32\t40\t\n",
      "9\t18\t27\t36\t45\t\n",
      "10\t20\t30\t40\t50\t\n"
     ]
    }
   ],
   "source": [
    "#16.Develop a program that generates a multiplication table for numbers from 1 to 5 using a nested `for` loop.\n",
    "for i in range(1,11):\n",
    "    for j in range(1,6):\n",
    "        print(i*j, end = \"\\t\")\n",
    "    print()"
   ]
  },
  {
   "cell_type": "code",
   "execution_count": 2,
   "id": "2691d005-7822-492f-a3f2-5cb4aa03428a",
   "metadata": {},
   "outputs": [
    {
     "name": "stdin",
     "output_type": "stream",
     "text": [
      "Enter the value in F:- 50\n"
     ]
    },
    {
     "name": "stdout",
     "output_type": "stream",
     "text": [
      "Temperature in celcius:-  10.0\n"
     ]
    }
   ],
   "source": [
    "#17.Write a program that converts a list of Fahrenheit temperatures to Celsius using a `for` loop.\n",
    "fahrenheit = int(input(\"Enter the value in F:-\"))\n",
    "celcius = ((fahrenheit-32)*5)/9\n",
    "print(\"Temperature in celcius:- \",celcius)"
   ]
  },
  {
   "cell_type": "code",
   "execution_count": 9,
   "id": "80a621a1-29bc-4059-a13d-4e37227de9ff",
   "metadata": {},
   "outputs": [
    {
     "name": "stdout",
     "output_type": "stream",
     "text": [
      "Common Elements:- {5, 6}\n"
     ]
    }
   ],
   "source": [
    "#18.Create a program to print the common elements from two lists using a `for` loop.\n",
    "l1 = [1,2,3,4,5,6]\n",
    "l2 = [5,6,7,8,9,10]\n",
    "for common_element in l1 and l2:\n",
    "    common_element =  set(l1).intersection(l2)\n",
    "print(\"Common Elements:-\",common_element)"
   ]
  },
  {
   "cell_type": "code",
   "execution_count": 11,
   "id": "8d0a3b06-2b2c-464d-989c-1ac322af7292",
   "metadata": {},
   "outputs": [
    {
     "name": "stdout",
     "output_type": "stream",
     "text": [
      "* \n",
      "* * \n",
      "* * * \n",
      "* * * * \n",
      "* * * * * \n"
     ]
    }
   ],
   "source": [
    "#19.Develop a program that prints the pattern of right-angled triangles using a `for` loop. Use ‘*’ to draw the pattern.\n",
    "for i in range (5):\n",
    "    for j in range(i+1):\n",
    "        print(\"*\",end =\" \")\n",
    "    print()    "
   ]
  },
  {
   "cell_type": "code",
   "execution_count": 11,
   "id": "b64e4c3a-3fa6-4539-ac16-f860c04a4589",
   "metadata": {},
   "outputs": [
    {
     "name": "stdout",
     "output_type": "stream",
     "text": [
      "GCD of given numbers:- 12\n"
     ]
    }
   ],
   "source": [
    "#20.Write a program to find the greatest common divisor (GCD) of two numbers using a `for` loop.\n",
    "def find_GCD(a,b):\n",
    "    if a > b:\n",
    "        smaller = a\n",
    "    else:\n",
    "        smaller = b\n",
    "    for i in range(1, smaller+1):\n",
    "        if a%i == 0 and b%i == 0:\n",
    "            GCD = i\n",
    "    return GCD\n",
    "print(\"GCD of given numbers:-\",find_GCD(12,48))"
   ]
  },
  {
   "cell_type": "code",
   "execution_count": 30,
   "id": "16a6b0b9-128c-42b6-80c6-8176e8c2124c",
   "metadata": {},
   "outputs": [
    {
     "name": "stdout",
     "output_type": "stream",
     "text": [
      "Required sum of digits:- [6, 15, 24]\n"
     ]
    }
   ],
   "source": [
    "#21.Create a program that calculates the sum of the digits of numbers in a list using a list comprehension.\n",
    "list21 = [123, 456, 789]\n",
    "digit_sum = [sum([int(digit) for digit in str(number)]) for number in list21]\n",
    "print(\"Required sum of digits:-\", digit_sum)"
   ]
  },
  {
   "cell_type": "code",
   "execution_count": 23,
   "id": "66b6a9fe-d30f-4b90-8ffe-14cfd8a139d8",
   "metadata": {},
   "outputs": [
    {
     "name": "stdin",
     "output_type": "stream",
     "text": [
      "Enter the number:- 60\n"
     ]
    },
    {
     "name": "stdout",
     "output_type": "stream",
     "text": [
      "Prime factors of given number are:- [2, 3, 5]\n"
     ]
    }
   ],
   "source": [
    "#22.Write a program to find the prime factors of a given number using a `for` loop and list comprehension.\n",
    "def prime_fact(n):\n",
    "    factors = []\n",
    "    divisor = 2\n",
    " #using for loop:-   \n",
    "    for divisor in range(2,n+1):\n",
    "        if n % divisor == 0:\n",
    "            factors.append(divisor)\n",
    "            n = n/divisor\n",
    "        else:\n",
    "            divisor += 1\n",
    "    return factors\n",
    "#Call for function\n",
    "n = int(input(\"Enter the number:-\"))\n",
    "print(\"Prime factors of given number are:-\",prime_fact(n))"
   ]
  },
  {
   "cell_type": "code",
   "execution_count": 1,
   "id": "7bfb107c-158c-4833-ae0f-c1f3d762598d",
   "metadata": {},
   "outputs": [
    {
     "name": "stdout",
     "output_type": "stream",
     "text": [
      "The prime factors of 225 are: [3, 3, 5, 5]\n"
     ]
    }
   ],
   "source": [
    "#using list comprehension\n",
    "def find_prime_factors(num):\n",
    "#list comprehension:-\n",
    "    factors = [divisor for divisor in range(2, num + 1) if num % divisor == 0]\n",
    "    prime_factors = []\n",
    "#for loop\n",
    "    for factor in factors:\n",
    "        while num % factor == 0:\n",
    "            prime_factors.append(factor)\n",
    "            num = num // factor\n",
    "\n",
    "    return prime_factors\n",
    "\n",
    "# calling the function\n",
    "number = 225\n",
    "prime_factors = find_prime_factors(number)\n",
    "print(\"The prime factors of\", number, \"are:\", prime_factors)"
   ]
  },
  {
   "cell_type": "code",
   "execution_count": 9,
   "id": "0a2b9962-d1b9-4f0a-8e7c-5ed762f7805c",
   "metadata": {},
   "outputs": [
    {
     "name": "stdout",
     "output_type": "stream",
     "text": [
      "List of unique elements:- [2, 3, 4, 7, 8, 9]\n"
     ]
    }
   ],
   "source": [
    "#23.Develop a program that extracts unique elements from a list and stores them in a new list using a list comprehension.\n",
    "list23 = [2,3,4,5,5,6,6,7,8,9]\n",
    "unique_list = []\n",
    "unique_element = [unique_list.append(x) for x in list23 if list23.count(x)==1]\n",
    "print(\"List of unique elements:-\", unique_list)"
   ]
  },
  {
   "cell_type": "code",
   "execution_count": 13,
   "id": "c33a06d8-3322-4b8d-b3e4-c04eb7bdd82d",
   "metadata": {},
   "outputs": [
    {
     "name": "stdin",
     "output_type": "stream",
     "text": [
      "Enter the lower limit:- 100\n",
      "Enter the upper limit:- 1000\n"
     ]
    },
    {
     "name": "stdout",
     "output_type": "stream",
     "text": [
      "List of required palondromic numbers in given range:- [101, 111, 121, 131, 141, 151, 161, 171, 181, 191, 202, 212, 222, 232, 242, 252, 262, 272, 282, 292, 303, 313, 323, 333, 343, 353, 363, 373, 383, 393, 404, 414, 424, 434, 444, 454, 464, 474, 484, 494, 505, 515, 525, 535, 545, 555, 565, 575, 585, 595, 606, 616, 626, 636, 646, 656, 666, 676, 686, 696, 707, 717, 727, 737, 747, 757, 767, 777, 787, 797, 808, 818, 828, 838, 848, 858, 868, 878, 888, 898, 909, 919, 929, 939, 949, 959, 969, 979, 989, 999]\n"
     ]
    }
   ],
   "source": [
    "#24.Create a program that generates a list of all palindromic numbers up to a specified limit using a list comprehension.\n",
    "n = int(input(\"Enter the lower limit:-\"))\n",
    "m = int(input(\"Enter the upper limit:-\"))\n",
    "palindromic_numbers = [x for x in range(n,m) if str(x) == str(x)[::-1]]\n",
    "print(\"List of required palondromic numbers in given range:-\", palindromic_numbers)"
   ]
  },
  {
   "cell_type": "code",
   "execution_count": 27,
   "id": "31aa2ffd-6f22-4a9f-b8fd-d34797f4a536",
   "metadata": {},
   "outputs": [
    {
     "name": "stdout",
     "output_type": "stream",
     "text": [
      "falttened list:- [1, 2, 3, 10, 20, 30, 40, 50, 60]\n"
     ]
    }
   ],
   "source": [
    "#25.Write a program to flatten a nested list using list comprehension.\n",
    "nested_list = [[1,2,3],[10,20,30],[40,50,60]]\n",
    "flatten_list = [x for sublist in nested_list for x in sublist]\n",
    "print(\"falttened list:-\", flatten_list)"
   ]
  },
  {
   "cell_type": "code",
   "execution_count": 35,
   "id": "6efee71a-594f-4712-b852-250d70ba2e81",
   "metadata": {},
   "outputs": [
    {
     "name": "stdout",
     "output_type": "stream",
     "text": [
      "Required sum of odd:- 25\n",
      "Required sum of even:- 20\n"
     ]
    }
   ],
   "source": [
    "#26.Develop a program that computes the sum of even and odd numbers in a list separately using list comprehension.\n",
    "list26 = [1,2,3,4,5,6,7,8,9]\n",
    "sum_odd =sum([x for x in list26 if x%2 != 0])\n",
    "sum_even =sum([x for x in list26 if x%2 == 0])\n",
    "print(\"Required sum of odd:-\",sum_odd)\n",
    "print(\"Required sum of even:-\",sum_even)"
   ]
  },
  {
   "cell_type": "code",
   "execution_count": 39,
   "id": "952a03f4-a753-4ce3-bf32-089f86d754e7",
   "metadata": {},
   "outputs": [
    {
     "name": "stdout",
     "output_type": "stream",
     "text": [
      "Required squared odd:- [1, 9, 25, 49, 81]\n"
     ]
    }
   ],
   "source": [
    "#27.Create a program that generates a list of squares of odd numbers between 1 and 10 using list comprehension.\n",
    "list27 = list(range(10))\n",
    "sqr_odd = [x**2 for x in list27 if x%2 != 0]\n",
    "print(\"Required squared odd:-\",sqr_odd)"
   ]
  },
  {
   "cell_type": "code",
   "execution_count": 2,
   "id": "f10ac898-2ec5-409c-97f9-af831a3608aa",
   "metadata": {},
   "outputs": [
    {
     "name": "stdout",
     "output_type": "stream",
     "text": [
      "Reqired dictionary:- {'Name': 'Govind', 'Course': 'Data Science', 'Duration': '1 Year'}\n"
     ]
    }
   ],
   "source": [
    "#28.Write a program that combines two lists into a dictionary using list comprehension.\n",
    "\n",
    "keys = ['Name','Course','Duration']\n",
    "values = ['Govind','Data Science','1 Year']\n",
    "\n",
    "my_dict = {keys[i]:values[i] for i in range(len(keys))}\n",
    "print(\"Reqired dictionary:-\", my_dict)"
   ]
  },
  {
   "cell_type": "code",
   "execution_count": 5,
   "id": "52cef403-95c2-4f06-8f37-368660087fbf",
   "metadata": {},
   "outputs": [
    {
     "name": "stdin",
     "output_type": "stream",
     "text": [
      "Enter a string:- i love python\n"
     ]
    },
    {
     "name": "stdout",
     "output_type": "stream",
     "text": [
      "['i', 'o', 'e', 'o']\n"
     ]
    }
   ],
   "source": [
    "#29.Develop a program that extracts the vowels from a string and stores them in a list using list comprehension.\n",
    "vowel = \"aeiou\"\n",
    "input_string = input(\"Enter a string:-\")\n",
    "vowel_list = [x for x in input_string if x.lower() in vowel]\n",
    "print(vowel_list)"
   ]
  },
  {
   "cell_type": "code",
   "execution_count": 7,
   "id": "ce8296ad-61e1-452f-8134-2466e78b02e6",
   "metadata": {},
   "outputs": [
    {
     "name": "stdout",
     "output_type": "stream",
     "text": [
      "['123', '456', '789']\n"
     ]
    }
   ],
   "source": [
    "#30.Create a program that removes all non-numeric characters from a list of strings using list comprehension.\n",
    "strings = ['123', 'abc', '456', 'def', '789']\n",
    "\n",
    "numeric_string = [x for x in strings if x.isnumeric()]\n",
    "\n",
    "print(numeric_string)"
   ]
  },
  {
   "cell_type": "code",
   "execution_count": 1,
   "id": "abf0c0aa-2ddb-470e-b320-01eb9d47558b",
   "metadata": {},
   "outputs": [
    {
     "name": "stdout",
     "output_type": "stream",
     "text": [
      "[2, 3, 5, 7, 11, 13, 17, 19, 23, 29, 31, 37, 41, 43, 47, 53, 59, 61, 67, 71, 73, 79, 83, 89, 97]\n"
     ]
    }
   ],
   "source": [
    "#31.Write a program to generate a list of prime numbers using the Sieve of Eratosthenes algorithm and list comprehension.\n",
    "def sieve_of_eratosthenes(n):\n",
    "    primes = [True] * (n + 1)\n",
    "    primes[0] = primes[1] = False\n",
    "\n",
    "    for i in range(2, int(n ** 0.5) + 1):\n",
    "        if primes[i]:\n",
    "            for j in range(i * i, n + 1, i):\n",
    "                primes[j] = False\n",
    "\n",
    "    return [i for i in range(2, n + 1) if primes[i]]\n",
    "\n",
    "# Example usage\n",
    "n = 100\n",
    "prime_numbers = sieve_of_eratosthenes(n)\n",
    "print(prime_numbers)"
   ]
  },
  {
   "cell_type": "code",
   "execution_count": 10,
   "id": "c0679ca5-318b-4069-b8cd-55a5f83c8ba2",
   "metadata": {},
   "outputs": [
    {
     "name": "stdin",
     "output_type": "stream",
     "text": [
      "Enter the value of n:- 30\n"
     ]
    },
    {
     "name": "stdout",
     "output_type": "stream",
     "text": [
      "Pythagorean triplets:\n",
      "(3, 4, 5)\n",
      "(5, 12, 13)\n",
      "(6, 8, 10)\n",
      "(7, 24, 25)\n",
      "(8, 15, 17)\n",
      "(9, 12, 15)\n",
      "(10, 24, 26)\n",
      "(12, 16, 20)\n",
      "(15, 20, 25)\n",
      "(18, 24, 30)\n",
      "(20, 21, 29)\n"
     ]
    }
   ],
   "source": [
    "#32.Create a program that generates a list of all Pythagorean triplets up to a specified limit using list comprehension.\n",
    "n = int(input(\"Enter the value of n:-\"))\n",
    "\n",
    "triplets = [(a,b,c) for a in range(1,n+1) for b in range(a,n+1) for c in range(b,n+1) if a**2 + b**2 == c**2]\n",
    "\n",
    "print(\"Pythagorean triplets:\")\n",
    "for triplet in triplets:\n",
    "    print(triplet)"
   ]
  },
  {
   "cell_type": "code",
   "execution_count": 2,
   "id": "bd84a480-e195-4d08-8c30-fb875f471acd",
   "metadata": {},
   "outputs": [
    {
     "name": "stdout",
     "output_type": "stream",
     "text": [
      "Possible combination:\n",
      "(1, 10)\n",
      "(1, 20)\n",
      "(1, 30)\n",
      "(2, 10)\n",
      "(2, 20)\n",
      "(2, 30)\n",
      "(3, 10)\n",
      "(3, 20)\n",
      "(3, 30)\n"
     ]
    }
   ],
   "source": [
    "#33.Develop a program that generates a list of all possible combinations of two lists using list comprehension.\n",
    "list_1 = [1,2,3]\n",
    "list_2 = [10,20,30]\n",
    "\n",
    "combinations = [(x,y) for x in list_1 for y in list_2]\n",
    "\n",
    "print(\"Possible combination:\")\n",
    "for combination in combinations:\n",
    "    print(combination)"
   ]
  },
  {
   "cell_type": "code",
   "execution_count": 4,
   "id": "bf73dc09-a17d-4252-bde4-324d727998d6",
   "metadata": {},
   "outputs": [
    {
     "name": "stdout",
     "output_type": "stream",
     "text": [
      "Mean: 6.6\n",
      "Median: 7.0\n",
      "Mode: [8]\n"
     ]
    }
   ],
   "source": [
    "#34.Write a program that calculates the mean, median, and mode of a list of numbers using list comprehension.\n",
    "from collections import Counter\n",
    "\n",
    "numbers = [2, 4, 6, 8, 10, 4, 6, 8, 8, 10]\n",
    "# Calculate the mean\n",
    "mean = sum(numbers) / len(numbers)\n",
    "# Calculate the median\n",
    "sorted_numbers = sorted(numbers)\n",
    "median = (sorted_numbers[len(sorted_numbers)//2] + sorted_numbers[(len(sorted_numbers)-1)//2]) / 2\n",
    "# Calculate the mode\n",
    "counter = Counter(numbers)\n",
    "mode = [k for k, v in counter.items() if v == max(counter.values())]\n",
    "\n",
    "print(f\"Mean: {mean}\")\n",
    "print(f\"Median: {median}\")\n",
    "print(f\"Mode: {mode}\")"
   ]
  },
  {
   "cell_type": "code",
   "execution_count": 5,
   "id": "5fb803de-cc9d-4476-98fb-ba42dbeeb1a3",
   "metadata": {},
   "outputs": [
    {
     "name": "stdout",
     "output_type": "stream",
     "text": [
      "[1]\n",
      "[1, 1]\n",
      "[1, 2, 1]\n",
      "[1, 3, 3, 1]\n",
      "[1, 4, 6, 4, 1]\n"
     ]
    }
   ],
   "source": [
    "#35.Create a program that generates Pascal's triangle up to a specified number of rows using list comprehension.\n",
    "def generate_pascals_triangle(num_rows):\n",
    "    triangle = [[1] * (row + 1) for row in range(num_rows)]\n",
    "    for row in range(2, num_rows):\n",
    "        for col in range(1, row):\n",
    "            triangle[row][col] = triangle[row - 1][col - 1] + triangle[row - 1][col]\n",
    "    return triangle\n",
    "\n",
    "# Example usage\n",
    "num_rows = 5\n",
    "pascals_triangle = generate_pascals_triangle(num_rows)\n",
    "# Print the triangle\n",
    "for row in pascals_triangle:\n",
    "    print(row)"
   ]
  },
  {
   "cell_type": "code",
   "execution_count": 8,
   "id": "e55fe026-a99b-49b5-b454-04be80b50eb3",
   "metadata": {},
   "outputs": [
    {
     "name": "stdout",
     "output_type": "stream",
     "text": [
      "Required sum of factorials of given numbers:- [1, 2, 6, 6, 3]\n"
     ]
    }
   ],
   "source": [
    "'''36.Develop a program that calculates the sum of the digits of a factorial of numbers from 1 to 5\n",
    "using list comprehension.'''\n",
    "def fact(n):\n",
    "    if n == 0:\n",
    "        return 1\n",
    "    else:\n",
    "        return n*fact(n-1)\n",
    "\n",
    "factorial_sum = [sum([int(digit) for digit in str(fact(n))]) for n in range(1,6)]\n",
    "\n",
    "print(\"Required sum of factorials of given numbers:-\",factorial_sum)\n"
   ]
  },
  {
   "cell_type": "code",
   "execution_count": 14,
   "id": "507c9b24-4ed4-4e5d-9122-dcf5331938ae",
   "metadata": {},
   "outputs": [
    {
     "name": "stdout",
     "output_type": "stream",
     "text": [
      "comprehension\n"
     ]
    }
   ],
   "source": [
    "#37.Write a program that finds the longest word in a sentence using list comprehension.\n",
    "input_string = \"Write a program that finds the longest word in a sentence using list comprehension\"\n",
    "list_of_string = input_string.split()\n",
    "longest_word = [x for x in list_of_string if x == max(list_of_string, key = len)]\n",
    "print(*longest_word)"
   ]
  },
  {
   "cell_type": "code",
   "execution_count": 1,
   "id": "d7033e01-87dc-443d-9e73-70901666bd76",
   "metadata": {},
   "outputs": [
    {
     "name": "stdout",
     "output_type": "stream",
     "text": [
      "Words with more than 3 vowels:- ['comprehension.']\n"
     ]
    }
   ],
   "source": [
    "'''38.Create a program that filters a list of strings to include only.\n",
    "those with more than three vowels using list comprehension.'''\n",
    "\n",
    "\n",
    "vowels = \"aeiou\"\n",
    "input_string = \"A program that filters a list of strings to include three vowels using list comprehension.\"\n",
    "list_of_string = input_string.split()\n",
    "\n",
    "words_with_vowels = [x for x in list_of_string if sum(x.count(i) for i in vowels) > 3 ]\n",
    "print(\"Words with more than 3 vowels:-\",words_with_vowels)"
   ]
  },
  {
   "cell_type": "code",
   "execution_count": 3,
   "id": "7097ff6e-2c96-4378-8615-cc10f43c8f4a",
   "metadata": {},
   "outputs": [
    {
     "name": "stdout",
     "output_type": "stream",
     "text": [
      "Raquired sum of digit:- [0, 1, 2, 3, 4, 5, 6, 7, 8, 9, 1, 2, 3, 4, 5, 6, 7, 8, 9, 10, 2, 3, 4, 5, 6, 7, 8, 9, 10, 11, 3, 4, 5, 6, 7, 8, 9, 10, 11, 12, 4, 5, 6, 7, 8, 9, 10, 11, 12, 13, 5, 6, 7, 8, 9, 10, 11, 12, 13, 14, 6, 7, 8, 9, 10, 11, 12, 13, 14, 15, 7, 8, 9, 10, 11, 12, 13, 14, 15, 16, 8, 9, 10, 11, 12, 13, 14, 15, 16, 17, 9, 10, 11, 12, 13, 14, 15, 16, 17, 18, 1, 2, 3, 4, 5, 6, 7, 8, 9, 10, 2, 3, 4, 5, 6, 7, 8, 9, 10, 11, 3, 4, 5, 6, 7, 8, 9, 10, 11, 12, 4, 5, 6, 7, 8, 9, 10, 11, 12, 13, 5, 6, 7, 8, 9, 10, 11, 12, 13, 14, 6, 7, 8, 9, 10, 11, 12, 13, 14, 15, 7, 8, 9, 10, 11, 12, 13, 14, 15, 16, 8, 9, 10, 11, 12, 13, 14, 15, 16, 17, 9, 10, 11, 12, 13, 14, 15, 16, 17, 18, 10, 11, 12, 13, 14, 15, 16, 17, 18, 19, 2, 3, 4, 5, 6, 7, 8, 9, 10, 11, 3, 4, 5, 6, 7, 8, 9, 10, 11, 12, 4, 5, 6, 7, 8, 9, 10, 11, 12, 13, 5, 6, 7, 8, 9, 10, 11, 12, 13, 14, 6, 7, 8, 9, 10, 11, 12, 13, 14, 15, 7, 8, 9, 10, 11, 12, 13, 14, 15, 16, 8, 9, 10, 11, 12, 13, 14, 15, 16, 17, 9, 10, 11, 12, 13, 14, 15, 16, 17, 18, 10, 11, 12, 13, 14, 15, 16, 17, 18, 19, 11, 12, 13, 14, 15, 16, 17, 18, 19, 20, 3, 4, 5, 6, 7, 8, 9, 10, 11, 12, 4, 5, 6, 7, 8, 9, 10, 11, 12, 13, 5, 6, 7, 8, 9, 10, 11, 12, 13, 14, 6, 7, 8, 9, 10, 11, 12, 13, 14, 15, 7, 8, 9, 10, 11, 12, 13, 14, 15, 16, 8, 9, 10, 11, 12, 13, 14, 15, 16, 17, 9, 10, 11, 12, 13, 14, 15, 16, 17, 18, 10, 11, 12, 13, 14, 15, 16, 17, 18, 19, 11, 12, 13, 14, 15, 16, 17, 18, 19, 20, 12, 13, 14, 15, 16, 17, 18, 19, 20, 21, 4, 5, 6, 7, 8, 9, 10, 11, 12, 13, 5, 6, 7, 8, 9, 10, 11, 12, 13, 14, 6, 7, 8, 9, 10, 11, 12, 13, 14, 15, 7, 8, 9, 10, 11, 12, 13, 14, 15, 16, 8, 9, 10, 11, 12, 13, 14, 15, 16, 17, 9, 10, 11, 12, 13, 14, 15, 16, 17, 18, 10, 11, 12, 13, 14, 15, 16, 17, 18, 19, 11, 12, 13, 14, 15, 16, 17, 18, 19, 20, 12, 13, 14, 15, 16, 17, 18, 19, 20, 21, 13, 14, 15, 16, 17, 18, 19, 20, 21, 22, 5, 6, 7, 8, 9, 10, 11, 12, 13, 14, 6, 7, 8, 9, 10, 11, 12, 13, 14, 15, 7, 8, 9, 10, 11, 12, 13, 14, 15, 16, 8, 9, 10, 11, 12, 13, 14, 15, 16, 17, 9, 10, 11, 12, 13, 14, 15, 16, 17, 18, 10, 11, 12, 13, 14, 15, 16, 17, 18, 19, 11, 12, 13, 14, 15, 16, 17, 18, 19, 20, 12, 13, 14, 15, 16, 17, 18, 19, 20, 21, 13, 14, 15, 16, 17, 18, 19, 20, 21, 22, 14, 15, 16, 17, 18, 19, 20, 21, 22, 23, 6, 7, 8, 9, 10, 11, 12, 13, 14, 15, 7, 8, 9, 10, 11, 12, 13, 14, 15, 16, 8, 9, 10, 11, 12, 13, 14, 15, 16, 17, 9, 10, 11, 12, 13, 14, 15, 16, 17, 18, 10, 11, 12, 13, 14, 15, 16, 17, 18, 19, 11, 12, 13, 14, 15, 16, 17, 18, 19, 20, 12, 13, 14, 15, 16, 17, 18, 19, 20, 21, 13, 14, 15, 16, 17, 18, 19, 20, 21, 22, 14, 15, 16, 17, 18, 19, 20, 21, 22, 23, 15, 16, 17, 18, 19, 20, 21, 22, 23, 24, 7, 8, 9, 10, 11, 12, 13, 14, 15, 16, 8, 9, 10, 11, 12, 13, 14, 15, 16, 17, 9, 10, 11, 12, 13, 14, 15, 16, 17, 18, 10, 11, 12, 13, 14, 15, 16, 17, 18, 19, 11, 12, 13, 14, 15, 16, 17, 18, 19, 20, 12, 13, 14, 15, 16, 17, 18, 19, 20, 21, 13, 14, 15, 16, 17, 18, 19, 20, 21, 22, 14, 15, 16, 17, 18, 19, 20, 21, 22, 23, 15, 16, 17, 18, 19, 20, 21, 22, 23, 24, 16, 17, 18, 19, 20, 21, 22, 23, 24, 25, 8, 9, 10, 11, 12, 13, 14, 15, 16, 17, 9, 10, 11, 12, 13, 14, 15, 16, 17, 18, 10, 11, 12, 13, 14, 15, 16, 17, 18, 19, 11, 12, 13, 14, 15, 16, 17, 18, 19, 20, 12, 13, 14, 15, 16, 17, 18, 19, 20, 21, 13, 14, 15, 16, 17, 18, 19, 20, 21, 22, 14, 15, 16, 17, 18, 19, 20, 21, 22, 23, 15, 16, 17, 18, 19, 20, 21, 22, 23, 24, 16, 17, 18, 19, 20, 21, 22, 23, 24, 25, 17, 18, 19, 20, 21, 22, 23, 24, 25, 26, 9, 10, 11, 12, 13, 14, 15, 16, 17, 18, 10, 11, 12, 13, 14, 15, 16, 17, 18, 19, 11, 12, 13, 14, 15, 16, 17, 18, 19, 20, 12, 13, 14, 15, 16, 17, 18, 19, 20, 21, 13, 14, 15, 16, 17, 18, 19, 20, 21, 22, 14, 15, 16, 17, 18, 19, 20, 21, 22, 23, 15, 16, 17, 18, 19, 20, 21, 22, 23, 24, 16, 17, 18, 19, 20, 21, 22, 23, 24, 25, 17, 18, 19, 20, 21, 22, 23, 24, 25, 26, 18, 19, 20, 21, 22, 23, 24, 25, 26, 27]\n"
     ]
    }
   ],
   "source": [
    "#39.Develop a program that calculates the sum of the digits of numbers from 1 to 1000 using list comprehension.\n",
    "limit = 1000\n",
    "sum_of_digit = [sum([int(digit) for digit in str(num)]) for num in range(limit)]\n",
    "print(\"Raquired sum of digit:-\", sum_of_digit)"
   ]
  },
  {
   "cell_type": "code",
   "execution_count": 13,
   "id": "8ace0efa-23d2-4f81-b8ba-77332c0564d3",
   "metadata": {},
   "outputs": [
    {
     "name": "stdin",
     "output_type": "stream",
     "text": [
      "Enter the limit to check palindromic numbers till:- 1000\n"
     ]
    },
    {
     "name": "stdout",
     "output_type": "stream",
     "text": [
      "Required palindromic numbers in given range:- [2, 3, 5, 7, 11, 101, 131, 151, 181, 191, 313, 353, 373, 383, 727, 757, 787, 797, 919, 929]\n"
     ]
    }
   ],
   "source": [
    "#40.Write a program that generates a list of prime palindromic numbers using list comprehension.\n",
    "def prime_num(n):\n",
    "    if n < 2:\n",
    "        return False\n",
    "    for i in range(2, int(n**0.5)+1):\n",
    "        if n%i == 0:\n",
    "            return False\n",
    "    return True\n",
    "limit = int(input(\"Enter the limit to check palindromic numbers till:-\"))\n",
    "prime_palindromic = [x for x in range(limit) if str(x) == str(x)[::-1] and prime_num(x)] \n",
    "\n",
    "print(\"Required palindromic numbers in given range:-\",prime_palindromic)"
   ]
  },
  {
   "cell_type": "code",
   "execution_count": null,
   "id": "45efc8ce-02d8-4584-aa65-338a037539a5",
   "metadata": {},
   "outputs": [],
   "source": [
    "#Assignment 3.Problems based on for loop is done..."
   ]
  }
 ],
 "metadata": {
  "kernelspec": {
   "display_name": "Python 3 (ipykernel)",
   "language": "python",
   "name": "python3"
  },
  "language_info": {
   "codemirror_mode": {
    "name": "ipython",
    "version": 3
   },
   "file_extension": ".py",
   "mimetype": "text/x-python",
   "name": "python",
   "nbconvert_exporter": "python",
   "pygments_lexer": "ipython3",
   "version": "3.10.8"
  }
 },
 "nbformat": 4,
 "nbformat_minor": 5
}
