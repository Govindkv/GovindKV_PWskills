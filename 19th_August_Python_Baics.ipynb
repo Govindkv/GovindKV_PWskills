{
 "cells": [
  {
   "cell_type": "code",
   "execution_count": 1,
   "id": "58b6dfce-60ac-4b47-9be5-741070eb1bcf",
   "metadata": {},
   "outputs": [],
   "source": [
    "#Topic:- Python Basics Variables"
   ]
  },
  {
   "cell_type": "code",
   "execution_count": 2,
   "id": "49232306-8323-4b61-b79e-1cd76a3f8f4f",
   "metadata": {},
   "outputs": [],
   "source": [
    "'''Que.1.Declare two variables, 'x' and 'y', asign them integer values.\n",
    "Swap the values of these variables without using any temporary variables.'''\n",
    "x = 10\n",
    "y = 20"
   ]
  },
  {
   "cell_type": "code",
   "execution_count": 3,
   "id": "98beb5d0-d516-4568-816e-63e0db59fbd6",
   "metadata": {},
   "outputs": [],
   "source": [
    "x, y = y, x"
   ]
  },
  {
   "cell_type": "code",
   "execution_count": 4,
   "id": "6e7a79bd-2ffb-425b-9b02-cd20409ba24c",
   "metadata": {},
   "outputs": [
    {
     "data": {
      "text/plain": [
       "20"
      ]
     },
     "execution_count": 4,
     "metadata": {},
     "output_type": "execute_result"
    }
   ],
   "source": [
    "x"
   ]
  },
  {
   "cell_type": "code",
   "execution_count": 5,
   "id": "cbc3d011-1d71-44a2-9f6d-9ac3ba0e3790",
   "metadata": {},
   "outputs": [],
   "source": [
    "#Que.2.Area of rectangle\n",
    "l = 12\n",
    "b = 15"
   ]
  },
  {
   "cell_type": "code",
   "execution_count": 6,
   "id": "88d8de1c-2f56-405e-90ba-5b95f70bd6ea",
   "metadata": {},
   "outputs": [],
   "source": [
    "Area = l*b"
   ]
  },
  {
   "cell_type": "code",
   "execution_count": 7,
   "id": "f47f0c8b-2a4d-4845-a41c-4dd764075c43",
   "metadata": {},
   "outputs": [
    {
     "data": {
      "text/plain": [
       "180"
      ]
     },
     "execution_count": 7,
     "metadata": {},
     "output_type": "execute_result"
    }
   ],
   "source": [
    "Area"
   ]
  },
  {
   "cell_type": "code",
   "execution_count": 8,
   "id": "92dddebc-2c8d-42a3-993d-e0d25d18c735",
   "metadata": {},
   "outputs": [],
   "source": [
    "'''3.convert temperature from celsius to fahrenheit.\n",
    "C = temperature in celsius\n",
    "F = temperature in fahrenheit'''\n",
    "C = 36"
   ]
  },
  {
   "cell_type": "code",
   "execution_count": 9,
   "id": "04cab5ad-8d03-4a54-a78e-bab5f97d742b",
   "metadata": {},
   "outputs": [],
   "source": [
    "F = C*5/9 + 32"
   ]
  },
  {
   "cell_type": "code",
   "execution_count": 10,
   "id": "0e6391cc-0b45-48f9-be8d-1ee0ec8c01bc",
   "metadata": {},
   "outputs": [
    {
     "data": {
      "text/plain": [
       "52.0"
      ]
     },
     "execution_count": 10,
     "metadata": {},
     "output_type": "execute_result"
    }
   ],
   "source": [
    "F"
   ]
  },
  {
   "cell_type": "code",
   "execution_count": 11,
   "id": "de9fcaa4-a5ef-45e3-b348-621cc4085e36",
   "metadata": {},
   "outputs": [],
   "source": [
    "#Topic:- String Based Questions\n",
    "'''1.Write a program that takes a string as input and prints the Length of the string.\n",
    "Let say s1 is a string define as pwskills and length = l'''\n",
    "s1 = \"pwskills\""
   ]
  },
  {
   "cell_type": "code",
   "execution_count": 12,
   "id": "840a0a67-5770-43bd-9925-8775bb15bea0",
   "metadata": {},
   "outputs": [],
   "source": [
    "l = len(s1)"
   ]
  },
  {
   "cell_type": "code",
   "execution_count": 13,
   "id": "16f42e07-6600-4a75-aaf5-c1ed68079238",
   "metadata": {},
   "outputs": [
    {
     "data": {
      "text/plain": [
       "8"
      ]
     },
     "execution_count": 13,
     "metadata": {},
     "output_type": "execute_result"
    }
   ],
   "source": [
    "l"
   ]
  },
  {
   "cell_type": "code",
   "execution_count": 14,
   "id": "4635c053-7b8c-44ca-8419-a4e661b94628",
   "metadata": {},
   "outputs": [],
   "source": [
    "'''2.Create a program that takes a sentence from the user and counts the number of vowels\n",
    "(a,e,i,o,u) in the string. vowels = v, string = s'''\n",
    "sentence = \"I am counting the number of vowels in the given sentence\"\n",
    "def count_vowels(sentence):\n",
    "    vowels = 'aeiou'\n",
    "    count = 0"
   ]
  },
  {
   "cell_type": "code",
   "execution_count": 16,
   "id": "e56988d3-a393-4bb2-8c3f-6bc47c1a724f",
   "metadata": {},
   "outputs": [
    {
     "name": "stdin",
     "output_type": "stream",
     "text": [
      "enter a string:  Python is a case sensitive language\n"
     ]
    }
   ],
   "source": [
    "input_string = input(\"enter a string: \")"
   ]
  },
  {
   "cell_type": "code",
   "execution_count": 17,
   "id": "7d98355d-303e-4672-a3f7-e0bd387ba464",
   "metadata": {},
   "outputs": [],
   "source": [
    "input_string = input_string.casefold()"
   ]
  },
  {
   "cell_type": "code",
   "execution_count": 18,
   "id": "ad59024a-b552-46ce-ae68-92ac542a4d68",
   "metadata": {},
   "outputs": [],
   "source": [
    "vowels = \"aeiou\""
   ]
  },
  {
   "cell_type": "code",
   "execution_count": 19,
   "id": "a3d48d0c-af9f-48e5-877e-775f92bc1ee0",
   "metadata": {},
   "outputs": [],
   "source": [
    "vowelsdata = {}.fromkeys(vowels, 0)"
   ]
  },
  {
   "cell_type": "code",
   "execution_count": 20,
   "id": "859457d6-797b-4ab0-a93b-ca8bee6adeca",
   "metadata": {},
   "outputs": [],
   "source": [
    "for character in input_string:\n",
    "    if character in vowels:\n",
    "        vowelsdata[character] +=1"
   ]
  },
  {
   "cell_type": "code",
   "execution_count": 24,
   "id": "6bf56d20-d1dd-4a47-8d1e-87f66b6615b9",
   "metadata": {},
   "outputs": [
    {
     "name": "stdout",
     "output_type": "stream",
     "text": [
      "a = 4\n",
      "e = 4\n",
      "i = 3\n",
      "o = 1\n",
      "u = 1\n"
     ]
    }
   ],
   "source": [
    "for vowel in vowelsdata:\n",
    "    print(vowel, \"=\", vowelsdata[vowel])"
   ]
  },
  {
   "cell_type": "code",
   "execution_count": 1,
   "id": "93928893-f154-4dd2-8a9a-a248d0de1ba6",
   "metadata": {},
   "outputs": [],
   "source": [
    "'''3.Given a string, reverse the order of character using string slicing and print the reverse string.\n",
    "let the string be s which we have to reverse using string slicing for that we have multiple ways like:-'''\n",
    "s = \"Physicswallah\""
   ]
  },
  {
   "cell_type": "code",
   "execution_count": 2,
   "id": "2d6ef260-ef91-40f3-8752-4faa1d374cb8",
   "metadata": {},
   "outputs": [
    {
     "data": {
      "text/plain": [
       "str"
      ]
     },
     "execution_count": 2,
     "metadata": {},
     "output_type": "execute_result"
    }
   ],
   "source": [
    "type(s)"
   ]
  },
  {
   "cell_type": "code",
   "execution_count": 6,
   "id": "19ef46b1-418b-4bd4-b16b-e44054a43e20",
   "metadata": {},
   "outputs": [
    {
     "data": {
      "text/plain": [
       "'hallawscisyhP'"
      ]
     },
     "execution_count": 6,
     "metadata": {},
     "output_type": "execute_result"
    }
   ],
   "source": [
    "s[12::-1]"
   ]
  },
  {
   "cell_type": "code",
   "execution_count": 7,
   "id": "eafc357b-6939-4531-93cc-ba52288f2714",
   "metadata": {},
   "outputs": [
    {
     "data": {
      "text/plain": [
       "'hallawscisyhP'"
      ]
     },
     "execution_count": 7,
     "metadata": {},
     "output_type": "execute_result"
    }
   ],
   "source": [
    "#Or in other way:-\n",
    "s[::-1]"
   ]
  },
  {
   "cell_type": "code",
   "execution_count": 28,
   "id": "a989d97d-76c4-463a-856e-4f22003cc627",
   "metadata": {},
   "outputs": [],
   "source": [
    "'''4.write a program that takes a string as input and checks if it is a palindrome.\n",
    "(reads the same forward and backwards)'''\n",
    "def ispalindrome(string):\n",
    "    if (string == string[::-1]):\n",
    "        return \"the string is a palindrome.\"\n",
    "    else:\n",
    "        return \"the string is not a palindrome.\""
   ]
  },
  {
   "cell_type": "code",
   "execution_count": 29,
   "id": "8ef89471-fef4-4843-a1d5-a27975155feb",
   "metadata": {},
   "outputs": [
    {
     "name": "stdin",
     "output_type": "stream",
     "text": [
      " sit on a potato pan otis\n"
     ]
    }
   ],
   "source": [
    "#first one check:-\n",
    "string = input()"
   ]
  },
  {
   "cell_type": "code",
   "execution_count": 30,
   "id": "c529cc5d-8055-4316-a91c-551690592c87",
   "metadata": {},
   "outputs": [
    {
     "name": "stdout",
     "output_type": "stream",
     "text": [
      "the string is not a palindrome.\n"
     ]
    }
   ],
   "source": [
    "print(ispalindrome(string))"
   ]
  },
  {
   "cell_type": "code",
   "execution_count": 31,
   "id": "e7acc804-0499-4a9f-8ad8-0bc23d525946",
   "metadata": {},
   "outputs": [
    {
     "name": "stdin",
     "output_type": "stream",
     "text": [
      " 12022021\n"
     ]
    }
   ],
   "source": [
    "#second one check:-\n",
    "string = input()"
   ]
  },
  {
   "cell_type": "code",
   "execution_count": 32,
   "id": "5df09f91-1c55-4c5c-bc73-ebee40f04b5b",
   "metadata": {},
   "outputs": [
    {
     "name": "stdout",
     "output_type": "stream",
     "text": [
      "the string is a palindrome.\n"
     ]
    }
   ],
   "source": [
    "print(ispalindrome(string))"
   ]
  },
  {
   "cell_type": "code",
   "execution_count": 34,
   "id": "7eaae75a-7257-4b8e-8a1a-77ddb122b08a",
   "metadata": {},
   "outputs": [],
   "source": [
    "'''5.Create a program that takes a string as input and removes all the spaces from it.\n",
    "Print the modified string without spaces.'''\n",
    "#Consider a string s of which all the spaces has to be removed:-\n",
    "s = 'print the modified string without spaces'"
   ]
  },
  {
   "cell_type": "code",
   "execution_count": 35,
   "id": "778bae10-bf8a-4d53-8b60-be45aba70700",
   "metadata": {},
   "outputs": [
    {
     "data": {
      "text/plain": [
       "'printthemodifiedstringwithoutspaces'"
      ]
     },
     "execution_count": 35,
     "metadata": {},
     "output_type": "execute_result"
    }
   ],
   "source": [
    "#use a replace funtion to remove all the spaces:-\n",
    "s.replace(' ','')"
   ]
  },
  {
   "cell_type": "code",
   "execution_count": 36,
   "id": "c52650ff-bd18-4f11-ba17-d617594c5c38",
   "metadata": {},
   "outputs": [],
   "source": [
    "#In more details:-\n",
    "s1 = \"my name is govind kumar\""
   ]
  },
  {
   "cell_type": "code",
   "execution_count": 37,
   "id": "816fbf0b-c2a9-4c9a-8550-79469d79dabd",
   "metadata": {},
   "outputs": [],
   "source": [
    "s1 = s1.replace(\" \",\"\")"
   ]
  },
  {
   "cell_type": "code",
   "execution_count": 38,
   "id": "fde69462-eb9c-49d5-9637-fbb51ad1003d",
   "metadata": {},
   "outputs": [
    {
     "data": {
      "text/plain": [
       "'mynameisgovindkumar'"
      ]
     },
     "execution_count": 38,
     "metadata": {},
     "output_type": "execute_result"
    }
   ],
   "source": [
    "s1"
   ]
  },
  {
   "cell_type": "code",
   "execution_count": null,
   "id": "3df6fd42-dc04-45a8-805f-152627f6f4b7",
   "metadata": {},
   "outputs": [],
   "source": [
    "#Assignment 1 (19 august 2023) basic python variable"
   ]
  }
 ],
 "metadata": {
  "kernelspec": {
   "display_name": "Python 3 (ipykernel)",
   "language": "python",
   "name": "python3"
  },
  "language_info": {
   "codemirror_mode": {
    "name": "ipython",
    "version": 3
   },
   "file_extension": ".py",
   "mimetype": "text/x-python",
   "name": "python",
   "nbconvert_exporter": "python",
   "pygments_lexer": "ipython3",
   "version": "3.10.8"
  }
 },
 "nbformat": 4,
 "nbformat_minor": 5
}
