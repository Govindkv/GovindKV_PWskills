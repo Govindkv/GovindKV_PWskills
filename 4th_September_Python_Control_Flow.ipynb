{
 "cells": [
  {
   "cell_type": "code",
   "execution_count": 1,
   "id": "4a418b73-54ce-4756-907e-01029633d372",
   "metadata": {},
   "outputs": [
    {
     "data": {
      "text/plain": [
       "'\\nAssignment 4.Control Flow\\n4th_September_Python_Control_Flow\\n'"
      ]
     },
     "execution_count": 1,
     "metadata": {},
     "output_type": "execute_result"
    }
   ],
   "source": [
    "'''\n",
    "Assignment 4.Control Flow\n",
    "4th_September_Python_Control_Flow\n",
    "'''"
   ]
  },
  {
   "cell_type": "code",
   "execution_count": 6,
   "id": "51d8422c-7daa-4ea7-a529-6ecbe3cce2cd",
   "metadata": {},
   "outputs": [
    {
     "name": "stdin",
     "output_type": "stream",
     "text": [
      "Enter the number:- 0\n"
     ]
    },
    {
     "name": "stdout",
     "output_type": "stream",
     "text": [
      "Number is non-negative\n"
     ]
    }
   ],
   "source": [
    "'''Basic If-Else Statements:'''\n",
    "#1.Write a Python program to check if a given number is positive or negative.\n",
    "input_number = int(input(\"Enter the number:-\"))\n",
    "if input_number < 0:\n",
    "    print(\"Number is negative\")\n",
    "elif input_number == 0:\n",
    "    print(\"Number is non-negative\")\n",
    "else:\n",
    "    print(\"Number is positive\")"
   ]
  },
  {
   "cell_type": "code",
   "execution_count": 2,
   "id": "edfce9d3-8d34-4de5-b893-3ed18a19ba2c",
   "metadata": {},
   "outputs": [
    {
     "name": "stdin",
     "output_type": "stream",
     "text": [
      "Enter the age:- 18\n"
     ]
    },
    {
     "name": "stdout",
     "output_type": "stream",
     "text": [
      "Person is eligible to vote\n"
     ]
    }
   ],
   "source": [
    "#2.Create a program that determines if a person is eligible to vote based on their age.\n",
    "input_age = int(input(\"Enter the age:-\"))\n",
    "if input_age < 18:\n",
    "    print(\"Person is not eligible to vote\")\n",
    "\n",
    "else:\n",
    "    print(\"Person is eligible to vote\")"
   ]
  },
  {
   "cell_type": "code",
   "execution_count": 7,
   "id": "fb7949aa-865e-4be4-91c5-01bb0d7dfe41",
   "metadata": {},
   "outputs": [
    {
     "name": "stdout",
     "output_type": "stream",
     "text": [
      "greatherof both is:- 5\n"
     ]
    }
   ],
   "source": [
    "#3.Develop a program to find the maximum of two numbers using if-else statements.\n",
    "def greater_of(a,b):\n",
    "    if a > b:\n",
    "        return a\n",
    "    else:\n",
    "        return b\n",
    "print(\"greatherof both is:-\", greater_of(3,5))"
   ]
  },
  {
   "cell_type": "code",
   "execution_count": 11,
   "id": "e9e2d54e-a2da-4c16-bd4d-1236c5853f54",
   "metadata": {},
   "outputs": [
    {
     "name": "stdin",
     "output_type": "stream",
     "text": [
      "Enter the year:- 1900\n"
     ]
    },
    {
     "name": "stdout",
     "output_type": "stream",
     "text": [
      "Year is not leap year\n"
     ]
    }
   ],
   "source": [
    "#4.Write a Python script to classify a given year as a leap year or not.\n",
    "def is_leap_year(year):\n",
    "    if (year%4 == 0 and year%100 != 0) or (year%400 == 0):\n",
    "        print(\"Year is leap year\")\n",
    "    else:\n",
    "        print(\"Year is not leap year\")\n",
    "is_leap_year(int(input(\"Enter the year:-\")))"
   ]
  },
  {
   "cell_type": "code",
   "execution_count": 23,
   "id": "34d4b384-125c-42e6-8217-9452a7b35e64",
   "metadata": {},
   "outputs": [
    {
     "name": "stdin",
     "output_type": "stream",
     "text": [
      "enter the character:- P\n"
     ]
    },
    {
     "name": "stdout",
     "output_type": "stream",
     "text": [
      "Input character is Consonant\n"
     ]
    }
   ],
   "source": [
    "#5.Create a program that checks whether a character is a vowel or a consonant.\n",
    "input_character = input(\"enter the character:-\")\n",
    "vowel = \"aeiou\"\n",
    "for char_lower in input_character:\n",
    "    char_lower = input_character.lower()\n",
    "\n",
    "if char_lower in vowel:\n",
    "    print(\"Input character is Vowel\")\n",
    "else:\n",
    "    print(\"Input character is Consonant\")"
   ]
  },
  {
   "cell_type": "code",
   "execution_count": 24,
   "id": "4158ddb3-ae8c-4612-9485-e86365f3f46e",
   "metadata": {},
   "outputs": [
    {
     "name": "stdin",
     "output_type": "stream",
     "text": [
      "Enter the number:- 23\n"
     ]
    },
    {
     "name": "stdout",
     "output_type": "stream",
     "text": [
      "Given number is odd\n"
     ]
    }
   ],
   "source": [
    "#6.Implement a program to determine whether a given number is even or odd.\n",
    "input_number = int(input(\"Enter the number:-\"))\n",
    "if input_number%2 == 0:\n",
    "    print(\"Given number is even\")\n",
    "else:\n",
    "    print(\"Given number is odd\")"
   ]
  },
  {
   "cell_type": "code",
   "execution_count": 39,
   "id": "b61ee489-317b-449c-87e8-4abb831cc07b",
   "metadata": {},
   "outputs": [
    {
     "data": {
      "text/plain": [
       "5"
      ]
     },
     "execution_count": 39,
     "metadata": {},
     "output_type": "execute_result"
    }
   ],
   "source": [
    "#7.Write a Python function to calculate the absolute value of a number without using the `abs()` function.\n",
    "def absolute(x):\n",
    "    if x >= 0:\n",
    "        return x\n",
    "    else:\n",
    "        return -x\n",
    "absolute(-5)"
   ]
  },
  {
   "cell_type": "code",
   "execution_count": 69,
   "id": "c0456829-1d31-4a52-b5e2-7f543b012945",
   "metadata": {},
   "outputs": [
    {
     "name": "stdout",
     "output_type": "stream",
     "text": [
      "Largest of 3 numbers is:- 5\n"
     ]
    }
   ],
   "source": [
    "#8.Develop a program that determines the largest of three given numbers using if-else statements.\n",
    "def find_larger(a,b,c):\n",
    "    if a>=b and b>=c and a>=c:\n",
    "        return a\n",
    "    elif a<=b and b<=c and a<=c:\n",
    "        return c\n",
    "    elif a>=b and b<=c:\n",
    "        return a\n",
    "    else:\n",
    "        return b\n",
    "print(\"Largest of 3 numbers is:-\", find_larger(5,4,5))"
   ]
  },
  {
   "cell_type": "code",
   "execution_count": 71,
   "id": "8ddbf079-7101-4953-b0fb-802c2225d867",
   "metadata": {},
   "outputs": [
    {
     "name": "stdin",
     "output_type": "stream",
     "text": [
      "Enter the string:- 121\n"
     ]
    },
    {
     "name": "stdout",
     "output_type": "stream",
     "text": [
      "Given string is palindromic\n"
     ]
    }
   ],
   "source": [
    "#9.Create a program that checks if a given string is a palindrome.\n",
    "string = input(\"Enter the string:-\")\n",
    "if string == string[::-1]:\n",
    "    print(\"Given string is palindromic\")\n",
    "else:\n",
    "    print(\"Given string is not palindromic\")"
   ]
  },
  {
   "cell_type": "code",
   "execution_count": 73,
   "id": "c406ff4b-be18-4994-97be-055685ae99a4",
   "metadata": {},
   "outputs": [
    {
     "name": "stdin",
     "output_type": "stream",
     "text": [
      "Enter the percentage:- 90\n"
     ]
    },
    {
     "name": "stdout",
     "output_type": "stream",
     "text": [
      "Grade is A+\n"
     ]
    }
   ],
   "source": [
    "#10.Write a Python program to calculate the grade based on a student's score.\n",
    "def grading_system(n):\n",
    "    if n >= 90:\n",
    "        print(\"Grade is A+\")\n",
    "    elif 80<=n<90:\n",
    "        print(\"Grade is A\")\n",
    "    elif 60<=n<80:\n",
    "        print(\"Grade is B\")\n",
    "    elif 45<=n<60:\n",
    "        print(\"Grade is C\")\n",
    "    elif 35<=n<45:\n",
    "        print(\"Grade is D\")\n",
    "    else:\n",
    "        print(\"Grade is E\")\n",
    "n = int(input(\"Enter the percentage:-\"))\n",
    "grading_system(n)        "
   ]
  },
  {
   "cell_type": "code",
   "execution_count": 12,
   "id": "d781fed4-c79d-4caf-be42-ff61e92c47b2",
   "metadata": {},
   "outputs": [
    {
     "name": "stdin",
     "output_type": "stream",
     "text": [
      "n1:- 6\n",
      "n2:- 5\n",
      "n3:- 3\n"
     ]
    },
    {
     "name": "stdout",
     "output_type": "stream",
     "text": [
      "The largest number is:- 6\n"
     ]
    }
   ],
   "source": [
    "\"Nested If-Else Statements:\"\n",
    "#11.Write a program to find the largest among three numbers using nested if-else statements.\n",
    "n1, n2, n3 = int(input(\"n1:-\")), int(input(\"n2:-\")), int(input(\"n3:-\"))\n",
    "if n1 <= n2:\n",
    "    if n2 <= n3:\n",
    "        largest = n3\n",
    "    else:\n",
    "        largest = n2\n",
    "else:\n",
    "    if n1 <= n3:\n",
    "        largest = n2\n",
    "    else:\n",
    "        largest = n1\n",
    "print(\"The largest number is:-\",largest)    \n",
    "    "
   ]
  },
  {
   "cell_type": "code",
   "execution_count": 23,
   "id": "c5d84150-7456-453d-957e-f490ca8bd61b",
   "metadata": {},
   "outputs": [
    {
     "name": "stdin",
     "output_type": "stream",
     "text": [
      "Side a:- 1\n",
      "Side b:- 5\n",
      "Side c:- 9\n"
     ]
    },
    {
     "name": "stdout",
     "output_type": "stream",
     "text": [
      "Given lengths are not suitable to form a traiangle\n"
     ]
    }
   ],
   "source": [
    "#12.Implement a program to determine if a triangle is equilateral, isosceles, or scalene.\n",
    "def check_triangle(a,b,c):\n",
    "    if a < b+c and b < a+c and c < a+b:\n",
    "        if a == b == c :\n",
    "            print(\"Triangle is equilateral\")\n",
    "        elif a==b!=c or a==c!=b or b == c !=a:\n",
    "            print(\"Triangle is isosceles\")\n",
    "        else:\n",
    "            print(\"Triangle is scalene\")\n",
    "    else:\n",
    "        print(\"Given lengths are not suitable to form a traiangle\")\n",
    "a = int(input(\"Side a:-\"))\n",
    "b = int(input(\"Side b:-\"))\n",
    "c = int(input(\"Side c:-\"))\n",
    "check_triangle(a,b,c)"
   ]
  },
  {
   "cell_type": "code",
   "execution_count": 27,
   "id": "799e3243-3e11-4727-8074-81e2971199a7",
   "metadata": {},
   "outputs": [
    {
     "name": "stdin",
     "output_type": "stream",
     "text": [
      "Enter the year to check:- 1900\n"
     ]
    },
    {
     "name": "stdout",
     "output_type": "stream",
     "text": [
      "This is not a leap year\n"
     ]
    }
   ],
   "source": [
    "#13.Develop a program that checks if a year is a leap year and also if it is a century year.\n",
    "def check_leapyear(year):\n",
    "    if year%4 == 0:\n",
    "        if year%100 != 0 or year%400 == 0:\n",
    "            print(\"This is a leap year\")\n",
    "        else:\n",
    "            print(\"This is not a leap year\")\n",
    "    else:\n",
    "        print(\"This isn't a leap year\")\n",
    "year = int(input(\"Enter the year to check:-\"))\n",
    "check_leapyear(year)"
   ]
  },
  {
   "cell_type": "code",
   "execution_count": 1,
   "id": "b5b6875d-0b3d-487e-9030-df12e44d95fe",
   "metadata": {},
   "outputs": [
    {
     "name": "stdin",
     "output_type": "stream",
     "text": [
      "Enter the number to check:- 0\n"
     ]
    },
    {
     "name": "stdout",
     "output_type": "stream",
     "text": [
      "Number is zero\n"
     ]
    }
   ],
   "source": [
    "#14.Write a Python script to determine if a number is positive, negative, or zero.\n",
    "def check_nature(x):\n",
    "    if x>=0:\n",
    "        if x>0:\n",
    "            print(\"Number is positive\")\n",
    "        else:\n",
    "            print(\"Number is zero\")\n",
    "    else:\n",
    "        print(\"Number is negative\")\n",
    "x = int(input(\"Enter the number to check:-\"))\n",
    "check_nature(x)"
   ]
  },
  {
   "cell_type": "code",
   "execution_count": 4,
   "id": "cf69b4c9-d3dc-4e4b-b6e3-b4530b3fea95",
   "metadata": {},
   "outputs": [
    {
     "name": "stdin",
     "output_type": "stream",
     "text": [
      "Enter the age:- 14\n"
     ]
    },
    {
     "name": "stdout",
     "output_type": "stream",
     "text": [
      "Pesron is teenager\n"
     ]
    }
   ],
   "source": [
    "#15.Create a program to check if a person is a teenager (between 13 and 19 years old).\n",
    "def age_func(age):\n",
    "    if age <19:\n",
    "        if age<13:\n",
    "            print(\"pesron is child\")\n",
    "        else:\n",
    "            print(\"Pesron is teenager\")\n",
    "    else:\n",
    "        print(\"Person is adult\")\n",
    "age = int(input(\"Enter the age:-\"))\n",
    "age_func(age)"
   ]
  },
  {
   "cell_type": "code",
   "execution_count": 5,
   "id": "7e187519-1352-4a0b-886d-136c2ffe23bf",
   "metadata": {},
   "outputs": [
    {
     "name": "stdin",
     "output_type": "stream",
     "text": [
      "Enter the measure of angle:- 89\n"
     ]
    },
    {
     "name": "stdout",
     "output_type": "stream",
     "text": [
      "Angle is acute\n"
     ]
    }
   ],
   "source": [
    "#16.Develop a program that determines the type of angle based on its measure (acute, obtuse, or right).\n",
    "def type_angle(x):\n",
    "    if 0<x<180:\n",
    "        if x<90:\n",
    "            print(\"Angle is acute\")\n",
    "        elif x == 90:\n",
    "            print(\"Angle is Right\")\n",
    "        else:\n",
    "            print(\"Angle is Obtuse\")\n",
    "    else:\n",
    "        print(\"Given measurement is invalid\")\n",
    "x = int(input(\"Enter the measure of angle:-\"))\n",
    "type_angle(x)"
   ]
  },
  {
   "cell_type": "code",
   "execution_count": 9,
   "id": "68414b59-8b12-4766-ad1d-3304aac3f7cf",
   "metadata": {},
   "outputs": [
    {
     "name": "stdin",
     "output_type": "stream",
     "text": [
      "Enter the coefficient of x^2:  2\n",
      "Enter the coefficient of x:  4\n",
      "Enter the constant term:  8\n"
     ]
    },
    {
     "name": "stdout",
     "output_type": "stream",
     "text": [
      "Roots are complex as D is negative\n"
     ]
    }
   ],
   "source": [
    "#17.Write a Python program to calculate the roots of a quadratic equation.\n",
    "'''With basic if-else:-'''\n",
    "a = float(input(\"Enter the coefficient of x^2: \"))\n",
    "b = float(input(\"Enter the coefficient of x: \"))\n",
    "c = float(input(\"Enter the constant term: \"))\n",
    "\n",
    "#Calculate the dischriminant:-\n",
    "d = (b**2)-(4*a*c)\n",
    "\n",
    "#Find two roots:-\n",
    "if d>=0:\n",
    "    root1 = float(((-b) + (d**0.5))/(2*a))\n",
    "    root2 = float(((-b) - (d**0.5))/(2*a))\n",
    "    print(\"The roots are {0} and {1}\".format(root1,root2))\n",
    "else:\n",
    "    print(\"Roots are complex as D is negative\")"
   ]
  },
  {
   "cell_type": "code",
   "execution_count": 10,
   "id": "e7871931-3704-4acb-ad47-44106b251262",
   "metadata": {},
   "outputs": [
    {
     "name": "stdin",
     "output_type": "stream",
     "text": [
      "Enter the coefficient of x^2:  2\n",
      "Enter the coefficient of x:  4\n",
      "Enter the constant term:  8\n"
     ]
    },
    {
     "name": "stdout",
     "output_type": "stream",
     "text": [
      "The roots are: (-1+12j) and (-1-12j)\n"
     ]
    }
   ],
   "source": [
    "#With nested if-else statement:-\n",
    "a = float(input(\"Enter the coefficient of x^2: \"))\n",
    "b = float(input(\"Enter the coefficient of x: \"))\n",
    "c = float(input(\"Enter the constant term: \"))\n",
    "\n",
    "#Discriminant\n",
    "d = (b**2) - (4*a*c)\n",
    "\n",
    "if d >= 0:\n",
    "    if d > 0:\n",
    "        #Real and distinct roots\n",
    "        root1 = (-b - (d**0.5)) / (2*a)\n",
    "        root2 = (-b + (d**0.5)) / (2*a)\n",
    "        print(\"The roots are: {0} and {1}\".format(root1, root2))\n",
    "    else:\n",
    "        #Real and identical roots\n",
    "        root = -b / (2*a)\n",
    "        print(\"The root is: {0}\".format(root))\n",
    "else:\n",
    "    #Two complex roots\n",
    "    real_part = -b / (2*a)\n",
    "    imaginary_part = (-d) / (2*a)\n",
    "    root1 = complex(real_part, imaginary_part)\n",
    "    root2 = complex(real_part, -imaginary_part)\n",
    "    print(\"The roots are: {0} and {1}\".format(root1, root2))"
   ]
  },
  {
   "cell_type": "code",
   "execution_count": 11,
   "id": "c7bcb5c8-c30b-4592-b5e2-96ef140dbd3d",
   "metadata": {},
   "outputs": [
    {
     "name": "stdin",
     "output_type": "stream",
     "text": [
      "Enter the day number:- 8\n"
     ]
    },
    {
     "name": "stdout",
     "output_type": "stream",
     "text": [
      "The day of the week is: Invalid day number\n"
     ]
    }
   ],
   "source": [
    "#18.Implement a program to determine the day of the week based on a user-provided number(1 for Monday,2 for Tuesday,etc.)\n",
    "day_number = int(input(\"Enter the day number:-\"))\n",
    "\n",
    "if day_number == 1:\n",
    "    day_of_week = \"Monday\"\n",
    "else:\n",
    "    if day_number == 2:\n",
    "        day_of_week = \"Tuesday\"\n",
    "    else:\n",
    "        if day_number == 3:\n",
    "            day_of_week = \"Wednesday\"\n",
    "        else:\n",
    "            if day_number == 4:\n",
    "                day_of_week = \"Thursday\"\n",
    "            else:\n",
    "                if day_number == 5:\n",
    "                    day_of_week = \"Friday\"\n",
    "                else:\n",
    "                    if day_number == 6:\n",
    "                        day_of_week = \"Saturday\"\n",
    "                    else:\n",
    "                        if day_number == 7:\n",
    "                            day_of_week = \"Sunday\"\n",
    "                        else:\n",
    "                            day_of_week = \"Invalid day number\"\n",
    "\n",
    "print(\"The day of the week is:\", day_of_week)"
   ]
  },
  {
   "cell_type": "code",
   "execution_count": 14,
   "id": "1b542b6f-2c30-4159-8fe3-65c675370512",
   "metadata": {},
   "outputs": [
    {
     "name": "stdin",
     "output_type": "stream",
     "text": [
      "Enter the year:- 1996\n"
     ]
    },
    {
     "name": "stdout",
     "output_type": "stream",
     "text": [
      "Given year is a leap Year but not evenly divisible by 400\n"
     ]
    }
   ],
   "source": [
    "#19.Create a program that determines if a year is a leap year and also if it is evenly divisible by 400.\n",
    "def Check_year(x):\n",
    "    if x%100 == 0:\n",
    "        if x%400 != 0:\n",
    "            print(\"Given year is not a leap Year\")\n",
    "        else:\n",
    "            print(\"Given year is a leap year also evenly divisible by 400\")\n",
    "    else:\n",
    "        if x%4 == 0:\n",
    "            print(\"Given year is a leap Year but not evenly divisible by 400\")\n",
    "        else:\n",
    "            print(\"Given year is not a leap year\")\n",
    "x = int(input(\"Enter the year:-\"))\n",
    "Check_year(x)"
   ]
  },
  {
   "cell_type": "code",
   "execution_count": 16,
   "id": "eb89ad55-eeec-4dfd-81c2-f527e45ac7cd",
   "metadata": {},
   "outputs": [
    {
     "name": "stdin",
     "output_type": "stream",
     "text": [
      "Enter the value for n:- 47\n"
     ]
    },
    {
     "name": "stdout",
     "output_type": "stream",
     "text": [
      "Number is prime\n"
     ]
    }
   ],
   "source": [
    "#20.Develop a program that checks if a given number is prime or not using nested if-else statements.\n",
    "n = int(input(\"Enter the value for n:-\"))\n",
    "if n > 1:\n",
    "    if n == 2:\n",
    "        print(\"Number is prime\")\n",
    "    else:\n",
    "        for i in range(2,n):\n",
    "            if (n%i) == 0:\n",
    "                print(\"Number is not prime\")\n",
    "                break\n",
    "        else:\n",
    "            print(\"Number is prime\")\n",
    "else:\n",
    "    print(\"Number is not prime\")"
   ]
  },
  {
   "cell_type": "code",
   "execution_count": null,
   "id": "e78bbb1b-073f-4996-8df1-ede84c3274d0",
   "metadata": {},
   "outputs": [],
   "source": [
    "'''Elif Statement'''\n",
    "#21.Write a Python program to assign grades based on different ranges of scores using elif statements.\n",
    "def grading_system(n):\n",
    "    if n >= 90:\n",
    "        print(\"Grade is A+\")\n",
    "    elif 80<=n<90:\n",
    "        print(\"Grade is A\")\n",
    "    elif 60<=n<80:\n",
    "        print(\"Grade is B\")\n",
    "    elif 45<=n<60:\n",
    "        print(\"Grade is C\")\n",
    "    elif 35<=n<45:\n",
    "        print(\"Grade is D\")\n",
    "    else:\n",
    "        print(\"Grade is E\")\n",
    "n = int(input(\"Enter the percentage:-\"))\n",
    "grading_system(n)        "
   ]
  },
  {
   "cell_type": "code",
   "execution_count": 25,
   "id": "c1676683-8c72-4804-9c09-b5613bf3ac91",
   "metadata": {},
   "outputs": [
    {
     "name": "stdin",
     "output_type": "stream",
     "text": [
      "Enter the angle A:- 23\n",
      "Enter the angle B:- 70\n",
      "Enter the angle C:- 87\n"
     ]
    },
    {
     "name": "stdout",
     "output_type": "stream",
     "text": [
      "Triangle is Acute angled\n"
     ]
    }
   ],
   "source": [
    "#22.Implement a program to determine the type of a triangle based on its angles.\n",
    "def triangle_type(a,b,c):\n",
    "    if a+b+c == 180:\n",
    "        if a<90 and b<90 and c<90:\n",
    "            print(\"Triangle is Acute angled\")\n",
    "        elif a>90 or b>90 or c>90:\n",
    "            print(\"Triangle is Obtuse angled\")\n",
    "        else:\n",
    "            print(\"Triangl is Right angled\")\n",
    "    else:\n",
    "        print(\"Triangle is not possible with given velues\")\n",
    "a = int(input(\"Enter the angle A:-\"))\n",
    "b = int(input(\"Enter the angle B:-\"))\n",
    "c = int(input(\"Enter the angle C:-\"))\n",
    "triangle_type(a,b,c)"
   ]
  },
  {
   "cell_type": "code",
   "execution_count": 34,
   "id": "63271bea-da9d-4019-a861-e34e2ec81ccd",
   "metadata": {},
   "outputs": [
    {
     "name": "stdin",
     "output_type": "stream",
     "text": [
      "Enter person's BMI:- 80\n"
     ]
    },
    {
     "name": "stdout",
     "output_type": "stream",
     "text": [
      "Person is severely obese\n"
     ]
    }
   ],
   "source": [
    "#23.Develop a program to categorize a given person's BMI into underweight, normal, overweight, or obese.\n",
    "BMI = int(input(\"Enter person's BMI:-\")) #Body Mass Index\n",
    "if 0 < BMI < 18.5:\n",
    "    print(\"Person is Underweight\")\n",
    "elif 18.5 < BMI < 24.9:\n",
    "    print(\"Person is Normal\")\n",
    "elif 24.9 < BMI < 29.9:\n",
    "    print(\"Person is Overerweight\")\n",
    "elif 29.9 < BMI < 39.9:\n",
    "    print(\"Person is Obese\")\n",
    "elif BMI > 40:\n",
    "    print(\"Person is severely obese\")\n",
    "else:\n",
    "    print(\"Please Enter the correct input\")"
   ]
  },
  {
   "cell_type": "code",
   "execution_count": 35,
   "id": "7d0f3dae-0af5-490f-9326-6f726cf9753d",
   "metadata": {},
   "outputs": [
    {
     "name": "stdin",
     "output_type": "stream",
     "text": [
      "Enter the number:- 8\n"
     ]
    },
    {
     "name": "stdout",
     "output_type": "stream",
     "text": [
      "Number is positive\n"
     ]
    }
   ],
   "source": [
    "#24.Create a program that determines whether a given number is positive, negative, or zero using elif statements.\n",
    "input_number = int(input(\"Enter the number:-\"))\n",
    "if input_number < 0:\n",
    "    print(\"Number is negative\")\n",
    "elif input_number == 0:\n",
    "    print(\"Number is non-negative\")\n",
    "else:\n",
    "    print(\"Number is positive\")"
   ]
  },
  {
   "cell_type": "code",
   "execution_count": 38,
   "id": "c1060f8e-84d5-46a4-aaba-e9e889cf531b",
   "metadata": {},
   "outputs": [
    {
     "name": "stdin",
     "output_type": "stream",
     "text": [
      "Enter a character:  7\n"
     ]
    },
    {
     "name": "stdout",
     "output_type": "stream",
     "text": [
      "The character is special.\n"
     ]
    }
   ],
   "source": [
    "#25.Write a Python script to determine the type of a character (uppercase, lowercase, or special) using elif statements.\n",
    "character = input(\"Enter a character: \")\n",
    "\n",
    "if character.isupper():\n",
    "    print(\"The character is Uppercase.\")\n",
    "elif character.islower():\n",
    "    print(\"The character is Lowercase.\")\n",
    "else:\n",
    "    print(\"The character is special.\")"
   ]
  },
  {
   "cell_type": "code",
   "execution_count": 2,
   "id": "b4d12e6c-8c4c-4b9d-97ea-a13e2d4e61f5",
   "metadata": {},
   "outputs": [
    {
     "name": "stdin",
     "output_type": "stream",
     "text": [
      "Enter the purchase amount:- 600\n"
     ]
    },
    {
     "name": "stdout",
     "output_type": "stream",
     "text": [
      "Discounted price: ₹ 540.0\n"
     ]
    }
   ],
   "source": [
    "#26.Implement a program to calculate the discounted price based on different purchase amounts using elif statements.\n",
    "purchase_amount = float(input(\"Enter the purchase amount:-\")) #Marked price\n",
    "\n",
    "if purchase_amount>=1000:\n",
    "    discount = purchase_amount*0.2\n",
    "    discounted_price = purchase_amount-discount\n",
    "elif purchase_amount>=500:\n",
    "    discount = purchase_amount*0.1\n",
    "    discounted_price = purchase_amount-discount\n",
    "else:\n",
    "    discounted_price = purchase_amount\n",
    "\n",
    "print(\"Discounted price: ₹\", discounted_price)"
   ]
  },
  {
   "cell_type": "code",
   "execution_count": 6,
   "id": "53a27870-89f4-4985-a774-8abec849e108",
   "metadata": {},
   "outputs": [
    {
     "name": "stdin",
     "output_type": "stream",
     "text": [
      "Enter the units:- 400\n"
     ]
    },
    {
     "name": "stdout",
     "output_type": "stream",
     "text": [
      "Bill amount is: ₹ 600.0\n"
     ]
    }
   ],
   "source": [
    "#27.Develop a program to calculate the electricity bill based on different consumption slabs using elif statements.\n",
    "def elect_bill(u):\n",
    "    if u>=100:\n",
    "        bill_amount = u*1.5\n",
    "        print(\"Bill amount is: ₹\", bill_amount)\n",
    "    elif u>=200:\n",
    "        bill_amount = 100*1.5+(u-100)*2.5\n",
    "        print(\"Bill amount is: ₹\", bill_amount)\n",
    "    elif u>=300:\n",
    "        bill_amount = 100*1.5+100*2.5+(u-200)*3.5\n",
    "        print(\"Bill amount is: ₹\", bill_amount)\n",
    "    else:\n",
    "        bill_amount = 100*1.5+100*2.5+100+3.5+(u-300)*4.5 \n",
    "        print(\"Bill amount is: ₹\", bill_amount)\n",
    "    \n",
    "u = int(input(\"Enter the units:-\"))\n",
    "elect_bill(u)"
   ]
  },
  {
   "cell_type": "code",
   "execution_count": 7,
   "id": "6752db60-12b7-4ad3-8a04-4fea94a4e5ce",
   "metadata": {},
   "outputs": [
    {
     "name": "stdin",
     "output_type": "stream",
     "text": [
      "Enter the angle A:- 70\n",
      "Enter the angle B:- 100\n",
      "Enter the angle C:- 110\n",
      "Enter the angle D:- 80\n",
      "Enter the side AB:- 20\n",
      "Enter the side BC:- 30\n",
      "Enter the side CD:- 40\n",
      "Enter the side DA:- 50\n"
     ]
    },
    {
     "name": "stdout",
     "output_type": "stream",
     "text": [
      "Quadrilateral is:- Trapezium\n"
     ]
    }
   ],
   "source": [
    "#28.Create a program to determine the type of quadrilateral based on its angles and sides using elif statements.\n",
    "'''To check the type of quadrilateral ABCD type:-'''\n",
    "def type_quad(A,B,C,D,AB,BC,CD,DA):\n",
    "    if A+B+C+D == 360:\n",
    "        if A==B==C==D==90:\n",
    "            if AB==BC==CD==DA:\n",
    "                print(\"Quadrilateral is:- Square\")\n",
    "            else:\n",
    "                print(\"Quadrilateral is:- Rectangle\")\n",
    "        else:\n",
    "            if A==C and B==D and A!=B:\n",
    "                if AB==CD and BC==DA and AB!=BC:\n",
    "                    print(\"Quadrilateral is:- Parallelogram\")\n",
    "                else:\n",
    "                    print(\"Quadrilateral is:- Rhombus\")\n",
    "            else:\n",
    "                if (A==C or B==D) and AB==BC and CD==DA:\n",
    "                    print(\"Quadrilateral is:- Kite\")\n",
    "                else:\n",
    "                    print(\"Quadrilateral is:- Trapezium\")\n",
    "    else:\n",
    "        print(\"Given information do not form any Quadrilateral, Please check the Data\")\n",
    "                    \n",
    "                    \n",
    "A = int(input(\"Enter the angle A:-\"))\n",
    "B = int(input(\"Enter the angle B:-\"))\n",
    "C = int(input(\"Enter the angle C:-\"))\n",
    "D = int(input(\"Enter the angle D:-\"))\n",
    "\n",
    "AB = int(input(\"Enter the side AB:-\"))\n",
    "BC = int(input(\"Enter the side BC:-\"))\n",
    "CD = int(input(\"Enter the side CD:-\")) \n",
    "DA = int(input(\"Enter the side DA:-\"))\n",
    "type_quad(A,B,C,D,AB,BC,CD,DA)"
   ]
  },
  {
   "cell_type": "code",
   "execution_count": 13,
   "id": "855a3a44-6356-47a1-be25-abfc2ff3e16c",
   "metadata": {},
   "outputs": [
    {
     "name": "stdin",
     "output_type": "stream",
     "text": [
      "Enter the month name:- January\n"
     ]
    },
    {
     "name": "stdout",
     "output_type": "stream",
     "text": [
      "season is Winter\n"
     ]
    }
   ],
   "source": [
    "#29.Write a Python script to determine the season based on a user-provided month using elif statements.\n",
    "l1 = [\"October\", \"November\", \"December\", \"January\", \"February\"]\n",
    "l2 = [\"March\", \"April\", \"May\", \"June\"]\n",
    "l3 = [\"July\", \"August\", \"September\"]\n",
    "def season(m):\n",
    "    if m in l1:\n",
    "        print(\"Season is Winter\")\n",
    "    elif m in l2:\n",
    "        print(\"Season is Summer\")\n",
    "    elif m in l3:\n",
    "        print(\"Season is Rainy\")\n",
    "    else:\n",
    "        return \"Invalid Season\"\n",
    "m = input(\"Enter the month name:-\").title()\n",
    "season(m)"
   ]
  },
  {
   "cell_type": "code",
   "execution_count": 15,
   "id": "d4a7a578-1e04-44a6-8505-647e267a1aa5",
   "metadata": {},
   "outputs": [
    {
     "name": "stdin",
     "output_type": "stream",
     "text": [
      "Enter the year:- 1856\n"
     ]
    },
    {
     "name": "stdout",
     "output_type": "stream",
     "text": [
      "Leap year\n"
     ]
    },
    {
     "name": "stdin",
     "output_type": "stream",
     "text": [
      "Enter the month number:- 5\n"
     ]
    },
    {
     "name": "stdout",
     "output_type": "stream",
     "text": [
      "31 days\n"
     ]
    }
   ],
   "source": [
    "#30.Implement a program to determine the type of a year (leap or common) and month (30 or 31 days) using elif statements.\n",
    "# Checking if it's a leap year\n",
    "def type_year(year):\n",
    "    if year % 4 == 0:\n",
    "        if year % 100 == 0:\n",
    "            if year % 400 == 0:\n",
    "                print(\"Leap year\")\n",
    "            else:\n",
    "                print(\"Common year\")\n",
    "        else:\n",
    "            print(\"Leap year\")\n",
    "    else:\n",
    "        print(\"Common year\")\n",
    "\n",
    "# Checking if it's a 30 or 31-day month\n",
    "def month_days(month):\n",
    "    if month in [1, 3, 5, 7, 8, 10, 12]:\n",
    "        print(\"31 days\")\n",
    "    elif month in [4, 6, 9, 11]:\n",
    "        print(\"30 days\")\n",
    "    else:\n",
    "        print(\"Invalid month\")\n",
    "year = int(input(\"Enter the year:-\"))\n",
    "type_year(year)\n",
    "month = int(input(\"Enter the month number:-\"))\n",
    "month_days(month)"
   ]
  },
  {
   "cell_type": "code",
   "execution_count": 1,
   "id": "19282b0e-31fa-4f3e-ae80-0e72fd61e3bf",
   "metadata": {},
   "outputs": [
    {
     "name": "stdin",
     "output_type": "stream",
     "text": [
      "Enter the number:- 0\n"
     ]
    },
    {
     "name": "stdout",
     "output_type": "stream",
     "text": [
      "Number is non-negative(Zero)\n"
     ]
    }
   ],
   "source": [
    "'''Basic Level:'''\n",
    "#1.Write a Python program that checks if a given number is positive, negative, or zero.\n",
    "input_number = int(input(\"Enter the number:-\"))\n",
    "if input_number < 0:\n",
    "    print(\"Number is negative\")\n",
    "elif input_number == 0:\n",
    "    print(\"Number is non-negative(Zero)\")\n",
    "else:\n",
    "    print(\"Number is positive\")"
   ]
  },
  {
   "cell_type": "code",
   "execution_count": 2,
   "id": "10f7b758-9d96-4feb-b0f9-c8c8ed3da4bd",
   "metadata": {},
   "outputs": [
    {
     "name": "stdin",
     "output_type": "stream",
     "text": [
      "Enter the age:- 18\n"
     ]
    },
    {
     "name": "stdout",
     "output_type": "stream",
     "text": [
      "Person is eligible to vote\n"
     ]
    }
   ],
   "source": [
    "#2.Create a program to determine if a person is eligible to vote based on their age.\n",
    "input_age = int(input(\"Enter the age:-\"))\n",
    "if input_age < 18:\n",
    "    print(\"Person is not eligible to vote\")\n",
    "else:\n",
    "    print(\"Person is eligible to vote\")"
   ]
  },
  {
   "cell_type": "code",
   "execution_count": 5,
   "id": "67d8399d-e1bc-4300-a2b3-502922c0eab6",
   "metadata": {},
   "outputs": [
    {
     "name": "stdout",
     "output_type": "stream",
     "text": [
      "greater of both is:- 10\n"
     ]
    }
   ],
   "source": [
    "#3.Write a program to find the maximum of two given numbers using conditional statements.\n",
    "def greater_of(a,b):\n",
    "    if a > b:\n",
    "        return a\n",
    "    else:\n",
    "        return b\n",
    "print(\"greater of both is:-\", greater_of(8,10))"
   ]
  },
  {
   "cell_type": "code",
   "execution_count": 6,
   "id": "f7e7921b-6f6a-4f42-946a-b18a7e5d65b7",
   "metadata": {},
   "outputs": [
    {
     "name": "stdin",
     "output_type": "stream",
     "text": [
      "Enter the percentage:- 70\n"
     ]
    },
    {
     "name": "stdout",
     "output_type": "stream",
     "text": [
      "Grade is B\n"
     ]
    }
   ],
   "source": [
    "#4.Develop a program that calculates the grade of a student based on their exam score.\n",
    "def grading_system(n):\n",
    "    if n >= 90:\n",
    "        print(\"Grade is A+\")\n",
    "    elif 80<=n<90:\n",
    "        print(\"Grade is A\")\n",
    "    elif 60<=n<80:\n",
    "        print(\"Grade is B\")\n",
    "    elif 45<=n<60:\n",
    "        print(\"Grade is C\")\n",
    "    elif 35<=n<45:\n",
    "        print(\"Grade is D\")\n",
    "    else:\n",
    "        print(\"Grade is E\")\n",
    "n = int(input(\"Enter the percentage:-\"))\n",
    "grading_system(n)"
   ]
  },
  {
   "cell_type": "code",
   "execution_count": 7,
   "id": "b44e62d3-5681-4e53-a386-0083436c848a",
   "metadata": {},
   "outputs": [
    {
     "name": "stdin",
     "output_type": "stream",
     "text": [
      "Enter the year:- 1996\n"
     ]
    },
    {
     "name": "stdout",
     "output_type": "stream",
     "text": [
      "Year is leap year\n"
     ]
    }
   ],
   "source": [
    "#5.Create a program that checks if a year is a leap year or not.\n",
    "def is_leap_year(year):\n",
    "    if (year%4 == 0 and year%100 != 0) or (year%400 == 0):\n",
    "        print(\"Year is leap year\")\n",
    "    else:\n",
    "        print(\"Year is not leap year\")\n",
    "is_leap_year(int(input(\"Enter the year:-\")))"
   ]
  },
  {
   "cell_type": "code",
   "execution_count": 9,
   "id": "35358c79-34a8-46bd-a53b-e71eaba99d3b",
   "metadata": {},
   "outputs": [
    {
     "name": "stdin",
     "output_type": "stream",
     "text": [
      "Side a:- 7\n",
      "Side b:- 7\n",
      "Side c:- 8\n"
     ]
    },
    {
     "name": "stdout",
     "output_type": "stream",
     "text": [
      "Triangle is isosceles\n"
     ]
    }
   ],
   "source": [
    "#6.Write a program to classify a triangle based on its sides lengths.\n",
    "def check_triangle(a,b,c):\n",
    "    if a < b+c and b < a+c and c < a+b:\n",
    "        if a == b == c :\n",
    "            print(\"Triangle is equilateral\")\n",
    "        elif a==b!=c or a==c!=b or b == c !=a:\n",
    "            print(\"Triangle is isosceles\")\n",
    "        else:\n",
    "            print(\"Triangle is scalene\")\n",
    "    else:\n",
    "        print(\"Given lengths are not suitable to form a traiangle\")\n",
    "a = int(input(\"Side a:-\"))\n",
    "b = int(input(\"Side b:-\"))\n",
    "c = int(input(\"Side c:-\"))\n",
    "check_triangle(a,b,c)"
   ]
  },
  {
   "cell_type": "code",
   "execution_count": 13,
   "id": "63439b94-4cb2-447d-b69b-451aaf0a82f8",
   "metadata": {},
   "outputs": [
    {
     "name": "stdout",
     "output_type": "stream",
     "text": [
      "Largest of 3 numbers is:- 35\n"
     ]
    }
   ],
   "source": [
    "#7.Build a program that determines the largest of three given numbers.\n",
    "def find_larger(a,b,c):\n",
    "    if a>=b and b>=c and a>=c:\n",
    "        return a\n",
    "    elif a<=b and b<=c and a<=c:\n",
    "        return c\n",
    "    elif a>=b and b<=c:\n",
    "        return a\n",
    "    else:\n",
    "        return b\n",
    "print(\"Largest of 3 numbers is:-\", find_larger(12,24,35))"
   ]
  },
  {
   "cell_type": "code",
   "execution_count": 14,
   "id": "87dad27a-6c72-4d42-b6fb-b19623f58bcb",
   "metadata": {},
   "outputs": [
    {
     "name": "stdin",
     "output_type": "stream",
     "text": [
      "enter the character:- y\n"
     ]
    },
    {
     "name": "stdout",
     "output_type": "stream",
     "text": [
      "Input character is Consonant\n"
     ]
    }
   ],
   "source": [
    "#8.Develop a program that checks whether a character is a vowel or a consonant.\n",
    "input_character = input(\"enter the character:-\")\n",
    "vowel = \"aeiou\"\n",
    "for char_lower in input_character:\n",
    "    char_lower = input_character.lower()\n",
    "\n",
    "if char_lower in vowel:\n",
    "    print(\"Input character is Vowel\")\n",
    "else:\n",
    "    print(\"Input character is Consonant\")"
   ]
  },
  {
   "cell_type": "code",
   "execution_count": 25,
   "id": "e2fe137a-2cb2-4e46-8b96-29ba885d04eb",
   "metadata": {},
   "outputs": [
    {
     "name": "stdout",
     "output_type": "stream",
     "text": [
      "The total cost of the shopping cart is: 460.0\n"
     ]
    }
   ],
   "source": [
    "#9.Create a program to calculate the total cost of a shopping cart based on discounts.\n",
    "\n",
    "items = {\"item1\": 100, \"item2\": 200, \"item3\": 300} #Create a dictionary to store the discount percentages for each item\n",
    "discounts = {\"item1\": 0.1, \"item2\": 0.2, \"item3\": 0.3} #10, 20 and 30% respectively\n",
    "\n",
    "total_cost = 0\n",
    "\n",
    "for i, price in items.items():\n",
    "    if i in discounts:\n",
    "        discount = discounts[i]\n",
    "        discounted_price = price - (price*discount)\n",
    "        total_cost += discounted_price\n",
    "    else:\n",
    "        total_cost += price\n",
    "\n",
    "print(\"The total cost of the shopping cart is:\", total_cost) # Print the total cost"
   ]
  },
  {
   "cell_type": "code",
   "execution_count": 28,
   "id": "35f8d5e7-0572-4230-8746-5a102aa5306a",
   "metadata": {},
   "outputs": [
    {
     "name": "stdin",
     "output_type": "stream",
     "text": [
      "Enter the Number to check:- 67\n"
     ]
    },
    {
     "name": "stdout",
     "output_type": "stream",
     "text": [
      "Number is Odd\n"
     ]
    }
   ],
   "source": [
    "#10.Write a program that checks if a given number is even or odd.\n",
    "def check_num(n):\n",
    "    if n%2 == 0:\n",
    "        print(\"Number is Even\")\n",
    "    else:\n",
    "        print(\"Number is Odd\")\n",
    "n = int(input(\"Enter the Number to check:-\"))\n",
    "check_num(n)"
   ]
  },
  {
   "cell_type": "code",
   "execution_count": 7,
   "id": "2d38e1df-4d40-4d45-bdec-a7209abe74cc",
   "metadata": {},
   "outputs": [
    {
     "name": "stdin",
     "output_type": "stream",
     "text": [
      "Enter the coefficient of x^2:- 1\n",
      "Enter the coefficient of x:- 5\n",
      "Enter the constant term:- 6\n"
     ]
    },
    {
     "name": "stdout",
     "output_type": "stream",
     "text": [
      "Roots are: -2.0 and -3.0\n"
     ]
    }
   ],
   "source": [
    "'''Intermediate Level:'''\n",
    "\n",
    "#11.Write a program that calculates the roots of a quadratic equation.\n",
    "a = float(input(\"Enter the coefficient of x^2:-\"))\n",
    "b = float(input(\"Enter the coefficient of x:-\"))\n",
    "c = float(input(\"Enter the constant term:-\"))\n",
    "\n",
    "d = (b**2)-(4*a*c)\n",
    "\n",
    "if d > 0:\n",
    "    root1 = (((-b)+(d**0.5))/(2*a))\n",
    "    root2 = (((-b)-(d**0.5))/(2*a))\n",
    "    print(\"Roots are: {0} and {1}\".format(root1, root2))\n",
    "elif d == 0:\n",
    "    root = (-b)/(2*a)\n",
    "    print(\"Root is: {0}\".format(root))\n",
    "else:\n",
    "    real_part = -b / (2*a)\n",
    "    imaginary_part = (-d) / (2*a)\n",
    "    root1 = complex(real_part, imaginary_part)\n",
    "    root2 = complex(real_part, -imaginary_part)\n",
    "    print(\"Roots are imaginary and distinct which are: {0} and {1}\".format(root1, root2))"
   ]
  },
  {
   "cell_type": "code",
   "execution_count": 1,
   "id": "811bcd5f-e6ad-4a61-932f-816cd57035e3",
   "metadata": {},
   "outputs": [
    {
     "name": "stdin",
     "output_type": "stream",
     "text": [
      "Enter the number betweem 1 and 7 to determine day of week:-  7\n"
     ]
    },
    {
     "name": "stdout",
     "output_type": "stream",
     "text": [
      "The day of the week is:-Sunday\n"
     ]
    }
   ],
   "source": [
    "#12.Create a program that determines the day of the week based on the day number (1-7).\n",
    "day_number = int(input(\"Enter the number betweem 1 and 7 to determine day of week:- \"))\n",
    "if day_number == 1:\n",
    "    day = \"Monday\"\n",
    "elif day_number == 2:\n",
    "    day = \"Tuesday\"\n",
    "elif day_number == 3:\n",
    "    day = \"Wednesday\"\n",
    "elif day_number == 4:\n",
    "    day = \"Thursday\"\n",
    "elif day_number == 5:\n",
    "    day = \"Friday\"\n",
    "elif day_number == 6:\n",
    "    day = \"Saturday\"\n",
    "elif day_number == 7:\n",
    "    day = \"Sunday\"\n",
    "else:\n",
    "    print(\"Please enter the number from 1 to 7\")\n",
    "print(\"The day of the week is:-\" + day)"
   ]
  },
  {
   "cell_type": "code",
   "execution_count": 5,
   "id": "81664ce6-a4b3-4df4-bcfb-36e6b2a98dd8",
   "metadata": {},
   "outputs": [
    {
     "name": "stdin",
     "output_type": "stream",
     "text": [
      "Enter the number:- 6\n"
     ]
    },
    {
     "name": "stdout",
     "output_type": "stream",
     "text": [
      "Factorial of the given number is:- 720\n"
     ]
    }
   ],
   "source": [
    "#13.Develop a program that calculates the factorial of a given number using recursion.\n",
    "def fact(n):\n",
    "    if n==0:\n",
    "        return 1\n",
    "    else:\n",
    "        return n*fact(n-1)\n",
    "n = int(input(\"Enter the number:-\"))\n",
    "print(\"Factorial of the given number is:-\",fact(n))"
   ]
  },
  {
   "cell_type": "code",
   "execution_count": 7,
   "id": "ea0c584b-3d40-4cd6-9b90-75474ee53fe6",
   "metadata": {},
   "outputs": [
    {
     "name": "stdin",
     "output_type": "stream",
     "text": [
      "n1:- 45\n",
      "n2:- 467\n",
      "n3:- 1234\n"
     ]
    },
    {
     "name": "stdout",
     "output_type": "stream",
     "text": [
      "The largest of three is:- 1234\n"
     ]
    }
   ],
   "source": [
    "#14.Write a program to find the largest among three numbers without using the `max()` function.\n",
    "n1, n2, n3 = int(input(\"n1:-\")), int(input(\"n2:-\")), int(input(\"n3:-\"))\n",
    "if n1 <= n2:\n",
    "    if n2 <= n3:\n",
    "        largest = n3\n",
    "    else:\n",
    "        largest = n2\n",
    "else:\n",
    "    if n1 <= n3:\n",
    "        largest = n2\n",
    "    else:\n",
    "        largest = n1\n",
    "print(\"The largest of three is:-\",largest)    "
   ]
  },
  {
   "cell_type": "code",
   "execution_count": 9,
   "id": "34005955-0749-493e-8847-82eda9924148",
   "metadata": {},
   "outputs": [
    {
     "name": "stdout",
     "output_type": "stream",
     "text": [
      "Welcome to the ATM!\n",
      "Please select an option:\n",
      "1.Check Balance\n",
      "2.Withdraw Cash\n",
      "3.deposite Cash\n",
      "4.Quit\n"
     ]
    },
    {
     "name": "stdin",
     "output_type": "stream",
     "text": [
      "Enter your choice(1-4):  1\n"
     ]
    },
    {
     "name": "stdout",
     "output_type": "stream",
     "text": [
      "The current balance is: 10000.0\n"
     ]
    },
    {
     "name": "stdin",
     "output_type": "stream",
     "text": [
      "Enter your choice(1-4):  2\n",
      "Enter the amount to withdraw:  500\n"
     ]
    },
    {
     "name": "stdout",
     "output_type": "stream",
     "text": [
      "Withdrawal successful! Your current balance is:  9500.0\n"
     ]
    },
    {
     "name": "stdin",
     "output_type": "stream",
     "text": [
      "Enter your choice(1-4):  4\n"
     ]
    },
    {
     "name": "stdout",
     "output_type": "stream",
     "text": [
      "Thankyou for using ATM. Goodbye!\n"
     ]
    }
   ],
   "source": [
    "#15.Create a program that simulates a basic ATM transaction menu.\n",
    "def display_menu():\n",
    "    print(\"Welcome to the ATM!\")\n",
    "    print(\"Please select an option:\")\n",
    "    print(\"1.Check Balance\")\n",
    "    print(\"2.Withdraw Cash\")\n",
    "    print(\"3.deposite Cash\")\n",
    "    print(\"4.Quit\")\n",
    "def check_balance(balance):\n",
    "    print(\"The current balance is:\", balance)\n",
    "\n",
    "def withdraw_cash(balance):\n",
    "    amount = float(input(\"Enter the amount to withdraw: \"))\n",
    "    if amount > balance:\n",
    "        print(\"Insufficient funds!\")\n",
    "    else:\n",
    "        balance -= amount\n",
    "        print(\"Withdrawal successful! Your current balance is: \", balance)\n",
    "        return balance\n",
    "def deposite_cash(balance):\n",
    "    amount = float(input(\"Enter the amount to deposit: \"))\n",
    "    balance += amount\n",
    "    print(\"Deposite successful. New balance:\", balance)\n",
    "    return balance\n",
    "\n",
    "def main():\n",
    "    balance = 10000.00\n",
    "    display_menu()\n",
    "    \n",
    "    while True:\n",
    "        option = input(\"Enter your choice(1-4): \")\n",
    "        if option == \"1\":\n",
    "            check_balance(balance)\n",
    "        elif option == \"2\":\n",
    "            withdraw_cash(balance)\n",
    "        elif option == \"3\":\n",
    "            deposite_cash(balance)\n",
    "        elif option == \"4\":\n",
    "            print(\"Thankyou for using ATM. Goodbye!\")\n",
    "            break\n",
    "        else:\n",
    "            print(\"Invalid Option.Please try again!\")\n",
    "\n",
    "main()"
   ]
  },
  {
   "cell_type": "code",
   "execution_count": 11,
   "id": "020c4c1f-73e1-4bbf-8b66-dfdbd8e844ae",
   "metadata": {},
   "outputs": [
    {
     "name": "stdin",
     "output_type": "stream",
     "text": [
      "Enter the string to check:- 12321\n"
     ]
    },
    {
     "name": "stdout",
     "output_type": "stream",
     "text": [
      "Given string is palindrome.\n"
     ]
    }
   ],
   "source": [
    "#16.Build a program that checks if a given string is a palindrome or not.\n",
    "def is_palindrome(string):\n",
    "    if string == string[::-1]:\n",
    "        print(\"Given string is palindrome.\")\n",
    "    else:\n",
    "        print(\"Given string is not palindrome\")\n",
    "string = input(\"Enter the string to check:-\")\n",
    "is_palindrome(string)"
   ]
  },
  {
   "cell_type": "code",
   "execution_count": 18,
   "id": "c28356d9-5d2c-4d54-87b6-b5a17ef6dc25",
   "metadata": {},
   "outputs": [
    {
     "name": "stdout",
     "output_type": "stream",
     "text": [
      "The average of a list of numbers(Excluding the smallest and largest values):  4.5\n"
     ]
    }
   ],
   "source": [
    "#17.Write a program that calculates the average of a list of numbers, excluding the smallest and largest values.\n",
    "def average(l):\n",
    "    if len(l)<3:\n",
    "        print(\"List should have at least three number.\")\n",
    "        return\n",
    "    l.sort()\n",
    "    l = l[1:-1]\n",
    "    \n",
    "    average = sum(l)/len(l)\n",
    "    return average\n",
    "\n",
    "list17 = [3,4,5,6,7,4,3,5]\n",
    "result = average(list17)\n",
    "print(\"The average of a list of numbers(Excluding the smallest and largest values): \", result)"
   ]
  },
  {
   "cell_type": "code",
   "execution_count": 36,
   "id": "eaf5283d-4c01-4082-ac73-6b0d58224efd",
   "metadata": {},
   "outputs": [
    {
     "name": "stdin",
     "output_type": "stream",
     "text": [
      "Enter the value in centigrade:- 45\n"
     ]
    },
    {
     "name": "stdout",
     "output_type": "stream",
     "text": [
      "The fahrenheit temperature for give value is: 113.0°F\n"
     ]
    }
   ],
   "source": [
    "#18.Develop a program that converts a given temperature from Celsius to Fahrenheit.\n",
    "#Simplest form/logic:-\n",
    "C = int(input(\"Enter the value in centigrade:-\"))\n",
    "f = (9/5)*C+32\n",
    "degree_symbol = chr(176)\n",
    "print(f\"The fahrenheit temperature for give value is: {f}{degree_symbol}F\")"
   ]
  },
  {
   "cell_type": "code",
   "execution_count": 40,
   "id": "1488a84f-d050-4565-8d9d-bfd9a18ecfc9",
   "metadata": {},
   "outputs": [
    {
     "name": "stdin",
     "output_type": "stream",
     "text": [
      "Enter the temperature in Celsius:  60\n"
     ]
    },
    {
     "name": "stdout",
     "output_type": "stream",
     "text": [
      "The temperature in Fahrenheit is: 140.0°F\n"
     ]
    }
   ],
   "source": [
    "#using if else:-\n",
    "def celsius_to_fahrenheit(c):\n",
    "    f = (c * 9/5) + 32\n",
    "    return f\n",
    "\n",
    "# Example usage\n",
    "celsius_temp = float(input(\"Enter the temperature in Celsius: \"))\n",
    "if celsius_temp < -273.15:\n",
    "    print(\"That temperature is below absolute zero. Please enter a valid temperature.\")\n",
    "else:\n",
    "    fahrenheit_temp = celsius_to_fahrenheit(celsius_temp)\n",
    "    print(f\"The temperature in Fahrenheit is: {fahrenheit_temp}{chr(176)}F\")"
   ]
  },
  {
   "cell_type": "code",
   "execution_count": 1,
   "id": "376eca2d-3d43-41af-a82b-10b2ae4147a7",
   "metadata": {},
   "outputs": [
    {
     "name": "stdout",
     "output_type": "stream",
     "text": [
      "Welcome to the Basic Calculator!\n",
      "Please select an operation:\n",
      "1.Addition\n",
      "2.Subtraction\n",
      "3.Multiplication\n",
      "4.Division\n"
     ]
    },
    {
     "name": "stdin",
     "output_type": "stream",
     "text": [
      "Enter your choice (1-4):  1\n",
      "Enter the first number:  4\n",
      "Enter the second number:  9\n"
     ]
    },
    {
     "name": "stdout",
     "output_type": "stream",
     "text": [
      "The result of addition is: 13.0\n"
     ]
    }
   ],
   "source": [
    "#19.Create a program that simulates a basic calculator for addition, subtraction, multiplication, and division.\n",
    "print(\"Welcome to the Basic Calculator!\")\n",
    "print(\"Please select an operation:\")\n",
    "print(\"1.Addition\")\n",
    "print(\"2.Subtraction\")\n",
    "print(\"3.Multiplication\")\n",
    "print(\"4.Division\")\n",
    "\n",
    "choice = int(input(\"Enter your choice (1-4): \"))\n",
    "\n",
    "a = float(input(\"Enter the first number: \"))\n",
    "b = float(input(\"Enter the second number: \"))\n",
    "\n",
    "if choice == 1:\n",
    "    result = a+b\n",
    "    print(\"The result of addition is:\", result)\n",
    "elif choice == 2:\n",
    "    result = a-b\n",
    "    print(\"The result of subtraction is:\", result)\n",
    "elif choice == 3:\n",
    "    result = a*b\n",
    "    print(\"The result of multiplication is:\", result)\n",
    "elif choice == 4:\n",
    "    if b != 0:\n",
    "        result = a/b\n",
    "        print(\"The result of division is:\", result)\n",
    "    else:\n",
    "        print(\"Error: Cannot divide by zero\")\n",
    "else:\n",
    "    print(\"Invalid choice. Please try again.\")"
   ]
  },
  {
   "cell_type": "code",
   "execution_count": 2,
   "id": "ec81dedf-d60a-423f-b732-2ac49e7e8ba4",
   "metadata": {},
   "outputs": [
    {
     "name": "stdin",
     "output_type": "stream",
     "text": [
      "Enter the coefficient of x^3:  1\n",
      "Enter the coefficient of x^2:  6\n",
      "Enter the coefficient of x:  6\n",
      "Enter the constant term:  10\n"
     ]
    },
    {
     "name": "stdout",
     "output_type": "stream",
     "text": [
      "The cubic equation has complex roots.\n"
     ]
    }
   ],
   "source": [
    "#20.Write a program that determines the roots of a cubic equation using the Cardano formula.\n",
    "import math\n",
    "# Input coefficients of the cubic equation\n",
    "a = float(input(\"Enter the coefficient of x^3: \"))\n",
    "b = float(input(\"Enter the coefficient of x^2: \"))\n",
    "c = float(input(\"Enter the coefficient of x: \"))\n",
    "d = float(input(\"Enter the constant term: \"))\n",
    "\n",
    "# Calculate the discriminant\n",
    "D = (18*a*b*c*d) - (4*b**3*d) + (b**2*c**2) - (4*a*c**3) - (27*a**2*d**2)\n",
    "\n",
    "# Check if the equation has real roots\n",
    "if D > 0:\n",
    "    # Calculate the roots\n",
    "    root1 = (-b + (D**0.5)) / (2*a)\n",
    "    root2 = (-b -(D**0.5)) / (2*a)\n",
    "    root3 = (-b - (D**0.5)) / (2*a)\n",
    "\n",
    "    print(\"The roots of the cubic equation are:\")\n",
    "    print(\"Root 1:\", root1)\n",
    "    print(\"Root 2:\", root2)\n",
    "    print(\"Root 3:\", root3)\n",
    "elif D == 0: \n",
    "    root = -b / (2*a)  #repeated root\n",
    "\n",
    "    print(\"The cubic equation has a repeated root:\")\n",
    "    print(\"Root:\", root)\n",
    "else:\n",
    "    print(\"The cubic equation has complex roots.\") #if complex roots"
   ]
  },
  {
   "cell_type": "code",
   "execution_count": 5,
   "id": "e7ea903c-6c59-4280-bee1-23493513a931",
   "metadata": {},
   "outputs": [
    {
     "name": "stdin",
     "output_type": "stream",
     "text": [
      "Enter your income:  60000\n"
     ]
    },
    {
     "name": "stdout",
     "output_type": "stream",
     "text": [
      "Your income tax is: -6000.0\n"
     ]
    }
   ],
   "source": [
    "'''Advanced Level:'''\n",
    "#21.Create a program that calculates the income tax based on the user's income and tax brackets.\n",
    "\n",
    "#Define the tax brackets and rates\n",
    "tax_brackets = [(0, 10000, 0.0),(10001, 50000, 0.1),(50001, 100000, 0.2),(100001, float('inf'), 0.3)]\n",
    "#(start_income, end_income, tax_rate)\n",
    "\n",
    "income = float(input(\"Enter your income: \"))\n",
    "\n",
    "#Calculate the tax\n",
    "tax = 0\n",
    "for bracket in tax_brackets:\n",
    "    start_income, end_income, tax_rate = bracket\n",
    "    if income > end_income:\n",
    "        taxable_amount = end_income - start_income + 1\n",
    "    else:\n",
    "        taxable_amount = income - start_income + 1\n",
    "    tax += taxable_amount * tax_rate\n",
    "\n",
    "print(\"Your income tax is:\", tax)"
   ]
  },
  {
   "cell_type": "code",
   "execution_count": 23,
   "id": "9b69ac66-db2d-4734-95a3-3b35816d5162",
   "metadata": {},
   "outputs": [
    {
     "name": "stdin",
     "output_type": "stream",
     "text": [
      "Enter your choice (rock, paper, or scissors):  scissors\n"
     ]
    },
    {
     "name": "stdout",
     "output_type": "stream",
     "text": [
      "Computer chose: paper\n",
      "You win!\n"
     ]
    }
   ],
   "source": [
    "#22.Write a program that simulates a rock-paper-scissors game against the computer.\n",
    "import random\n",
    "\n",
    "def play_game():\n",
    "    choices = [\"rock\", \"paper\", \"scissors\"]\n",
    "    computer_choice = random.choice(choices)\n",
    "    user_choice = input(\"Enter your choice (rock, paper, or scissors): \")\n",
    "\n",
    "    print(\"Computer chose:\", computer_choice)\n",
    "\n",
    "    if user_choice == computer_choice:\n",
    "        print(\"It's a tie!\")\n",
    "    elif (user_choice==\"rock\"and computer_choice==\"scissors\")or(user_choice==\"paper\"and computer_choice == \"rock\") or (user_choice == \"scissors\" and computer_choice == \"paper\"):\n",
    "        print(\"You win!\")\n",
    "    else:\n",
    "        print(\"Computer wins!\")\n",
    "\n",
    "play_game()"
   ]
  },
  {
   "cell_type": "code",
   "execution_count": 2,
   "id": "89f20d17-065c-4efd-9891-ef4260ade3e4",
   "metadata": {},
   "outputs": [
    {
     "name": "stdin",
     "output_type": "stream",
     "text": [
      "Enter the desired length of the password:  9\n"
     ]
    },
    {
     "name": "stdout",
     "output_type": "stream",
     "text": [
      "Your simple random password is: fotdwaFZi\n"
     ]
    }
   ],
   "source": [
    "#23.Develop a program that generates a random password based on user preferences (length, complexity).\n",
    "import random\n",
    "import string\n",
    "\n",
    "def generate_password(length):\n",
    "    characters = string.ascii_letters\n",
    "    password = ''.join(random.choice(characters) for _ in range(length))\n",
    "    return password\n",
    "\n",
    "length = int(input(\"Enter the desired length of the password: \"))\n",
    "\n",
    "password = generate_password(length)\n",
    "print(\"Your simple random password is:\", password)"
   ]
  },
  {
   "cell_type": "code",
   "execution_count": null,
   "id": "9f033ef8-63e5-45e4-84ae-6f7bf9d8a89a",
   "metadata": {},
   "outputs": [
    {
     "name": "stdout",
     "output_type": "stream",
     "text": [
      "Welcome to the Adventure Game!\n",
      "You wake up in a mysterious room. There are two doors in front of you.\n"
     ]
    },
    {
     "name": "stdin",
     "output_type": "stream",
     "text": [
      "Which door do you choose? (1 or 2):  1\n"
     ]
    },
    {
     "name": "stdout",
     "output_type": "stream",
     "text": [
      "You enter the door on the left.\n"
     ]
    },
    {
     "name": "stdin",
     "output_type": "stream",
     "text": [
      "Which door do you choose? (1 or 2):  2\n"
     ]
    },
    {
     "name": "stdout",
     "output_type": "stream",
     "text": [
      "You enter the door on the right.\n"
     ]
    },
    {
     "name": "stdin",
     "output_type": "stream",
     "text": [
      "Which door do you choose? (1 or 2):  0\n"
     ]
    },
    {
     "name": "stdout",
     "output_type": "stream",
     "text": [
      "Thanks for playing! Goodbye!\n"
     ]
    }
   ],
   "source": [
    "#24.Create a program that implements a simple text-based adventure game with branching scenarios.\n",
    "def start_game():\n",
    "    print(\"Welcome to the Adventure Game!\")\n",
    "    print(\"You wake up in a mysterious room. There are two doors in front of you.\")\n",
    "\n",
    "    while True:\n",
    "        choice = input(\"Which door do you choose? (1 or 2): \")\n",
    "\n",
    "        if choice == \"1\":\n",
    "            print(\"You enter the door on the left.\")\n",
    "\n",
    "        elif choice == \"2\":\n",
    "            print(\"You enter the door on the right.\")\n",
    "        \n",
    "        elif choice == \"0\":\n",
    "            print(\"Thanks for playing! Goodbye!\")\n",
    "            break\n",
    "\n",
    "        else:\n",
    "            print(\"Invalid choice. Please enter 1 or 2.\")\n",
    "\n",
    "# Start the game\n",
    "start_game()"
   ]
  },
  {
   "cell_type": "code",
   "execution_count": null,
   "id": "549002f2-9e4e-45b2-a207-7d0ebbe64e0b",
   "metadata": {},
   "outputs": [
    {
     "name": "stdout",
     "output_type": "stream",
     "text": [
      "The solution to the equation is x = -2.0.\n",
      "The equation is inconsistent. It has no solution.\n"
     ]
    }
   ],
   "source": [
    "#25.Build a program that solves a linear equation for x, considering different cases.\n",
    "def solve_linear_equation(a, b):\n",
    "    if a == 0:\n",
    "        if b == 0:\n",
    "            return \"The equation is an identity. It has infinitely many solutions.\"\n",
    "        else:\n",
    "            return \"The equation is inconsistent. It has no solution.\"\n",
    "    else:\n",
    "        x = -b / a\n",
    "        return f\"The solution to the equation is x = {x}.\"\n",
    "\n",
    "# Example usage\n",
    "equation1 = solve_linear_equation(2, 4)\n",
    "equation2 = solve_linear_equation(0, 6)\n",
    "\n",
    "print(equation1)\n",
    "print(equation2)"
   ]
  },
  {
   "cell_type": "code",
   "execution_count": 1,
   "id": "859cc5d5-a7c5-46a2-af85-dda4f7a2adf0",
   "metadata": {},
   "outputs": [
    {
     "name": "stdout",
     "output_type": "stream",
     "text": [
      "What is the capital of India?\n",
      "Options:\n",
      "1. London\n",
      "2. Paris\n",
      "3. Berlin\n",
      "4. Delhi\n"
     ]
    },
    {
     "name": "stdin",
     "output_type": "stream",
     "text": [
      "Enter your answer (1-4):  4\n"
     ]
    },
    {
     "name": "stdout",
     "output_type": "stream",
     "text": [
      "Correct!\n",
      "\n",
      "Which planet is known as the Red Planet?\n",
      "Options:\n",
      "1. Mars\n",
      "2. Venus\n",
      "3. Jupiter\n",
      "4. Saturn\n"
     ]
    },
    {
     "name": "stdin",
     "output_type": "stream",
     "text": [
      "Enter your answer (1-4):  1\n"
     ]
    },
    {
     "name": "stdout",
     "output_type": "stream",
     "text": [
      "Correct!\n",
      "\n",
      "Who painted the Mona Lisa?\n",
      "Options:\n",
      "1. Leonardo da Vinci\n",
      "2. Pablo Picasso\n",
      "3. Vincent van Gogh\n",
      "4. Michelangelo\n"
     ]
    },
    {
     "name": "stdin",
     "output_type": "stream",
     "text": [
      "Enter your answer (1-4):  1\n"
     ]
    },
    {
     "name": "stdout",
     "output_type": "stream",
     "text": [
      "Correct!\n",
      "\n",
      "Quiz completed! Your score is 3/3.\n"
     ]
    }
   ],
   "source": [
    "#26.Write a program that simulates a basic quiz game with multiple-choice questions and scoring.\n",
    "def play_quiz(questions):\n",
    "    score = 0\n",
    "\n",
    "    for question in questions:\n",
    "        print(question[\"question\"])\n",
    "        print(\"Options:\")\n",
    "        for i, option in enumerate(question[\"options\"]):\n",
    "            print(f\"{i + 1}. {option}\")\n",
    "\n",
    "        answer = input(\"Enter your answer (1-4): \")\n",
    "\n",
    "        if answer == str(question[\"correct_answer\"]):\n",
    "            print(\"Correct!\")\n",
    "            score += 1\n",
    "        else:\n",
    "            print(\"Incorrect!\")\n",
    "\n",
    "        print()\n",
    "\n",
    "    print(f\"Quiz completed! Your score is {score}/{len(questions)}.\")\n",
    "\n",
    "# Example quiz questions\n",
    "quiz_questions = [{\"question\": \"What is the capital of India?\", \"options\": [\"London\", \"Paris\", \"Berlin\", \"Delhi\"],\"correct_answer\": 4},\n",
    "                  {\"question\": \"Which planet is known as the Red Planet?\",\"options\": [\"Mars\", \"Venus\", \"Jupiter\", \"Saturn\"],\"correct_answer\": 1},\n",
    "                  {\"question\": \"Who painted the Mona Lisa?\",\"options\": [\"Leonardo da Vinci\", \"Pablo Picasso\", \"Vincent van Gogh\", \"Michelangelo\"],\"correct_answer\": 1}]\n",
    "\n",
    "# Start the quiz\n",
    "play_quiz(quiz_questions)"
   ]
  },
  {
   "cell_type": "code",
   "execution_count": 6,
   "id": "24f67d2f-2233-4a08-8b4f-969fadd294b0",
   "metadata": {},
   "outputs": [
    {
     "name": "stdin",
     "output_type": "stream",
     "text": [
      "Enter the year:- 2021\n"
     ]
    },
    {
     "name": "stdout",
     "output_type": "stream",
     "text": [
      "Given year is Not prime\n"
     ]
    }
   ],
   "source": [
    "#27.Develop a program that determines whether a given year is a prime number or not.\n",
    "def is_year_prime(year):\n",
    "    if year<2:\n",
    "        return \"Not prime\"\n",
    "    for i in range(2, int(year**0.5)+1):\n",
    "        if year%i == 0:\n",
    "            return \"Not prime\"\n",
    "    return \"Prime\"\n",
    "year = int(input(\"Enter the year:-\"))\n",
    "print(\"Given year is\",is_year_prime(year))"
   ]
  },
  {
   "cell_type": "code",
   "execution_count": 4,
   "id": "d349ffa4-0581-461a-810e-8fefcfde10b8",
   "metadata": {},
   "outputs": [
    {
     "name": "stdin",
     "output_type": "stream",
     "text": [
      "Enter the value of a:- 23\n",
      "Enter the value of b:- 45\n",
      "Enter the value of c:- 67\n"
     ]
    },
    {
     "name": "stdout",
     "output_type": "stream",
     "text": [
      "Ascending order of the numbers is:  (23, 45, 67)\n"
     ]
    }
   ],
   "source": [
    "#28.Create a program that sorts three numbers in ascending order using conditional statements.\n",
    "\n",
    "a = int(input(\"Enter the value of a:-\"))\n",
    "b = int(input(\"Enter the value of b:-\"))\n",
    "c = int(input(\"Enter the value of c:-\"))\n",
    "\n",
    "if a <= b and b <= c:\n",
    "    smallest = a\n",
    "    if b <= c:\n",
    "        middle = b\n",
    "        largest = c\n",
    "    else:\n",
    "        middle = c\n",
    "        largest = b\n",
    "elif a >= b and b >= c:\n",
    "    smallest = c\n",
    "    if a >= b:\n",
    "        middle = b\n",
    "        largest = a\n",
    "    else:\n",
    "        middle = a\n",
    "        largest = b\n",
    "else:\n",
    "    smallest = b\n",
    "    if a >= c:\n",
    "        middle = c\n",
    "        largest = a\n",
    "    else:\n",
    "        middle = a\n",
    "        largest = c\n",
    "print(f\"Ascending order of the numbers is: \", (smallest, middle, largest))"
   ]
  },
  {
   "cell_type": "code",
   "execution_count": 6,
   "id": "4b97630b-92ee-41e0-83c3-2108e7bbcab5",
   "metadata": {},
   "outputs": [
    {
     "name": "stdout",
     "output_type": "stream",
     "text": [
      "Roots: [4. 3. 2. 1.]\n"
     ]
    }
   ],
   "source": [
    "#29.Build a program that determines the roots of a quartic equation using numerical methods.\n",
    "import numpy as np\n",
    "\n",
    "def quartic_roots(a, b, c, d, e):\n",
    "    coefficients = [a, b, c, d, e]\n",
    "    roots = np.roots(coefficients)\n",
    "    return roots\n",
    "\n",
    "# Example usage\n",
    "a = 1\n",
    "b = -10\n",
    "c = 35\n",
    "d = -50\n",
    "e = 24\n",
    "\n",
    "roots = quartic_roots(a, b, c, d, e)\n",
    "print(\"Roots:\", roots)"
   ]
  },
  {
   "cell_type": "code",
   "execution_count": 1,
   "id": "6ce5b22d-755a-4a1a-a3fe-15c9cfd78df9",
   "metadata": {},
   "outputs": [
    {
     "name": "stdin",
     "output_type": "stream",
     "text": [
      "Enter person's BMI:- 34.5\n"
     ]
    },
    {
     "name": "stdout",
     "output_type": "stream",
     "text": [
      "You are Obese.It's crucial to prioritize your health and consult with a healthcare professional for guidance.\n"
     ]
    }
   ],
   "source": [
    "#30.Write a program that calculates the BMI (Body Mass Index) and provides health recommendations based on the user's input.\n",
    "BMI = float(input(\"Enter person's BMI:-\")) #Body Mass Index\n",
    "if 0 < BMI < 18.5 :\n",
    "    print(\"You are underweight.It's important to maintain a balanced diet and consider consulting with a healthcare professional.\")\n",
    "elif 18.5 < BMI < 24.9 :\n",
    "    print(\"Your weight is within the healthy range. Keep up the good work!\")\n",
    "elif 24.9 < BMI < 29.9 :\n",
    "    print(\"You are overweight.Consider incorporating regular exercise and adopting a healthier eating habit.\")\n",
    "elif 29.9 < BMI < 39.9 :\n",
    "    print(\"You are Obese.It's crucial to prioritize your health and consult with a healthcare professional for guidance.\")\n",
    "elif BMI > 40 :\n",
    "    print(\"You are severely obese. Discuss with your physician and follow the guidance.\")\n",
    "else:\n",
    "    print(\"Please Enter the correct input\")"
   ]
  },
  {
   "cell_type": "code",
   "execution_count": 3,
   "id": "adb8f350-b119-4760-9226-08f5c2f1d9b4",
   "metadata": {},
   "outputs": [
    {
     "name": "stdin",
     "output_type": "stream",
     "text": [
      "Enter your password here:-  Govind@123\n"
     ]
    },
    {
     "name": "stdout",
     "output_type": "stream",
     "text": [
      "Password is valid!\n"
     ]
    }
   ],
   "source": [
    "'''Challenge Level:'''\n",
    "#31.Create a program that validates a password based on complexity rules (length, characters, etc.).\n",
    "def validate_password(password):\n",
    "    if len(password) < 8:\n",
    "        return \"Password should be at least 8 characters long.\"\n",
    "    \n",
    "    has_uppecase = False\n",
    "    has_lowercase = False\n",
    "    has_digit = False\n",
    "    \n",
    "    for char in password:\n",
    "        if char.isupper():\n",
    "            has_uppercase = True\n",
    "        elif char.islower():\n",
    "            has_lowercase = True\n",
    "        elif char.isdigit():\n",
    "            has_digit = True\n",
    "            \n",
    "    if not has_uppercase:\n",
    "        return \"Password must contain at least one uppercase letter.\"\n",
    "    if not has_lowercase:\n",
    "        return \"Password must contain at least one lowercase letter.\"\n",
    "    if not has_digit:\n",
    "        return \"Password must contain at least one digit.\"\n",
    "    \n",
    "    return \"Password is valid!\"\n",
    "\n",
    "password = input(\"Enter your password here:- \")\n",
    "result = validate_password(password)\n",
    "print(result)"
   ]
  },
  {
   "cell_type": "code",
   "execution_count": 5,
   "id": "97a352fc-5da8-4c47-af3a-37c8d43b9eeb",
   "metadata": {},
   "outputs": [
    {
     "name": "stdout",
     "output_type": "stream",
     "text": [
      "Matrix A:\n",
      "[2, 3, 4]\n",
      "[6, 7, 8]\n",
      "[10, 11, 12]\n",
      "Matrix B:\n",
      "[5, 6, 7]\n",
      "[9, 10, 11]\n",
      "[12, 13, 14]\n",
      "Matrix Addition (A + B):\n",
      "[7, 9, 11]\n",
      "[15, 17, 19]\n",
      "[22, 24, 26]\n",
      "[-3, -3, -3]\n",
      "[-3, -3, -3]\n",
      "[-2, -2, -2]\n",
      "Matrix Subtraction (A - B):\n"
     ]
    }
   ],
   "source": [
    "#32.Develop a program that performs matrix addition and subtraction based on user input.\n",
    "Matrix_a = [[2,3,4], [6,7,8], [10,11,12]]\n",
    "Matrix_b = [[5,6,7], [9,10,11], [12,13,14]]\n",
    "\n",
    "result_addition = []\n",
    "for i in range(len(Matrix_a)):\n",
    "    row = []\n",
    "    for j in range(len(Matrix_a[i])):\n",
    "        element = Matrix_a[i][j] + Matrix_b[i][j]\n",
    "        row.append(element)\n",
    "    result_addition.append(row)\n",
    "    \n",
    "result_subtraction = []\n",
    "for i in range(len(Matrix_a[i])):\n",
    "    row = []\n",
    "    for j in range(len(Matrix_a[i])):\n",
    "        element = Matrix_a[i][j] - Matrix_b[i][j]\n",
    "        row.append(element)\n",
    "    result_addition.append(row)\n",
    "    \n",
    "print(\"Matrix A:\")\n",
    "for row in Matrix_a:\n",
    "    print(row)\n",
    "print(\"Matrix B:\")\n",
    "for row in Matrix_b:\n",
    "    print(row)\n",
    "print(\"Matrix Addition (A + B):\")\n",
    "for row in result_addition:\n",
    "    print(row)\n",
    "print(\"Matrix Subtraction (A - B):\") \n",
    "for row in result_subtraction:\n",
    "    print(row)"
   ]
  },
  {
   "cell_type": "code",
   "execution_count": 7,
   "id": "7b07a8be-9f3b-4774-b9be-0d7150ab2cc9",
   "metadata": {},
   "outputs": [
    {
     "name": "stdin",
     "output_type": "stream",
     "text": [
      "Enter the first number:- 24\n",
      "Enter the second number:- 56\n"
     ]
    },
    {
     "name": "stdout",
     "output_type": "stream",
     "text": [
      "The GCD of 24 and 56 is 8\n"
     ]
    }
   ],
   "source": [
    "#33.Write a program that calculates the greatest common divisor (GCD) of two numbers using the Euclidean algorithm.\n",
    "def gcd(a, b):\n",
    "    while b != 0:\n",
    "        temp_var = b\n",
    "        b = a % b\n",
    "        a = temp_var\n",
    "    return a\n",
    "\n",
    "# Example usage\n",
    "num1 = int(input(\"Enter the first number:-\"))\n",
    "num2 = int(input(\"Enter the second number:-\"))\n",
    "result = gcd(num1, num2)\n",
    "print(\"The GCD of\", num1, \"and\", num2, \"is\", result)"
   ]
  },
  {
   "cell_type": "code",
   "execution_count": 8,
   "id": "3ac60c42-8992-42cf-9a91-913ef42a5516",
   "metadata": {},
   "outputs": [
    {
     "name": "stdout",
     "output_type": "stream",
     "text": [
      "Result of matrix multiplication:\n",
      "[58, 64]\n",
      "[139, 154]\n"
     ]
    }
   ],
   "source": [
    "#34.Build a program that performs matrix multiplication using nested loops and conditional statements.\n",
    "def matrix_multiplication(matrix_a, matrix_b):\n",
    "    rows_a = len(matrix_a)\n",
    "    cols_a = len(matrix_a[0])\n",
    "    rows_b = len(matrix_b)\n",
    "    cols_b = len(matrix_b[0])\n",
    "\n",
    "    if cols_a != rows_b:\n",
    "        return \"Error: The number of columns in the first matrix must be equal to the number of rows in the second matrix.\"\n",
    "\n",
    "    result = [[0 for i in range(cols_b)] for j in range(rows_a)]\n",
    "\n",
    "    for i in range(rows_a):\n",
    "        for j in range(cols_b):\n",
    "            for k in range(cols_a):\n",
    "                result[i][j] += matrix_a[i][k] * matrix_b[k][j]\n",
    "\n",
    "    return result\n",
    "\n",
    "# Example usage\n",
    "matrix_a = [[1, 2, 3], [4, 5, 6]]\n",
    "matrix_b = [[7, 8], [9, 10], [11, 12]]\n",
    "result = matrix_multiplication(matrix_a, matrix_b)\n",
    "print(\"Result of matrix multiplication:\")\n",
    "for row in result:\n",
    "    print(row)"
   ]
  },
  {
   "cell_type": "code",
   "execution_count": 9,
   "id": "82034f5f-e788-4082-a1e0-86fbdfbfe145",
   "metadata": {},
   "outputs": [
    {
     "name": "stdout",
     "output_type": "stream",
     "text": [
      "  |   |  \n",
      "---------\n",
      "  |   |  \n",
      "---------\n",
      "  |   |  \n",
      "---------\n",
      "It's X's turn.\n"
     ]
    },
    {
     "name": "stdin",
     "output_type": "stream",
     "text": [
      "Enter the row (0-2):  1\n",
      "Enter the column (0-2):  2\n"
     ]
    },
    {
     "name": "stdout",
     "output_type": "stream",
     "text": [
      "  |   |  \n",
      "---------\n",
      "  |   | X\n",
      "---------\n",
      "  |   |  \n",
      "---------\n",
      "It's O's turn.\n"
     ]
    },
    {
     "name": "stdin",
     "output_type": "stream",
     "text": [
      "Enter the row (0-2):  0\n",
      "Enter the column (0-2):  2\n"
     ]
    },
    {
     "name": "stdout",
     "output_type": "stream",
     "text": [
      "  |   | O\n",
      "---------\n",
      "  |   | X\n",
      "---------\n",
      "  |   |  \n",
      "---------\n",
      "It's X's turn.\n"
     ]
    },
    {
     "name": "stdin",
     "output_type": "stream",
     "text": [
      "Enter the row (0-2):  2\n",
      "Enter the column (0-2):  2\n"
     ]
    },
    {
     "name": "stdout",
     "output_type": "stream",
     "text": [
      "  |   | O\n",
      "---------\n",
      "  |   | X\n",
      "---------\n",
      "  |   | X\n",
      "---------\n",
      "It's O's turn.\n"
     ]
    },
    {
     "name": "stdin",
     "output_type": "stream",
     "text": [
      "Enter the row (0-2):  0\n",
      "Enter the column (0-2):  0\n"
     ]
    },
    {
     "name": "stdout",
     "output_type": "stream",
     "text": [
      "O |   | O\n",
      "---------\n",
      "  |   | X\n",
      "---------\n",
      "  |   | X\n",
      "---------\n",
      "It's X's turn.\n"
     ]
    },
    {
     "name": "stdin",
     "output_type": "stream",
     "text": [
      "Enter the row (0-2):  0\n",
      "Enter the column (0-2):  0\n"
     ]
    },
    {
     "name": "stdout",
     "output_type": "stream",
     "text": [
      "Invalid move. Try again.\n",
      "O |   | O\n",
      "---------\n",
      "  |   | X\n",
      "---------\n",
      "  |   | X\n",
      "---------\n",
      "It's X's turn.\n"
     ]
    },
    {
     "name": "stdin",
     "output_type": "stream",
     "text": [
      "Enter the row (0-2):  1\n",
      "Enter the column (0-2):  2\n"
     ]
    },
    {
     "name": "stdout",
     "output_type": "stream",
     "text": [
      "Invalid move. Try again.\n",
      "O |   | O\n",
      "---------\n",
      "  |   | X\n",
      "---------\n",
      "  |   | X\n",
      "---------\n",
      "It's X's turn.\n"
     ]
    },
    {
     "name": "stdin",
     "output_type": "stream",
     "text": [
      "Enter the row (0-2):  2\n",
      "Enter the column (0-2):  1\n"
     ]
    },
    {
     "name": "stdout",
     "output_type": "stream",
     "text": [
      "O |   | O\n",
      "---------\n",
      "  |   | X\n",
      "---------\n",
      "  | X | X\n",
      "---------\n",
      "It's O's turn.\n"
     ]
    },
    {
     "name": "stdin",
     "output_type": "stream",
     "text": [
      "Enter the row (0-2):  2\n",
      "Enter the column (0-2):  2\n"
     ]
    },
    {
     "name": "stdout",
     "output_type": "stream",
     "text": [
      "Invalid move. Try again.\n",
      "O |   | O\n",
      "---------\n",
      "  |   | X\n",
      "---------\n",
      "  | X | X\n",
      "---------\n",
      "It's O's turn.\n"
     ]
    },
    {
     "name": "stdin",
     "output_type": "stream",
     "text": [
      "Enter the row (0-2):  2\n",
      "Enter the column (0-2):  2\n"
     ]
    },
    {
     "name": "stdout",
     "output_type": "stream",
     "text": [
      "Invalid move. Try again.\n",
      "O |   | O\n",
      "---------\n",
      "  |   | X\n",
      "---------\n",
      "  | X | X\n",
      "---------\n",
      "It's O's turn.\n"
     ]
    },
    {
     "name": "stdin",
     "output_type": "stream",
     "text": [
      "Enter the row (0-2):  2\n",
      "Enter the column (0-2):  1\n"
     ]
    },
    {
     "name": "stdout",
     "output_type": "stream",
     "text": [
      "Invalid move. Try again.\n",
      "O |   | O\n",
      "---------\n",
      "  |   | X\n",
      "---------\n",
      "  | X | X\n",
      "---------\n",
      "It's O's turn.\n"
     ]
    },
    {
     "name": "stdin",
     "output_type": "stream",
     "text": [
      "Enter the row (0-2):  2\n",
      "Enter the column (0-2):  0\n"
     ]
    },
    {
     "name": "stdout",
     "output_type": "stream",
     "text": [
      "O |   | O\n",
      "---------\n",
      "  |   | X\n",
      "---------\n",
      "O | X | X\n",
      "---------\n",
      "It's X's turn.\n"
     ]
    },
    {
     "name": "stdin",
     "output_type": "stream",
     "text": [
      "Enter the row (0-2):  0\n",
      "Enter the column (0-2):  1\n"
     ]
    },
    {
     "name": "stdout",
     "output_type": "stream",
     "text": [
      "O | X | O\n",
      "---------\n",
      "  |   | X\n",
      "---------\n",
      "O | X | X\n",
      "---------\n",
      "It's O's turn.\n"
     ]
    },
    {
     "name": "stdin",
     "output_type": "stream",
     "text": [
      "Enter the row (0-2):  0\n",
      "Enter the column (0-2):  2\n"
     ]
    },
    {
     "name": "stdout",
     "output_type": "stream",
     "text": [
      "Invalid move. Try again.\n",
      "O | X | O\n",
      "---------\n",
      "  |   | X\n",
      "---------\n",
      "O | X | X\n",
      "---------\n",
      "It's O's turn.\n"
     ]
    },
    {
     "name": "stdin",
     "output_type": "stream",
     "text": [
      "Enter the row (0-2):  1\n",
      "Enter the column (0-2):  0\n"
     ]
    },
    {
     "name": "stdout",
     "output_type": "stream",
     "text": [
      "O | X | O\n",
      "---------\n",
      "O |   | X\n",
      "---------\n",
      "O | X | X\n",
      "---------\n",
      "O wins!\n"
     ]
    }
   ],
   "source": [
    "#35.Create a program that simulates a basic text-based tic-tac-toe game against the computer.\n",
    "# Function to print the game board\n",
    "def print_board(board):\n",
    "    for row in board:\n",
    "        print(\" | \".join(row))\n",
    "        print(\"-\" * 9)\n",
    "\n",
    "# Function to make a move\n",
    "def make_move(board, row, col, player):\n",
    "    if board[row][col] == \" \":\n",
    "        board[row][col] = player\n",
    "        return True\n",
    "    else:\n",
    "        return False\n",
    "\n",
    "# Function to check if a player has won\n",
    "def check_winner(board, player):\n",
    "    for i in range(3):\n",
    "        if board[i][0] == board[i][1] == board[i][2] == player:\n",
    "            return True\n",
    "        if board[0][i] == board[1][i] == board[2][i] == player:\n",
    "            return True\n",
    "    if board[0][0] == board[1][1] == board[2][2] == player:\n",
    "        return True\n",
    "    if board[0][2] == board[1][1] == board[2][0] == player:\n",
    "        return True\n",
    "    return False\n",
    "\n",
    "# Function to play the game\n",
    "def play_game():\n",
    "    board = [[\" \" for _ in range(3)] for _ in range(3)]\n",
    "    current_player = \"X\"\n",
    "    moves_left = 9\n",
    "\n",
    "    while moves_left > 0:\n",
    "        print_board(board)\n",
    "        print(\"It's \" + current_player + \"'s turn.\")\n",
    "\n",
    "        row = int(input(\"Enter the row (0-2): \"))\n",
    "        col = int(input(\"Enter the column (0-2): \"))\n",
    "\n",
    "        if make_move(board, row, col, current_player):\n",
    "            if check_winner(board, current_player):\n",
    "                print_board(board)\n",
    "                print(current_player + \" wins!\")\n",
    "                return\n",
    "\n",
    "            current_player = \"O\" if current_player == \"X\" else \"X\"\n",
    "            moves_left -= 1\n",
    "        else:\n",
    "            print(\"Invalid move. Try again.\")\n",
    "\n",
    "    print_board(board)\n",
    "    print(\"It's a tie!\")\n",
    "\n",
    "# Start the game\n",
    "play_game()"
   ]
  },
  {
   "cell_type": "code",
   "execution_count": 11,
   "id": "f39174c8-dc5a-49c9-9e28-a711fa017b80",
   "metadata": {},
   "outputs": [
    {
     "name": "stdin",
     "output_type": "stream",
     "text": [
      "Enter the number of terms you want in the Fibonacci sequence:  5\n"
     ]
    },
    {
     "name": "stdout",
     "output_type": "stream",
     "text": [
      "[0, 1, 1, 2, 3]\n"
     ]
    }
   ],
   "source": [
    "#36.Write a program that generates Fibonacci numbers up to a specified term using iterative methods.\n",
    "def generate_fibonacci(n):\n",
    "    fib_list = []\n",
    "    a, b = 0, 1\n",
    "\n",
    "    while len(fib_list) < n:\n",
    "        fib_list.append(a)\n",
    "        a, b = b, a + b\n",
    "\n",
    "    return fib_list\n",
    "\n",
    "# Let's test the program\n",
    "term = int(input(\"Enter the number of terms you want in the Fibonacci sequence: \"))\n",
    "fibonacci_sequence = generate_fibonacci(term)\n",
    "print(fibonacci_sequence)"
   ]
  },
  {
   "cell_type": "code",
   "execution_count": 12,
   "id": "01c28678-a506-4bd0-a03d-357d194bb848",
   "metadata": {},
   "outputs": [
    {
     "name": "stdin",
     "output_type": "stream",
     "text": [
      "Enter the term number of the Fibonacci sequence you want to calculate:  10\n"
     ]
    },
    {
     "name": "stdout",
     "output_type": "stream",
     "text": [
      "The 10th term of the Fibonacci sequence is: 55\n"
     ]
    }
   ],
   "source": [
    "#37.Develop a program that calculates the nth term of the Fibonacci sequence using memoization.\n",
    "# Dictionary to store already calculated Fibonacci numbers\n",
    "fib_cache = {}\n",
    "\n",
    "def fibonacci(n):\n",
    "    #Check if the Fibonacci number is already calculated and stored in the cache\n",
    "    if n in fib_cache:\n",
    "        return fib_cache[n]\n",
    "\n",
    "    #Calculate the Fibonacci number\n",
    "    if n <= 1:\n",
    "        fib_cache[n] = n\n",
    "    else:\n",
    "        fib_cache[n] = fibonacci(n-1) + fibonacci(n-2)\n",
    "\n",
    "    return fib_cache[n]\n",
    "\n",
    "# Let's test the program\n",
    "term = int(input(\"Enter the term number of the Fibonacci sequence you want to calculate: \"))\n",
    "fibonacci_number = fibonacci(term)\n",
    "print(f\"The {term}th term of the Fibonacci sequence is: {fibonacci_number}\")"
   ]
  },
  {
   "cell_type": "code",
   "execution_count": 13,
   "id": "21c2f9f5-4a44-4ea2-bcca-afe1815a3ea5",
   "metadata": {},
   "outputs": [
    {
     "name": "stdin",
     "output_type": "stream",
     "text": [
      "Enter the term number of the Fibonacci sequence you want to calculate:  10\n"
     ]
    },
    {
     "name": "stdout",
     "output_type": "stream",
     "text": [
      "The 10th term of the Fibonacci sequence is: 55\n"
     ]
    }
   ],
   "source": [
    "#Using recursion\n",
    "def fibonacci(n):\n",
    "    if n <= 1:\n",
    "        return n\n",
    "    else:\n",
    "        return fibonacci(n-1) + fibonacci(n-2)\n",
    "\n",
    "# Let's test the program\n",
    "term = int(input(\"Enter the term number of the Fibonacci sequence you want to calculate: \"))\n",
    "fibonacci_number = fibonacci(term)\n",
    "print(f\"The {term}th term of the Fibonacci sequence is: {fibonacci_number}\")"
   ]
  },
  {
   "cell_type": "code",
   "execution_count": 14,
   "id": "3244f67e-0902-467c-a9cf-4823729bfa8c",
   "metadata": {},
   "outputs": [
    {
     "name": "stdin",
     "output_type": "stream",
     "text": [
      "Enter the month (1-12):  1\n",
      "Enter the year:  2024\n"
     ]
    },
    {
     "name": "stdout",
     "output_type": "stream",
     "text": [
      "January 2024\n",
      "Mon  Tue  Wed  Thu  Fri  Sat  Sun\n",
      " 1    2    3    4    5    6    7   \n",
      " 8    9   10   11   12   13   14   \n",
      "15   16   17   18   19   20   21   \n",
      "22   23   24   25   26   27   28   \n",
      "29   30   31                       \n"
     ]
    }
   ],
   "source": [
    "#38.Create a program that generates a calendar for a given month and year using conditional statements.\n",
    "import calendar\n",
    "\n",
    "# Get user input for month and year\n",
    "month = int(input(\"Enter the month (1-12): \"))\n",
    "year = int(input(\"Enter the year: \"))\n",
    "\n",
    "# Generate the calendar for the given month and year\n",
    "cal = calendar.monthcalendar(year, month)\n",
    "\n",
    "# Print the calendar\n",
    "print(calendar.month_name[month], year)\n",
    "print(\"Mon  Tue  Wed  Thu  Fri  Sat  Sun\")\n",
    "for week in cal:\n",
    "    for day in week:\n",
    "        if day != 0:\n",
    "            print(f\"{day:2}\", end=\"   \")\n",
    "        else:\n",
    "            print(\"     \", end=\"\")\n",
    "    print()"
   ]
  },
  {
   "cell_type": "code",
   "execution_count": 1,
   "id": "dedbaa8e-d316-49c6-a356-e6a6a374f37a",
   "metadata": {},
   "outputs": [
    {
     "name": "stdout",
     "output_type": "stream",
     "text": [
      "Your hand: ['J', '4']\n",
      "Computer's hand: 2\n"
     ]
    },
    {
     "name": "stdin",
     "output_type": "stream",
     "text": [
      "Do you want to hit or stand?  a\n"
     ]
    },
    {
     "name": "stdout",
     "output_type": "stream",
     "text": [
      "Your hand: ['J', '4']\n",
      "Computer's hand: 2\n"
     ]
    },
    {
     "name": "stdin",
     "output_type": "stream",
     "text": [
      "Do you want to hit or stand?  2\n"
     ]
    },
    {
     "name": "stdout",
     "output_type": "stream",
     "text": [
      "Your hand: ['J', '4']\n",
      "Computer's hand: 2\n"
     ]
    },
    {
     "name": "stdin",
     "output_type": "stream",
     "text": [
      "Do you want to hit or stand?  3\n"
     ]
    },
    {
     "name": "stdout",
     "output_type": "stream",
     "text": [
      "Your hand: ['J', '4']\n",
      "Computer's hand: 2\n"
     ]
    },
    {
     "name": "stdin",
     "output_type": "stream",
     "text": [
      "Do you want to hit or stand?  stand\n"
     ]
    },
    {
     "name": "stdout",
     "output_type": "stream",
     "text": [
      "Your hand: ['J', '4']\n",
      "Computer's hand: ['2', '7', 'A']\n",
      "You lose.\n"
     ]
    }
   ],
   "source": [
    "#39.Build a program that simulates a basic text-based blackjack game against the computer.\n",
    "import random\n",
    "\n",
    "# Function to calculate the total value of a hand\n",
    "def calculate_hand_value(hand):\n",
    "    value = 0\n",
    "    num_aces = 0\n",
    "    for card in hand:\n",
    "        if card in ['J', 'Q', 'K']:\n",
    "            value += 10\n",
    "        elif card == 'A':\n",
    "            value += 11\n",
    "            num_aces += 1\n",
    "        else:\n",
    "            value += int(card)\n",
    "    \n",
    "    # Adjust the value if there are aces in the hand\n",
    "    while value > 21 and num_aces > 0:\n",
    "        value -= 10\n",
    "        num_aces -= 1\n",
    "    \n",
    "    return value\n",
    "\n",
    "# Function to deal a card from the deck\n",
    "def deal_card():\n",
    "    deck = ['A', '2', '3', '4', '5', '6', '7', '8', '9', '10', 'J', 'Q', 'K']\n",
    "    return random.choice(deck)\n",
    "\n",
    "# Function to play the game\n",
    "def play_game():\n",
    "    player_hand = []\n",
    "    computer_hand = []\n",
    "    \n",
    "    # Deal initial cards\n",
    "    player_hand.append(deal_card())\n",
    "    player_hand.append(deal_card())\n",
    "    computer_hand.append(deal_card())\n",
    "    \n",
    "    # Player's turn\n",
    "    while True:\n",
    "        print(\"Your hand:\", player_hand)\n",
    "        print(\"Computer's hand:\", computer_hand[0])\n",
    "        choice = input(\"Do you want to hit or stand? \")\n",
    "        \n",
    "        if choice.lower() == 'hit':\n",
    "            player_hand.append(deal_card())\n",
    "            if calculate_hand_value(player_hand) > 21:\n",
    "                print(\"Bust! You lose.\")\n",
    "                return\n",
    "        elif choice.lower() == 'stand':\n",
    "            break\n",
    "    \n",
    "    # Computer's turn\n",
    "    while calculate_hand_value(computer_hand) < 17:\n",
    "        computer_hand.append(deal_card())\n",
    "    \n",
    "    # Compare hands\n",
    "    player_value = calculate_hand_value(player_hand)\n",
    "    computer_value = calculate_hand_value(computer_hand)\n",
    "    \n",
    "    print(\"Your hand:\", player_hand)\n",
    "    print(\"Computer's hand:\", computer_hand)\n",
    "    \n",
    "    if player_value > computer_value or computer_value > 21:\n",
    "        print(\"You win!\")\n",
    "    elif player_value < computer_value:\n",
    "        print(\"You lose.\")\n",
    "    else:\n",
    "        print(\"It's a tie!\")\n",
    "    \n",
    "# Start the game\n",
    "play_game()"
   ]
  },
  {
   "cell_type": "code",
   "execution_count": 2,
   "id": "e816f8bd-59c7-4818-8cee-6aba22a7a378",
   "metadata": {},
   "outputs": [
    {
     "name": "stdin",
     "output_type": "stream",
     "text": [
      "Enter a number:  60\n"
     ]
    },
    {
     "name": "stdout",
     "output_type": "stream",
     "text": [
      "Prime factors of 60 are: [2, 2, 3, 5]\n"
     ]
    }
   ],
   "source": [
    "#40.Write a program that generates the prime factors of a given number using trial division.\n",
    "def generate_prime_factors(number):\n",
    "    factors = []\n",
    "    divisor = 2\n",
    "\n",
    "    while divisor <= number:\n",
    "        if number % divisor == 0:\n",
    "            factors.append(divisor)\n",
    "            number = number / divisor\n",
    "        else:\n",
    "            divisor += 1\n",
    "\n",
    "    return factors\n",
    "\n",
    "# Example usage\n",
    "number = int(input(\"Enter a number: \"))\n",
    "prime_factors = generate_prime_factors(number)\n",
    "print(\"Prime factors of\", number, \"are:\", prime_factors)"
   ]
  }
 ],
 "metadata": {
  "kernelspec": {
   "display_name": "Python 3 (ipykernel)",
   "language": "python",
   "name": "python3"
  },
  "language_info": {
   "codemirror_mode": {
    "name": "ipython",
    "version": 3
   },
   "file_extension": ".py",
   "mimetype": "text/x-python",
   "name": "python",
   "nbconvert_exporter": "python",
   "pygments_lexer": "ipython3",
   "version": "3.10.8"
  }
 },
 "nbformat": 4,
 "nbformat_minor": 5
}
