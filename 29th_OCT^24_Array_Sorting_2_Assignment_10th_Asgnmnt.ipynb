{
 "cells": [
  {
   "cell_type": "code",
   "execution_count": 1,
   "id": "f3762d45-5f0f-4aee-a654-a9529398f982",
   "metadata": {},
   "outputs": [
    {
     "name": "stdout",
     "output_type": "stream",
     "text": [
      "Output= True\n"
     ]
    }
   ],
   "source": [
    "'''29th_OCT^24_Array_Sorting_2_Assignment_10th_Asgnmnt'''\n",
    "\n",
    "\"\"\"1.Given an array, check if it contains any duplicates or not.\n",
    "arr = [1, 2, 4, 2, 5, 9]\n",
    "Output = True\"\"\"\n",
    "def check_duplicates(arr):\n",
    "    if len(arr)!=len(set(arr)):\n",
    "        return True\n",
    "    return False\n",
    "Array = [1,2,4,2,5,9]\n",
    "print(\"Output=\",check_duplicates(Array))"
   ]
  },
  {
   "cell_type": "code",
   "execution_count": 2,
   "id": "cf4564eb-6985-4ba3-8030-3b45b50d9cb0",
   "metadata": {},
   "outputs": [
    {
     "name": "stdout",
     "output_type": "stream",
     "text": [
      "Output= [5, 6, 7, 1, 2, 3, 4]\n"
     ]
    }
   ],
   "source": [
    "'''2. Given an array and an integer k, rotate the array to the right by k steps.\n",
    "arr = [1, 2, 3, 4, 5, 6, 7] k = 3\n",
    "Output = [5, 6, 7, 1, 2, 3, 4]'''\n",
    "def Rotate_from_l_to_r(arr,k):\n",
    "    rotated_arr = arr[-k:]+arr[:-k] # Use the concept of slicing.\n",
    "    return rotated_arr\n",
    "Array = [1,2,3,4,5,6,7]\n",
    "k = 3\n",
    "print(\"Output=\",Rotate_from_l_to_r(Array,k))"
   ]
  },
  {
   "cell_type": "code",
   "execution_count": 3,
   "id": "2e9fd0f8-bdbe-4f74-bb9b-5978cedc21e8",
   "metadata": {},
   "outputs": [
    {
     "name": "stdout",
     "output_type": "stream",
     "text": [
      "Output= [12, 9, 7, 5, 4, 2]\n"
     ]
    }
   ],
   "source": [
    "\"\"\"3.Reverse the given array in-place, means without using any extra data structure.\n",
    "arr = [2, 4, 5, 7, 9, 12]\n",
    "Output = [12, 9, 7, 5, 4, 2]\"\"\"\n",
    "def Rev_arr(Array):\n",
    "    i = 0\n",
    "    j = len(Array)-1\n",
    "    \n",
    "    while (i<j):\n",
    "        Array[i],Array[j] = Array[j],Array[i]\n",
    "        i += 1\n",
    "        j -= 1\n",
    "        \n",
    "Array = [2, 4, 5, 7, 9, 12]\n",
    "Rev_arr(Array)\n",
    "print(\"Output=\",Array)"
   ]
  },
  {
   "cell_type": "code",
   "execution_count": 4,
   "id": "c4c73e31-a77d-4462-b557-9276deba750b",
   "metadata": {},
   "outputs": [
    {
     "name": "stdout",
     "output_type": "stream",
     "text": [
      "Maximum of the array:- 20\n"
     ]
    }
   ],
   "source": [
    "'''4. Given an array of integers, find the maximum element in an array\n",
    "arr = [10, 5, 20, 8, 15]\n",
    "Output = 20'''\n",
    "#max in Array\n",
    "def Max_rec(arr,sI):\n",
    "    if sI>=len(arr):\n",
    "        return 0\n",
    "    return max(arr[sI], Max_rec(arr,sI+1))\n",
    "arr = [10, 5, 20, 8, 15]\n",
    "sI = 0\n",
    "print(\"Maximum of the array:-\",Max_rec(arr,sI))"
   ]
  },
  {
   "cell_type": "code",
   "execution_count": 5,
   "id": "f487fcb5-c32a-49db-aede-2d7aa5d19c5e",
   "metadata": {},
   "outputs": [
    {
     "name": "stdout",
     "output_type": "stream",
     "text": [
      "Output= [1, 2, 3, 4, 5]\n"
     ]
    }
   ],
   "source": [
    "'''5. Given a sorted array, remove the duplicate element without using any extra data structure.\n",
    "arr = [1, 1, 2, 2, 2, 3, 3, 4, 4, 4, 5, 5]\n",
    "Output = [1, 2, 3, 4, 5]'''\n",
    "def Remove_duplicate(arr):\n",
    "    required_arr = list(set(arr))\n",
    "    return required_arr\n",
    "arr = [1, 1, 2, 2, 2, 3, 3, 4, 4, 4, 5, 5]\n",
    "print(\"Output=\",Remove_duplicate(arr))"
   ]
  },
  {
   "cell_type": "code",
   "execution_count": null,
   "id": "6d57620d-f198-4244-8692-73277ca1eafc",
   "metadata": {},
   "outputs": [],
   "source": []
  }
 ],
 "metadata": {
  "kernelspec": {
   "display_name": "Python 3 (ipykernel)",
   "language": "python",
   "name": "python3"
  },
  "language_info": {
   "codemirror_mode": {
    "name": "ipython",
    "version": 3
   },
   "file_extension": ".py",
   "mimetype": "text/x-python",
   "name": "python",
   "nbconvert_exporter": "python",
   "pygments_lexer": "ipython3",
   "version": "3.10.8"
  }
 },
 "nbformat": 4,
 "nbformat_minor": 5
}
